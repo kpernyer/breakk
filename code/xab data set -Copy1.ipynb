{
 "cells": [
  {
   "cell_type": "code",
   "execution_count": 1,
   "metadata": {},
   "outputs": [
    {
     "name": "stderr",
     "output_type": "stream",
     "text": [
      "C:\\Users\\gilbe\\Anaconda3\\lib\\site-packages\\h5py\\__init__.py:34: FutureWarning: Conversion of the second argument of issubdtype from `float` to `np.floating` is deprecated. In future, it will be treated as `np.float64 == np.dtype(float).type`.\n",
      "  from ._conv import register_converters as _register_converters\n",
      "Using TensorFlow backend.\n"
     ]
    }
   ],
   "source": [
    "import numpy as np\n",
    "import pandas as pd\n",
    "from utils.utils import PROJECT_DATA_DIR\n",
    "import os\n",
    "import mxnet as mx\n",
    "import tarfile\n",
    "import warnings\n",
    "warnings.filterwarnings(\"ignore\")\n",
    "from sklearn.preprocessing import (MinMaxScaler,\n",
    "                                   StandardScaler,\n",
    "                                   Imputer,\n",
    "                                   QuantileTransformer)\n",
    "import matplotlib.pyplot as plt\n",
    "import keras\n",
    "from keras.models import Sequential\n",
    "from keras.layers import Dense, LSTM, Dropout, BatchNormalization\n",
    "from keras import optimizers\n",
    "from sklearn.metrics import f1_score"
   ]
  },
  {
   "cell_type": "code",
   "execution_count": 2,
   "metadata": {
    "collapsed": true
   },
   "outputs": [],
   "source": [
    "train_xab = pd.read_csv(os.path.join(PROJECT_DATA_DIR, 'xab.csv'), \n",
    "                       sep='\\s+', header=None)\n",
    "test_xab = pd.read_csv(os.path.join(PROJECT_DATA_DIR, 'xab_test_400.csv'), \n",
    "                       sep='\\s+', header=None)"
   ]
  },
  {
   "cell_type": "code",
   "execution_count": 3,
   "metadata": {},
   "outputs": [
    {
     "data": {
      "text/plain": [
       "(721548, 1201)"
      ]
     },
     "execution_count": 3,
     "metadata": {},
     "output_type": "execute_result"
    }
   ],
   "source": [
    "train_xab.shape"
   ]
  },
  {
   "cell_type": "code",
   "execution_count": 4,
   "metadata": {},
   "outputs": [
    {
     "data": {
      "text/plain": [
       "(430391, 1201)"
      ]
     },
     "execution_count": 4,
     "metadata": {},
     "output_type": "execute_result"
    }
   ],
   "source": [
    "test_xab.shape"
   ]
  },
  {
   "cell_type": "code",
   "execution_count": null,
   "metadata": {
    "collapsed": true
   },
   "outputs": [],
   "source": []
  },
  {
   "cell_type": "code",
   "execution_count": 5,
   "metadata": {},
   "outputs": [
    {
     "name": "stdout",
     "output_type": "stream",
     "text": [
      "[26 23 21 16 27 -1 24 22 25 15 11 13 10 20 28 18 17 12 14]\n",
      "[22 23 21 -1 13 15 16 10 26 18 11 24 17 27 25 28 14 20 12]\n",
      "(721548, 1200)\n"
     ]
    }
   ],
   "source": [
    "ytrain_xab = train_xab[train_xab.columns[-1]]\n",
    "print(ytrain_xab.unique())\n",
    "xtrain_xab = train_xab.drop(train_xab.columns[-1], axis=1)\n",
    "ytest_xab = test_xab[test_xab.columns[-1]]\n",
    "print(ytest_xab.unique())\n",
    "\n",
    "xtest_xab = test_xab.drop(test_xab.columns[-1], axis=1)\n",
    "ytrain_xab = ytrain_xab.map(lambda x: 1 if x in [12, 13, 17, 20] else 0)\n",
    "ytest_xab = ytest_xab.map(lambda x: 1 if x in [12, 13, 17, 20] else 0)\n",
    "#print(ytrain_sc.unique())\n",
    "#ytrain_sc.head()\n",
    "print(xtrain_xab.shape)"
   ]
  },
  {
   "cell_type": "code",
   "execution_count": 6,
   "metadata": {},
   "outputs": [
    {
     "name": "stdout",
     "output_type": "stream",
     "text": [
      "(721548, 1200)\n",
      "(430391, 1200)\n"
     ]
    }
   ],
   "source": [
    "print(xtrain_xab.shape)\n",
    "print(xtest_xab.shape)"
   ]
  },
  {
   "cell_type": "code",
   "execution_count": 7,
   "metadata": {
    "collapsed": true
   },
   "outputs": [],
   "source": [
    "scaler_xab = QuantileTransformer(copy=False, output_distribution='normal')\n",
    "xtrain_xab_sc = scaler_xab.fit_transform(xtrain_xab)\n",
    "xtest_xab_sc = scaler_xab.transform(xtest_xab)"
   ]
  },
  {
   "cell_type": "code",
   "execution_count": 8,
   "metadata": {
    "collapsed": true
   },
   "outputs": [],
   "source": [
    "#xtrain_xab.head()"
   ]
  },
  {
   "cell_type": "code",
   "execution_count": 9,
   "metadata": {
    "collapsed": true
   },
   "outputs": [],
   "source": [
    "model = Sequential()\n",
    "#model.add(BatchNormalization(input_dim=1200))\n",
    "model.add(Dense(units=1200, activation='relu', input_dim=1200), )\n",
    "model.add(Dropout(0.4))\n",
    "model.add(Dense(units=500))\n",
    "model.add(Dropout(0.4))\n",
    "model.add(Dense(units=75, activation='relu'))\n",
    "model.add(Dropout(0.4))\n",
    "model.add(Dense(units=1, activation='sigmoid'))\n"
   ]
  },
  {
   "cell_type": "code",
   "execution_count": 10,
   "metadata": {},
   "outputs": [
    {
     "name": "stdout",
     "output_type": "stream",
     "text": [
      "WARNING:tensorflow:From C:\\Users\\gilbe\\Anaconda3\\lib\\site-packages\\keras\\backend\\tensorflow_backend.py:1153: calling reduce_mean (from tensorflow.python.ops.math_ops) with keep_dims is deprecated and will be removed in a future version.\n",
      "Instructions for updating:\n",
      "keep_dims is deprecated, use keepdims instead\n"
     ]
    }
   ],
   "source": [
    "lr = 0.001\n",
    "optim = optimizers.Adam(lr=lr,\n",
    "                        beta_1=0.9,\n",
    "                        beta_2=0.999,\n",
    "                        decay=1e-6)\n",
    "model.compile(loss='binary_crossentropy',\n",
    "                        optimizer=optim,\n",
    "                        metrics=['accuracy'])"
   ]
  },
  {
   "cell_type": "code",
   "execution_count": 11,
   "metadata": {},
   "outputs": [
    {
     "name": "stdout",
     "output_type": "stream",
     "text": [
      "Train on 721548 samples, validate on 430391 samples\n",
      "Epoch 1/20\n",
      "721548/721548 [==============================] - 60s - loss: 0.0792 - acc: 0.9681 - val_loss: 0.0577 - val_acc: 0.9800\n",
      "Epoch 2/20\n",
      "721548/721548 [==============================] - 55s - loss: 0.0569 - acc: 0.9805 - val_loss: 0.0471 - val_acc: 0.9833\n",
      "Epoch 3/20\n",
      "721548/721548 [==============================] - 55s - loss: 0.0504 - acc: 0.9836 - val_loss: 0.0474 - val_acc: 0.9841\n",
      "Epoch 4/20\n",
      "721548/721548 [==============================] - 55s - loss: 0.0469 - acc: 0.9852 - val_loss: 0.0466 - val_acc: 0.9858\n",
      "Epoch 5/20\n",
      "721548/721548 [==============================] - 55s - loss: 0.0435 - acc: 0.9864 - val_loss: 0.0423 - val_acc: 0.9863\n",
      "Epoch 6/20\n",
      "721548/721548 [==============================] - 56s - loss: 0.0404 - acc: 0.9876 - val_loss: 0.0423 - val_acc: 0.9863\n",
      "Epoch 7/20\n",
      "721548/721548 [==============================] - 55s - loss: 0.0379 - acc: 0.9884 - val_loss: 0.0451 - val_acc: 0.9865\n",
      "Epoch 8/20\n",
      "721548/721548 [==============================] - 55s - loss: 0.0360 - acc: 0.9891 - val_loss: 0.0440 - val_acc: 0.9863\n",
      "Epoch 9/20\n",
      "721548/721548 [==============================] - 55s - loss: 0.0349 - acc: 0.9895 - val_loss: 0.0480 - val_acc: 0.9870\n",
      "Epoch 10/20\n",
      "721548/721548 [==============================] - 55s - loss: 0.0333 - acc: 0.9900 - val_loss: 0.0430 - val_acc: 0.9865\n",
      "Epoch 11/20\n",
      "721548/721548 [==============================] - 56s - loss: 0.0314 - acc: 0.9904 - val_loss: 0.0469 - val_acc: 0.9859\n",
      "Epoch 12/20\n",
      "721548/721548 [==============================] - 55s - loss: 0.0309 - acc: 0.9908 - val_loss: 0.0504 - val_acc: 0.9855\n",
      "Epoch 13/20\n",
      "721548/721548 [==============================] - 55s - loss: 0.0293 - acc: 0.9914 - val_loss: 0.0503 - val_acc: 0.9868\n",
      "Epoch 14/20\n",
      "721548/721548 [==============================] - 55s - loss: 0.0295 - acc: 0.9913 - val_loss: 0.0474 - val_acc: 0.9863\n",
      "Epoch 15/20\n",
      "721548/721548 [==============================] - 55s - loss: 0.0285 - acc: 0.9915 - val_loss: 0.0553 - val_acc: 0.9868\n",
      "Epoch 16/20\n",
      "721548/721548 [==============================] - 55s - loss: 0.0267 - acc: 0.9919 - val_loss: 0.0534 - val_acc: 0.9866\n",
      "Epoch 17/20\n",
      "721548/721548 [==============================] - 55s - loss: 0.0272 - acc: 0.9918 - val_loss: 0.0549 - val_acc: 0.9870\n",
      "Epoch 18/20\n",
      "721548/721548 [==============================] - 54s - loss: 0.0262 - acc: 0.9918 - val_loss: 0.0572 - val_acc: 0.9860\n",
      "Epoch 19/20\n",
      "721548/721548 [==============================] - 54s - loss: 0.0261 - acc: 0.9915 - val_loss: 0.0582 - val_acc: 0.9859\n",
      "Epoch 20/20\n",
      "721548/721548 [==============================] - 55s - loss: 0.0255 - acc: 0.9920 - val_loss: 0.0585 - val_acc: 0.9857\n"
     ]
    }
   ],
   "source": [
    "history = model.fit(xtrain_xab_sc,\n",
    "                    ytrain_xab,\n",
    "                    epochs=20,\n",
    "                    batch_size=2**9, \n",
    "                    validation_data=(xtest_xab_sc, ytest_xab))"
   ]
  },
  {
   "cell_type": "code",
   "execution_count": 12,
   "metadata": {},
   "outputs": [
    {
     "data": {
      "image/png": "[encoded data removed]",
      "text/plain": [
       "<matplotlib.figure.Figure at 0x1bc077cbb70>"
      ]
     },
     "metadata": {},
     "output_type": "display_data"
    }
   ],
   "source": [
    "plt.figure(figsize=(7,7))\n",
    "plt.plot(history.history['loss'])\n",
    "plt.plot(history.history['val_loss'])\n",
    "plt.xlabel('epoch')\n",
    "#plt.legeng()\n",
    "plt.show()"
   ]
  },
  {
   "cell_type": "code",
   "execution_count": null,
   "metadata": {
    "collapsed": true
   },
   "outputs": [],
   "source": []
  }
 ],
 "metadata": {
  "kernelspec": {
   "display_name": "Python 3",
   "language": "python",
   "name": "python3"
  },
  "language_info": {
   "codemirror_mode": {
    "name": "ipython",
    "version": 3
   },
   "file_extension": ".py",
   "mimetype": "text/x-python",
   "name": "python",
   "nbconvert_exporter": "python",
   "pygments_lexer": "ipython3",
   "version": "3.5.3"
  }
 },
 "nbformat": 4,
 "nbformat_minor": 2
}
