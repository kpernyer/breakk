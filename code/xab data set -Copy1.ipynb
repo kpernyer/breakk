{
 "cells": [
  {
   "cell_type": "code",
   "execution_count": 1,
   "metadata": {},
   "outputs": [
    {
     "name": "stderr",
     "output_type": "stream",
     "text": [
      "C:\\Users\\gilbe\\Anaconda3\\lib\\site-packages\\h5py\\__init__.py:34: FutureWarning: Conversion of the second argument of issubdtype from `float` to `np.floating` is deprecated. In future, it will be treated as `np.float64 == np.dtype(float).type`.\n",
      "  from ._conv import register_converters as _register_converters\n",
      "Using TensorFlow backend.\n"
     ]
    }
   ],
   "source": [
    "import numpy as np\n",
    "import pandas as pd\n",
    "from utils.utils import PROJECT_DATA_DIR\n",
    "import os\n",
    "import mxnet as mx\n",
    "import tarfile\n",
    "import warnings\n",
    "warnings.filterwarnings(\"ignore\")\n",
    "from sklearn.preprocessing import (MinMaxScaler,\n",
    "                                   StandardScaler,\n",
    "                                   Imputer,\n",
    "                                   QuantileTransformer)\n",
    "import matplotlib.pyplot as plt\n",
    "import keras\n",
    "from keras.models import Sequential\n",
    "from keras.layers import Dense, LSTM, Dropout, BatchNormalization\n",
    "from keras import optimizers\n",
    "from sklearn.metrics import f1_score"
   ]
  },
  {
   "cell_type": "code",
   "execution_count": 2,
   "metadata": {
    "collapsed": true
   },
   "outputs": [],
   "source": [
    "train_xab = pd.read_csv(os.path.join(PROJECT_DATA_DIR, 'xab.csv'), \n",
    "                       sep='\\s+', header=None)\n",
    "test_xab = pd.read_csv(os.path.join(PROJECT_DATA_DIR, 'xab_test_400.csv'), \n",
    "                       sep='\\s+', header=None)"
   ]
  },
  {
   "cell_type": "code",
   "execution_count": 3,
   "metadata": {},
   "outputs": [
    {
     "data": {
      "text/plain": [
       "(721548, 1201)"
      ]
     },
     "execution_count": 3,
     "metadata": {},
     "output_type": "execute_result"
    }
   ],
   "source": [
    "train_xab.shape"
   ]
  },
  {
   "cell_type": "code",
   "execution_count": 4,
   "metadata": {},
   "outputs": [
    {
     "data": {
      "text/plain": [
       "(430391, 1201)"
      ]
     },
     "execution_count": 4,
     "metadata": {},
     "output_type": "execute_result"
    }
   ],
   "source": [
    "test_xab.shape"
   ]
  },
  {
   "cell_type": "code",
   "execution_count": null,
   "metadata": {
    "collapsed": true
   },
   "outputs": [],
   "source": []
  },
  {
   "cell_type": "code",
   "execution_count": 5,
   "metadata": {},
   "outputs": [
    {
     "name": "stdout",
     "output_type": "stream",
     "text": [
      "[26 23 21 16 27 -1 24 22 25 15 11 13 10 20 28 18 17 12 14]\n",
      "[22 23 21 -1 13 15 16 10 26 18 11 24 17 27 25 28 14 20 12]\n",
      "(721548, 1200)\n"
     ]
    }
   ],
   "source": [
    "ytrain_xab = train_xab[train_xab.columns[-1]]\n",
    "print(ytrain_xab.unique())\n",
    "xtrain_xab = train_xab.drop(train_xab.columns[-1], axis=1)\n",
    "ytest_xab = test_xab[test_xab.columns[-1]]\n",
    "print(ytest_xab.unique())\n",
    "\n",
    "xtest_xab = test_xab.drop(test_xab.columns[-1], axis=1)\n",
    "ytrain_xab = ytrain_xab.map(lambda x: 1 if x in [12, 13, 17, 20] else 0)\n",
    "ytest_xab = ytest_xab.map(lambda x: 1 if x in [12, 13, 17, 20] else 0)\n",
    "#print(ytrain_sc.unique())\n",
    "#ytrain_sc.head()\n",
    "print(xtrain_xab.shape)"
   ]
  },
  {
   "cell_type": "code",
   "execution_count": null,
   "metadata": {},
   "outputs": [
    {
     "name": "stdout",
     "output_type": "stream",
     "text": [
      "(721548, 1200)\n",
      "(430391, 1200)\n"
     ]
    }
   ],
   "source": [
    "print(xtrain_xab.shape)\n",
    "print(xtest_xab.shape)"
   ]
  },
  {
   "cell_type": "code",
   "execution_count": null,
   "metadata": {},
   "outputs": [],
   "source": [
    "scaler_xab = QuantileTransformer(copy=False, output_distribution='normal')\n",
    "xtrain_xab_sc = scaler_xab.fit_transform(xtrain_xab)\n",
    "xtest_xab_sc = scaler_xab.transform(xtest_xab)"
   ]
  },
  {
   "cell_type": "code",
   "execution_count": null,
   "metadata": {
    "collapsed": true
   },
   "outputs": [],
   "source": [
    "#xtrain_xab.head()"
   ]
  },
  {
   "cell_type": "code",
   "execution_count": null,
   "metadata": {
    "collapsed": true
   },
   "outputs": [],
   "source": [
    "model = Sequential()\n",
    "#model.add(BatchNormalization(input_dim=1200))\n",
    "model.add(Dense(units=1200, activation='relu', input_dim=1200), )\n",
    "model.add(Dropout(0.4))\n",
    "model.add(Dense(units=500))\n",
    "model.add(Dropout(0.4))\n",
    "model.add(Dense(units=75, activation='relu'))\n",
    "model.add(Dropout(0.4))\n",
    "model.add(Dense(units=1, activation='sigmoid'))\n"
   ]
  },
  {
   "cell_type": "code",
   "execution_count": null,
   "metadata": {
    "collapsed": true
   },
   "outputs": [],
   "source": [
    "lr = 0.001\n",
    "optim = optimizers.Adam(lr=lr,\n",
    "                        beta_1=0.9,\n",
    "                        beta_2=0.999,\n",
    "                        decay=1e-6)\n",
    "model.compile(loss='binary_crossentropy',\n",
    "                        optimizer=optim,\n",
    "                        metrics=['accuracy'])"
   ]
  },
  {
   "cell_type": "code",
   "execution_count": null,
   "metadata": {
    "collapsed": true
   },
   "outputs": [],
   "source": [
    "history = model.fit(xtrain_xab_sc,\n",
    "                    ytrain_xab,\n",
    "                    epochs=20,\n",
    "                    batch_size=2**9, \n",
    "                    validation_data=(xtest_xab_sc, ytest_xab))"
   ]
  },
  {
   "cell_type": "code",
   "execution_count": null,
   "metadata": {
    "collapsed": true
   },
   "outputs": [],
   "source": [
    "plt.figure(figsize=(7,7))\n",
    "plt.plot(history.history['loss'])\n",
    "plt.plot(history.history['val_loss'])\n",
    "plt.xlabel('epoch')\n",
    "#plt.legeng()\n",
    "plt.show()"
   ]
  },
  {
   "cell_type": "code",
   "execution_count": null,
   "metadata": {
    "collapsed": true
   },
   "outputs": [],
   "source": []
  }
 ],
 "metadata": {
  "kernelspec": {
   "display_name": "Python 3",
   "language": "python",
   "name": "python3"
  },
  "language_info": {
   "codemirror_mode": {
    "name": "ipython",
    "version": 3
   },
   "file_extension": ".py",
   "mimetype": "text/x-python",
   "name": "python",
   "nbconvert_exporter": "python",
   "pygments_lexer": "ipython3",
   "version": "3.5.3"
  }
 },
 "nbformat": 4,
 "nbformat_minor": 2
}
