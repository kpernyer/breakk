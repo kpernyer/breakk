{
 "cells": [
  {
   "cell_type": "code",
   "execution_count": 1,
   "metadata": {},
   "outputs": [
    {
     "name": "stderr",
     "output_type": "stream",
     "text": [
      "/Users/gusryd/anaconda3/lib/python3.6/site-packages/h5py/__init__.py:34: FutureWarning: Conversion of the second argument of issubdtype from `float` to `np.floating` is deprecated. In future, it will be treated as `np.float64 == np.dtype(float).type`.\n",
      "  from ._conv import register_converters as _register_converters\n",
      "/Users/gusryd/anaconda3/lib/python3.6/site-packages/urllib3/contrib/pyopenssl.py:46: DeprecationWarning: OpenSSL.rand is deprecated - you should use os.urandom instead\n",
      "  import OpenSSL.SSL\n"
     ]
    }
   ],
   "source": [
    "import numpy as np\n",
    "import pandas as pd\n",
    "from utils.utils import PROJECT_DATA_DIR\n",
    "import os\n",
    "import mxnet as mx\n",
    "import tarfile\n",
    "import warnings\n",
    "warnings.filterwarnings(\"ignore\")"
   ]
  },
  {
   "cell_type": "code",
   "execution_count": 2,
   "metadata": {},
   "outputs": [],
   "source": [
    "#karm  = pd.read_csv(os.path.join(PROJECT_DATA_DIR, 'all_training_400_karm.csv'), sep='\\s+', header=None)"
   ]
  },
  {
   "cell_type": "code",
   "execution_count": 3,
   "metadata": {
    "collapsed": true,
    "scrolled": true
   },
   "outputs": [],
   "source": [
    "#karm.head()"
   ]
  },
  {
   "cell_type": "code",
   "execution_count": 4,
   "metadata": {
    "collapsed": true
   },
   "outputs": [],
   "source": [
    "#print(karm.shape)\n",
    "#print('labels:', karm[karm.columns[-1]].unique())"
   ]
  },
  {
   "cell_type": "code",
   "execution_count": 5,
   "metadata": {
    "collapsed": true
   },
   "outputs": [],
   "source": [
    "#data = pd.read_csv(os.path.join(PROJECT_DATA_DIR, 'all_training_200_4.csv'), sep='\\s+', header=None)"
   ]
  },
  {
   "cell_type": "code",
   "execution_count": 6,
   "metadata": {
    "collapsed": true
   },
   "outputs": [],
   "source": [
    "#df = pd.read_csv(os.path.join(PROJECT_DATA_DIR, 'all_training_100.csv'),sep='\\s+', header=None)"
   ]
  },
  {
   "cell_type": "code",
   "execution_count": 7,
   "metadata": {
    "collapsed": true
   },
   "outputs": [],
   "source": [
    "#df.head()"
   ]
  },
  {
   "cell_type": "code",
   "execution_count": 8,
   "metadata": {
    "collapsed": true
   },
   "outputs": [],
   "source": [
    "#print(df.shape)\n",
    "#print('labels:', df[df.columns[-1]].unique())\n"
   ]
  },
  {
   "cell_type": "code",
   "execution_count": 9,
   "metadata": {
    "collapsed": true
   },
   "outputs": [],
   "source": [
    "#print(data[data.columns[-1]].unique())\n",
    "#data.head()"
   ]
  },
  {
   "cell_type": "code",
   "execution_count": 10,
   "metadata": {
    "collapsed": true
   },
   "outputs": [],
   "source": [
    "#data.shape"
   ]
  },
  {
   "cell_type": "code",
   "execution_count": 11,
   "metadata": {
    "collapsed": true
   },
   "outputs": [],
   "source": [
    "#df1 = pd.read_csv(os.path.join(PROJECT_DATA_DIR, 'all_test_2000_1.csv'),sep='\\s+', header=None)"
   ]
  },
  {
   "cell_type": "code",
   "execution_count": 12,
   "metadata": {
    "collapsed": true
   },
   "outputs": [],
   "source": [
    "#df1.head()"
   ]
  },
  {
   "cell_type": "code",
   "execution_count": 13,
   "metadata": {
    "collapsed": true
   },
   "outputs": [],
   "source": [
    "#df1.shape"
   ]
  },
  {
   "cell_type": "code",
   "execution_count": null,
   "metadata": {
    "collapsed": true
   },
   "outputs": [],
   "source": []
  },
  {
   "cell_type": "code",
   "execution_count": 14,
   "metadata": {
    "collapsed": true
   },
   "outputs": [],
   "source": [
    "#data_iter = mx.io.CSVIter(\n",
    "#    data_csv=os.path.join(PROJECT_DATA_DIR, 'all_test_2000_1.csv'),data_shape=(1,), batch_size=2**9)"
   ]
  },
  {
   "cell_type": "code",
   "execution_count": 15,
   "metadata": {
    "collapsed": true
   },
   "outputs": [],
   "source": [
    "#data_iter"
   ]
  },
  {
   "cell_type": "code",
   "execution_count": 16,
   "metadata": {
    "collapsed": true,
    "scrolled": true
   },
   "outputs": [],
   "source": [
    "#for batch in data_iter:\n",
    "#    print([batch.data, batch.pad])"
   ]
  },
  {
   "cell_type": "code",
   "execution_count": 17,
   "metadata": {
    "collapsed": true
   },
   "outputs": [],
   "source": [
    "# Work with neural networks"
   ]
  },
  {
   "cell_type": "code",
   "execution_count": 18,
   "metadata": {
    "collapsed": true
   },
   "outputs": [],
   "source": [
    "sensor_train = pd.read_csv(os.path.join(PROJECT_DATA_DIR, \n",
    "                                        'all_training_400_minisensor_1.csv'), \n",
    "                           sep='\\s+', header=None)\n",
    "\n",
    "sensor_test = pd.read_csv(os.path.join(PROJECT_DATA_DIR, \n",
    "                                       'all_test_400_minisensor.csv'),\n",
    "                          sep='\\s+', header=None)"
   ]
  },
  {
   "cell_type": "code",
   "execution_count": 19,
   "metadata": {},
   "outputs": [
    {
     "data": {
      "text/html": [
       "<div>\n",
       "<style>\n",
       "    .dataframe thead tr:only-child th {\n",
       "        text-align: right;\n",
       "    }\n",
       "\n",
       "    .dataframe thead th {\n",
       "        text-align: left;\n",
       "    }\n",
       "\n",
       "    .dataframe tbody tr th {\n",
       "        vertical-align: top;\n",
       "    }\n",
       "</style>\n",
       "<table border=\"1\" class=\"dataframe\">\n",
       "  <thead>\n",
       "    <tr style=\"text-align: right;\">\n",
       "      <th></th>\n",
       "      <th>0</th>\n",
       "      <th>1</th>\n",
       "      <th>2</th>\n",
       "      <th>3</th>\n",
       "      <th>4</th>\n",
       "      <th>5</th>\n",
       "      <th>6</th>\n",
       "      <th>7</th>\n",
       "      <th>8</th>\n",
       "      <th>9</th>\n",
       "      <th>...</th>\n",
       "      <th>1191</th>\n",
       "      <th>1192</th>\n",
       "      <th>1193</th>\n",
       "      <th>1194</th>\n",
       "      <th>1195</th>\n",
       "      <th>1196</th>\n",
       "      <th>1197</th>\n",
       "      <th>1198</th>\n",
       "      <th>1199</th>\n",
       "      <th>1200</th>\n",
       "    </tr>\n",
       "  </thead>\n",
       "  <tbody>\n",
       "    <tr>\n",
       "      <th>0</th>\n",
       "      <td>-3</td>\n",
       "      <td>3</td>\n",
       "      <td>4</td>\n",
       "      <td>-3</td>\n",
       "      <td>3</td>\n",
       "      <td>4</td>\n",
       "      <td>1</td>\n",
       "      <td>-3</td>\n",
       "      <td>2</td>\n",
       "      <td>0</td>\n",
       "      <td>...</td>\n",
       "      <td>0</td>\n",
       "      <td>0</td>\n",
       "      <td>0</td>\n",
       "      <td>3</td>\n",
       "      <td>0</td>\n",
       "      <td>-4</td>\n",
       "      <td>-2</td>\n",
       "      <td>0</td>\n",
       "      <td>-5</td>\n",
       "      <td>8</td>\n",
       "    </tr>\n",
       "    <tr>\n",
       "      <th>1</th>\n",
       "      <td>3</td>\n",
       "      <td>0</td>\n",
       "      <td>0</td>\n",
       "      <td>1</td>\n",
       "      <td>0</td>\n",
       "      <td>0</td>\n",
       "      <td>0</td>\n",
       "      <td>2</td>\n",
       "      <td>0</td>\n",
       "      <td>0</td>\n",
       "      <td>...</td>\n",
       "      <td>-1</td>\n",
       "      <td>0</td>\n",
       "      <td>-7</td>\n",
       "      <td>3</td>\n",
       "      <td>-1</td>\n",
       "      <td>-7</td>\n",
       "      <td>7</td>\n",
       "      <td>-1</td>\n",
       "      <td>-5</td>\n",
       "      <td>7</td>\n",
       "    </tr>\n",
       "    <tr>\n",
       "      <th>2</th>\n",
       "      <td>1</td>\n",
       "      <td>-3</td>\n",
       "      <td>7</td>\n",
       "      <td>0</td>\n",
       "      <td>1</td>\n",
       "      <td>4</td>\n",
       "      <td>-3</td>\n",
       "      <td>4</td>\n",
       "      <td>0</td>\n",
       "      <td>-2</td>\n",
       "      <td>...</td>\n",
       "      <td>-4</td>\n",
       "      <td>1</td>\n",
       "      <td>8</td>\n",
       "      <td>-2</td>\n",
       "      <td>1</td>\n",
       "      <td>12</td>\n",
       "      <td>0</td>\n",
       "      <td>4</td>\n",
       "      <td>11</td>\n",
       "      <td>4</td>\n",
       "    </tr>\n",
       "    <tr>\n",
       "      <th>3</th>\n",
       "      <td>4</td>\n",
       "      <td>1</td>\n",
       "      <td>-1</td>\n",
       "      <td>3</td>\n",
       "      <td>4</td>\n",
       "      <td>-8</td>\n",
       "      <td>3</td>\n",
       "      <td>4</td>\n",
       "      <td>-1</td>\n",
       "      <td>3</td>\n",
       "      <td>...</td>\n",
       "      <td>0</td>\n",
       "      <td>4</td>\n",
       "      <td>-5</td>\n",
       "      <td>-1</td>\n",
       "      <td>3</td>\n",
       "      <td>6</td>\n",
       "      <td>3</td>\n",
       "      <td>4</td>\n",
       "      <td>7</td>\n",
       "      <td>6</td>\n",
       "    </tr>\n",
       "    <tr>\n",
       "      <th>4</th>\n",
       "      <td>0</td>\n",
       "      <td>-4</td>\n",
       "      <td>0</td>\n",
       "      <td>5</td>\n",
       "      <td>0</td>\n",
       "      <td>0</td>\n",
       "      <td>5</td>\n",
       "      <td>0</td>\n",
       "      <td>-5</td>\n",
       "      <td>0</td>\n",
       "      <td>...</td>\n",
       "      <td>0</td>\n",
       "      <td>-4</td>\n",
       "      <td>-4</td>\n",
       "      <td>3</td>\n",
       "      <td>3</td>\n",
       "      <td>0</td>\n",
       "      <td>4</td>\n",
       "      <td>3</td>\n",
       "      <td>1</td>\n",
       "      <td>8</td>\n",
       "    </tr>\n",
       "  </tbody>\n",
       "</table>\n",
       "<p>5 rows × 1201 columns</p>\n",
       "</div>"
      ],
      "text/plain": [
       "   0     1     2     3     4     5     6     7     8     9     ...   1191  \\\n",
       "0    -3     3     4    -3     3     4     1    -3     2     0  ...      0   \n",
       "1     3     0     0     1     0     0     0     2     0     0  ...     -1   \n",
       "2     1    -3     7     0     1     4    -3     4     0    -2  ...     -4   \n",
       "3     4     1    -1     3     4    -8     3     4    -1     3  ...      0   \n",
       "4     0    -4     0     5     0     0     5     0    -5     0  ...      0   \n",
       "\n",
       "   1192  1193  1194  1195  1196  1197  1198  1199  1200  \n",
       "0     0     0     3     0    -4    -2     0    -5     8  \n",
       "1     0    -7     3    -1    -7     7    -1    -5     7  \n",
       "2     1     8    -2     1    12     0     4    11     4  \n",
       "3     4    -5    -1     3     6     3     4     7     6  \n",
       "4    -4    -4     3     3     0     4     3     1     8  \n",
       "\n",
       "[5 rows x 1201 columns]"
      ]
     },
     "execution_count": 19,
     "metadata": {},
     "output_type": "execute_result"
    }
   ],
   "source": [
    "sensor_train.head()"
   ]
  },
  {
   "cell_type": "code",
   "execution_count": 20,
   "metadata": {},
   "outputs": [
    {
     "data": {
      "text/html": [
       "<div>\n",
       "<style>\n",
       "    .dataframe thead tr:only-child th {\n",
       "        text-align: right;\n",
       "    }\n",
       "\n",
       "    .dataframe thead th {\n",
       "        text-align: left;\n",
       "    }\n",
       "\n",
       "    .dataframe tbody tr th {\n",
       "        vertical-align: top;\n",
       "    }\n",
       "</style>\n",
       "<table border=\"1\" class=\"dataframe\">\n",
       "  <thead>\n",
       "    <tr style=\"text-align: right;\">\n",
       "      <th></th>\n",
       "      <th>0</th>\n",
       "      <th>1</th>\n",
       "      <th>2</th>\n",
       "      <th>3</th>\n",
       "      <th>4</th>\n",
       "      <th>5</th>\n",
       "      <th>6</th>\n",
       "      <th>7</th>\n",
       "      <th>8</th>\n",
       "      <th>9</th>\n",
       "      <th>...</th>\n",
       "      <th>1191</th>\n",
       "      <th>1192</th>\n",
       "      <th>1193</th>\n",
       "      <th>1194</th>\n",
       "      <th>1195</th>\n",
       "      <th>1196</th>\n",
       "      <th>1197</th>\n",
       "      <th>1198</th>\n",
       "      <th>1199</th>\n",
       "      <th>1200</th>\n",
       "    </tr>\n",
       "  </thead>\n",
       "  <tbody>\n",
       "    <tr>\n",
       "      <th>0</th>\n",
       "      <td>1</td>\n",
       "      <td>-1</td>\n",
       "      <td>-1</td>\n",
       "      <td>0</td>\n",
       "      <td>2</td>\n",
       "      <td>-1</td>\n",
       "      <td>-2</td>\n",
       "      <td>2</td>\n",
       "      <td>1</td>\n",
       "      <td>-2</td>\n",
       "      <td>...</td>\n",
       "      <td>-2</td>\n",
       "      <td>-3</td>\n",
       "      <td>0</td>\n",
       "      <td>0</td>\n",
       "      <td>0</td>\n",
       "      <td>1</td>\n",
       "      <td>0</td>\n",
       "      <td>2</td>\n",
       "      <td>0</td>\n",
       "      <td>8</td>\n",
       "    </tr>\n",
       "    <tr>\n",
       "      <th>1</th>\n",
       "      <td>3</td>\n",
       "      <td>6</td>\n",
       "      <td>-13</td>\n",
       "      <td>3</td>\n",
       "      <td>6</td>\n",
       "      <td>-8</td>\n",
       "      <td>3</td>\n",
       "      <td>6</td>\n",
       "      <td>-2</td>\n",
       "      <td>-1</td>\n",
       "      <td>...</td>\n",
       "      <td>-1</td>\n",
       "      <td>7</td>\n",
       "      <td>44</td>\n",
       "      <td>14</td>\n",
       "      <td>7</td>\n",
       "      <td>51</td>\n",
       "      <td>23</td>\n",
       "      <td>11</td>\n",
       "      <td>59</td>\n",
       "      <td>6</td>\n",
       "    </tr>\n",
       "    <tr>\n",
       "      <th>2</th>\n",
       "      <td>-1</td>\n",
       "      <td>2</td>\n",
       "      <td>-1</td>\n",
       "      <td>2</td>\n",
       "      <td>0</td>\n",
       "      <td>-1</td>\n",
       "      <td>-4</td>\n",
       "      <td>-3</td>\n",
       "      <td>0</td>\n",
       "      <td>-4</td>\n",
       "      <td>...</td>\n",
       "      <td>-1</td>\n",
       "      <td>0</td>\n",
       "      <td>-1</td>\n",
       "      <td>-1</td>\n",
       "      <td>0</td>\n",
       "      <td>-8</td>\n",
       "      <td>-3</td>\n",
       "      <td>0</td>\n",
       "      <td>-3</td>\n",
       "      <td>5</td>\n",
       "    </tr>\n",
       "    <tr>\n",
       "      <th>3</th>\n",
       "      <td>48</td>\n",
       "      <td>18</td>\n",
       "      <td>-57</td>\n",
       "      <td>48</td>\n",
       "      <td>-3</td>\n",
       "      <td>-148</td>\n",
       "      <td>37</td>\n",
       "      <td>-33</td>\n",
       "      <td>-241</td>\n",
       "      <td>29</td>\n",
       "      <td>...</td>\n",
       "      <td>4</td>\n",
       "      <td>0</td>\n",
       "      <td>-17</td>\n",
       "      <td>9</td>\n",
       "      <td>0</td>\n",
       "      <td>-17</td>\n",
       "      <td>6</td>\n",
       "      <td>0</td>\n",
       "      <td>-21</td>\n",
       "      <td>8</td>\n",
       "    </tr>\n",
       "    <tr>\n",
       "      <th>4</th>\n",
       "      <td>-2</td>\n",
       "      <td>-2</td>\n",
       "      <td>0</td>\n",
       "      <td>0</td>\n",
       "      <td>-3</td>\n",
       "      <td>1</td>\n",
       "      <td>-3</td>\n",
       "      <td>0</td>\n",
       "      <td>0</td>\n",
       "      <td>3</td>\n",
       "      <td>...</td>\n",
       "      <td>0</td>\n",
       "      <td>0</td>\n",
       "      <td>4</td>\n",
       "      <td>0</td>\n",
       "      <td>-3</td>\n",
       "      <td>6</td>\n",
       "      <td>3</td>\n",
       "      <td>-3</td>\n",
       "      <td>4</td>\n",
       "      <td>8</td>\n",
       "    </tr>\n",
       "  </tbody>\n",
       "</table>\n",
       "<p>5 rows × 1201 columns</p>\n",
       "</div>"
      ],
      "text/plain": [
       "   0     1     2     3     4     5     6     7     8     9     ...   1191  \\\n",
       "0     1    -1    -1     0     2    -1    -2     2     1    -2  ...     -2   \n",
       "1     3     6   -13     3     6    -8     3     6    -2    -1  ...     -1   \n",
       "2    -1     2    -1     2     0    -1    -4    -3     0    -4  ...     -1   \n",
       "3    48    18   -57    48    -3  -148    37   -33  -241    29  ...      4   \n",
       "4    -2    -2     0     0    -3     1    -3     0     0     3  ...      0   \n",
       "\n",
       "   1192  1193  1194  1195  1196  1197  1198  1199  1200  \n",
       "0    -3     0     0     0     1     0     2     0     8  \n",
       "1     7    44    14     7    51    23    11    59     6  \n",
       "2     0    -1    -1     0    -8    -3     0    -3     5  \n",
       "3     0   -17     9     0   -17     6     0   -21     8  \n",
       "4     0     4     0    -3     6     3    -3     4     8  \n",
       "\n",
       "[5 rows x 1201 columns]"
      ]
     },
     "execution_count": 20,
     "metadata": {},
     "output_type": "execute_result"
    }
   ],
   "source": [
    "sensor_test.head()"
   ]
  },
  {
   "cell_type": "code",
   "execution_count": 21,
   "metadata": {},
   "outputs": [
    {
     "data": {
      "text/plain": [
       "array([ 8,  7,  4,  6, -1,  1,  5,  2,  9,  3,  0])"
      ]
     },
     "execution_count": 21,
     "metadata": {},
     "output_type": "execute_result"
    }
   ],
   "source": [
    "sensor_train[sensor_train.columns[-1]].unique()"
   ]
  },
  {
   "cell_type": "code",
   "execution_count": 22,
   "metadata": {},
   "outputs": [
    {
     "data": {
      "text/plain": [
       "array([ 8,  7,  4,  6, -1,  1,  5,  2,  9,  3,  0])"
      ]
     },
     "execution_count": 22,
     "metadata": {},
     "output_type": "execute_result"
    }
   ],
   "source": [
    "sensor_train[sensor_train.columns[-1]].unique()"
   ]
  },
  {
   "cell_type": "code",
   "execution_count": 23,
   "metadata": {},
   "outputs": [
    {
     "data": {
      "text/plain": [
       "array([ 8,  6,  5,  4,  0, -1,  2,  1,  9,  7,  3])"
      ]
     },
     "execution_count": 23,
     "metadata": {},
     "output_type": "execute_result"
    }
   ],
   "source": [
    "sensor_test[sensor_test.columns[-1]].unique()"
   ]
  },
  {
   "cell_type": "code",
   "execution_count": 24,
   "metadata": {
    "collapsed": true
   },
   "outputs": [],
   "source": [
    "from sklearn.preprocessing import (MinMaxScaler,\n",
    "                                   StandardScaler,\n",
    "                                   Imputer,\n",
    "                                   QuantileTransformer)"
   ]
  },
  {
   "cell_type": "code",
   "execution_count": null,
   "metadata": {
    "collapsed": true
   },
   "outputs": [],
   "source": []
  },
  {
   "cell_type": "code",
   "execution_count": 25,
   "metadata": {
    "collapsed": true
   },
   "outputs": [],
   "source": [
    "ytrain = sensor_train[sensor_train.columns[-1]]\n",
    "#ytrain.head()\n",
    "xtrain = sensor_train.drop(sensor_train.columns[-1], axis=1) "
   ]
  },
  {
   "cell_type": "code",
   "execution_count": 26,
   "metadata": {},
   "outputs": [
    {
     "data": {
      "text/html": [
       "<div>\n",
       "<style>\n",
       "    .dataframe thead tr:only-child th {\n",
       "        text-align: right;\n",
       "    }\n",
       "\n",
       "    .dataframe thead th {\n",
       "        text-align: left;\n",
       "    }\n",
       "\n",
       "    .dataframe tbody tr th {\n",
       "        vertical-align: top;\n",
       "    }\n",
       "</style>\n",
       "<table border=\"1\" class=\"dataframe\">\n",
       "  <thead>\n",
       "    <tr style=\"text-align: right;\">\n",
       "      <th></th>\n",
       "      <th>0</th>\n",
       "      <th>1</th>\n",
       "      <th>2</th>\n",
       "      <th>3</th>\n",
       "      <th>4</th>\n",
       "      <th>5</th>\n",
       "      <th>6</th>\n",
       "      <th>7</th>\n",
       "      <th>8</th>\n",
       "      <th>9</th>\n",
       "      <th>...</th>\n",
       "      <th>1190</th>\n",
       "      <th>1191</th>\n",
       "      <th>1192</th>\n",
       "      <th>1193</th>\n",
       "      <th>1194</th>\n",
       "      <th>1195</th>\n",
       "      <th>1196</th>\n",
       "      <th>1197</th>\n",
       "      <th>1198</th>\n",
       "      <th>1199</th>\n",
       "    </tr>\n",
       "  </thead>\n",
       "  <tbody>\n",
       "    <tr>\n",
       "      <th>0</th>\n",
       "      <td>-3</td>\n",
       "      <td>3</td>\n",
       "      <td>4</td>\n",
       "      <td>-3</td>\n",
       "      <td>3</td>\n",
       "      <td>4</td>\n",
       "      <td>1</td>\n",
       "      <td>-3</td>\n",
       "      <td>2</td>\n",
       "      <td>0</td>\n",
       "      <td>...</td>\n",
       "      <td>-1</td>\n",
       "      <td>0</td>\n",
       "      <td>0</td>\n",
       "      <td>0</td>\n",
       "      <td>3</td>\n",
       "      <td>0</td>\n",
       "      <td>-4</td>\n",
       "      <td>-2</td>\n",
       "      <td>0</td>\n",
       "      <td>-5</td>\n",
       "    </tr>\n",
       "    <tr>\n",
       "      <th>1</th>\n",
       "      <td>3</td>\n",
       "      <td>0</td>\n",
       "      <td>0</td>\n",
       "      <td>1</td>\n",
       "      <td>0</td>\n",
       "      <td>0</td>\n",
       "      <td>0</td>\n",
       "      <td>2</td>\n",
       "      <td>0</td>\n",
       "      <td>0</td>\n",
       "      <td>...</td>\n",
       "      <td>-8</td>\n",
       "      <td>-1</td>\n",
       "      <td>0</td>\n",
       "      <td>-7</td>\n",
       "      <td>3</td>\n",
       "      <td>-1</td>\n",
       "      <td>-7</td>\n",
       "      <td>7</td>\n",
       "      <td>-1</td>\n",
       "      <td>-5</td>\n",
       "    </tr>\n",
       "    <tr>\n",
       "      <th>2</th>\n",
       "      <td>1</td>\n",
       "      <td>-3</td>\n",
       "      <td>7</td>\n",
       "      <td>0</td>\n",
       "      <td>1</td>\n",
       "      <td>4</td>\n",
       "      <td>-3</td>\n",
       "      <td>4</td>\n",
       "      <td>0</td>\n",
       "      <td>-2</td>\n",
       "      <td>...</td>\n",
       "      <td>4</td>\n",
       "      <td>-4</td>\n",
       "      <td>1</td>\n",
       "      <td>8</td>\n",
       "      <td>-2</td>\n",
       "      <td>1</td>\n",
       "      <td>12</td>\n",
       "      <td>0</td>\n",
       "      <td>4</td>\n",
       "      <td>11</td>\n",
       "    </tr>\n",
       "    <tr>\n",
       "      <th>3</th>\n",
       "      <td>4</td>\n",
       "      <td>1</td>\n",
       "      <td>-1</td>\n",
       "      <td>3</td>\n",
       "      <td>4</td>\n",
       "      <td>-8</td>\n",
       "      <td>3</td>\n",
       "      <td>4</td>\n",
       "      <td>-1</td>\n",
       "      <td>3</td>\n",
       "      <td>...</td>\n",
       "      <td>-1</td>\n",
       "      <td>0</td>\n",
       "      <td>4</td>\n",
       "      <td>-5</td>\n",
       "      <td>-1</td>\n",
       "      <td>3</td>\n",
       "      <td>6</td>\n",
       "      <td>3</td>\n",
       "      <td>4</td>\n",
       "      <td>7</td>\n",
       "    </tr>\n",
       "    <tr>\n",
       "      <th>4</th>\n",
       "      <td>0</td>\n",
       "      <td>-4</td>\n",
       "      <td>0</td>\n",
       "      <td>5</td>\n",
       "      <td>0</td>\n",
       "      <td>0</td>\n",
       "      <td>5</td>\n",
       "      <td>0</td>\n",
       "      <td>-5</td>\n",
       "      <td>0</td>\n",
       "      <td>...</td>\n",
       "      <td>4</td>\n",
       "      <td>0</td>\n",
       "      <td>-4</td>\n",
       "      <td>-4</td>\n",
       "      <td>3</td>\n",
       "      <td>3</td>\n",
       "      <td>0</td>\n",
       "      <td>4</td>\n",
       "      <td>3</td>\n",
       "      <td>1</td>\n",
       "    </tr>\n",
       "  </tbody>\n",
       "</table>\n",
       "<p>5 rows × 1200 columns</p>\n",
       "</div>"
      ],
      "text/plain": [
       "   0     1     2     3     4     5     6     7     8     9     ...   1190  \\\n",
       "0    -3     3     4    -3     3     4     1    -3     2     0  ...     -1   \n",
       "1     3     0     0     1     0     0     0     2     0     0  ...     -8   \n",
       "2     1    -3     7     0     1     4    -3     4     0    -2  ...      4   \n",
       "3     4     1    -1     3     4    -8     3     4    -1     3  ...     -1   \n",
       "4     0    -4     0     5     0     0     5     0    -5     0  ...      4   \n",
       "\n",
       "   1191  1192  1193  1194  1195  1196  1197  1198  1199  \n",
       "0     0     0     0     3     0    -4    -2     0    -5  \n",
       "1    -1     0    -7     3    -1    -7     7    -1    -5  \n",
       "2    -4     1     8    -2     1    12     0     4    11  \n",
       "3     0     4    -5    -1     3     6     3     4     7  \n",
       "4     0    -4    -4     3     3     0     4     3     1  \n",
       "\n",
       "[5 rows x 1200 columns]"
      ]
     },
     "execution_count": 26,
     "metadata": {},
     "output_type": "execute_result"
    }
   ],
   "source": [
    "xtrain.head()"
   ]
  },
  {
   "cell_type": "code",
   "execution_count": 27,
   "metadata": {
    "collapsed": true
   },
   "outputs": [],
   "source": [
    "ytest = sensor_test[sensor_test.columns[-1]]\n",
    "xtest = sensor_test.drop(sensor_test.columns[-1], axis=1) "
   ]
  },
  {
   "cell_type": "code",
   "execution_count": 28,
   "metadata": {
    "collapsed": true
   },
   "outputs": [],
   "source": [
    "ytrain_sc = ytrain.map(lambda x: 1 if (x == 2 or x == 3) else 0)\n",
    "ytest_sc = ytest.map(lambda x: 1 if (x == 2 or x == 3) else 0)"
   ]
  },
  {
   "cell_type": "code",
   "execution_count": 29,
   "metadata": {},
   "outputs": [
    {
     "name": "stdout",
     "output_type": "stream",
     "text": [
      "[0 1]\n"
     ]
    },
    {
     "data": {
      "text/plain": [
       "0    0\n",
       "1    0\n",
       "2    0\n",
       "3    0\n",
       "4    0\n",
       "Name: 1200, dtype: int64"
      ]
     },
     "execution_count": 29,
     "metadata": {},
     "output_type": "execute_result"
    }
   ],
   "source": [
    "print(ytrain_sc.unique())\n",
    "ytrain_sc.head()\n"
   ]
  },
  {
   "cell_type": "markdown",
   "metadata": {
    "collapsed": true
   },
   "source": [
    "## New data"
   ]
  },
  {
   "cell_type": "code",
   "execution_count": 30,
   "metadata": {},
   "outputs": [],
   "source": [
    "#list_ = []\n",
    "#train_list = ['xab.csv', 'xaa.csv']\n",
    "#for x in train_list:\n",
    "#    df = pd.read_csv(os.path.join(PROJECT_DATA_DIR, x), sep='\\s+', header=None)\n",
    "#    list_.append(df)\n",
    "#train_xab = pd.concat(list_)\n",
    "\n",
    "#train_xab= pd.read_csv(os.path.join(PROJECT_DATA_DIR, 'xab.csv'), sep='\\s+', header=None)"
   ]
  },
  {
   "cell_type": "code",
   "execution_count": 31,
   "metadata": {
    "collapsed": true
   },
   "outputs": [],
   "source": [
    "#train_xab.head()"
   ]
  },
  {
   "cell_type": "code",
   "execution_count": 32,
   "metadata": {
    "collapsed": true
   },
   "outputs": [],
   "source": [
    "#train_xab.shape"
   ]
  },
  {
   "cell_type": "code",
   "execution_count": 33,
   "metadata": {
    "collapsed": true
   },
   "outputs": [],
   "source": [
    "#ytrain_xab = train_xab[train_xab.columns[-1]]\n",
    "#print(ytrain_xab.unique())"
   ]
  },
  {
   "cell_type": "code",
   "execution_count": 34,
   "metadata": {
    "collapsed": true
   },
   "outputs": [],
   "source": [
    "#xtrain_xab = train_xab.drop(train_xab.columns[-1], axis=1)"
   ]
  },
  {
   "cell_type": "code",
   "execution_count": 35,
   "metadata": {
    "collapsed": true
   },
   "outputs": [],
   "source": [
    "#xtrain_xab.head()"
   ]
  },
  {
   "cell_type": "code",
   "execution_count": 36,
   "metadata": {
    "collapsed": true
   },
   "outputs": [],
   "source": [
    "#test_xab = pd.read_csv(os.path.join(PROJECT_DATA_DIR, 'xab_test_400.csv'), sep='\\s+', header=None)"
   ]
  },
  {
   "cell_type": "code",
   "execution_count": 37,
   "metadata": {
    "collapsed": true
   },
   "outputs": [],
   "source": [
    "#test_xab.head()"
   ]
  },
  {
   "cell_type": "code",
   "execution_count": 38,
   "metadata": {
    "collapsed": true
   },
   "outputs": [],
   "source": [
    "#test_xab.shape"
   ]
  },
  {
   "cell_type": "code",
   "execution_count": 39,
   "metadata": {
    "collapsed": true
   },
   "outputs": [],
   "source": [
    "#xtest_xab.head()"
   ]
  },
  {
   "cell_type": "code",
   "execution_count": 40,
   "metadata": {
    "collapsed": true
   },
   "outputs": [],
   "source": [
    "#ytest_xab = test_xab[test_xab.columns[-1]]\n",
    "#print(ytest_xab.unique())\n",
    "#xtest_xab = test_xab.drop(test_xab.columns[-1])"
   ]
  },
  {
   "cell_type": "code",
   "execution_count": 41,
   "metadata": {
    "collapsed": true
   },
   "outputs": [],
   "source": [
    "#xtest_xab = test_xab.drop(test_xab.columns[-1], axis=1)"
   ]
  },
  {
   "cell_type": "code",
   "execution_count": 42,
   "metadata": {
    "collapsed": true
   },
   "outputs": [],
   "source": [
    "#xtest_xab.shape"
   ]
  },
  {
   "cell_type": "code",
   "execution_count": 43,
   "metadata": {
    "collapsed": true
   },
   "outputs": [],
   "source": [
    "#xtest_xab.head()"
   ]
  },
  {
   "cell_type": "code",
   "execution_count": 44,
   "metadata": {
    "collapsed": true
   },
   "outputs": [],
   "source": [
    "#ytrain_xab = ytrain_xab.map(lambda x: 1 if x in [12, 13, 17, 20] else 0)\n",
    "#ytest_xab = ytest_xab.map(lambda x: 1 if x in [12, 13, 17, 20] else 0)"
   ]
  },
  {
   "cell_type": "code",
   "execution_count": 45,
   "metadata": {
    "collapsed": true
   },
   "outputs": [],
   "source": [
    "#print(ytrain_xab.unique())\n",
    "#ytrain_xab.head()"
   ]
  },
  {
   "cell_type": "code",
   "execution_count": null,
   "metadata": {
    "collapsed": true
   },
   "outputs": [],
   "source": []
  },
  {
   "cell_type": "code",
   "execution_count": null,
   "metadata": {
    "collapsed": true
   },
   "outputs": [],
   "source": []
  },
  {
   "cell_type": "markdown",
   "metadata": {},
   "source": [
    "## Preprocessing"
   ]
  },
  {
   "cell_type": "code",
   "execution_count": 46,
   "metadata": {},
   "outputs": [
    {
     "name": "stdout",
     "output_type": "stream",
     "text": [
      "<class 'pandas.core.frame.DataFrame'>\n",
      "RangeIndex: 91104 entries, 0 to 91103\n",
      "Columns: 1200 entries, 0 to 1199\n",
      "dtypes: int64(1200)\n",
      "memory usage: 834.1 MB\n"
     ]
    }
   ],
   "source": [
    "xtrain.info()"
   ]
  },
  {
   "cell_type": "code",
   "execution_count": 47,
   "metadata": {},
   "outputs": [
    {
     "name": "stdout",
     "output_type": "stream",
     "text": [
      "(91104, 1200)\n"
     ]
    },
    {
     "data": {
      "text/html": [
       "<div>\n",
       "<style>\n",
       "    .dataframe thead tr:only-child th {\n",
       "        text-align: right;\n",
       "    }\n",
       "\n",
       "    .dataframe thead th {\n",
       "        text-align: left;\n",
       "    }\n",
       "\n",
       "    .dataframe tbody tr th {\n",
       "        vertical-align: top;\n",
       "    }\n",
       "</style>\n",
       "<table border=\"1\" class=\"dataframe\">\n",
       "  <thead>\n",
       "    <tr style=\"text-align: right;\">\n",
       "      <th></th>\n",
       "      <th>0</th>\n",
       "      <th>1</th>\n",
       "      <th>2</th>\n",
       "      <th>3</th>\n",
       "      <th>4</th>\n",
       "      <th>5</th>\n",
       "      <th>6</th>\n",
       "      <th>7</th>\n",
       "      <th>8</th>\n",
       "      <th>9</th>\n",
       "      <th>...</th>\n",
       "      <th>1190</th>\n",
       "      <th>1191</th>\n",
       "      <th>1192</th>\n",
       "      <th>1193</th>\n",
       "      <th>1194</th>\n",
       "      <th>1195</th>\n",
       "      <th>1196</th>\n",
       "      <th>1197</th>\n",
       "      <th>1198</th>\n",
       "      <th>1199</th>\n",
       "    </tr>\n",
       "  </thead>\n",
       "  <tbody>\n",
       "    <tr>\n",
       "      <th>count</th>\n",
       "      <td>91104.000000</td>\n",
       "      <td>91104.000000</td>\n",
       "      <td>91104.000000</td>\n",
       "      <td>91104.000000</td>\n",
       "      <td>91104.000000</td>\n",
       "      <td>91104.000000</td>\n",
       "      <td>91104.000000</td>\n",
       "      <td>91104.000000</td>\n",
       "      <td>91104.000000</td>\n",
       "      <td>91104.000000</td>\n",
       "      <td>...</td>\n",
       "      <td>91104.000000</td>\n",
       "      <td>91104.000000</td>\n",
       "      <td>91104.000000</td>\n",
       "      <td>91104.000000</td>\n",
       "      <td>91104.000000</td>\n",
       "      <td>91104.000000</td>\n",
       "      <td>91104.000000</td>\n",
       "      <td>91104.000000</td>\n",
       "      <td>91104.000000</td>\n",
       "      <td>91104.000000</td>\n",
       "    </tr>\n",
       "    <tr>\n",
       "      <th>mean</th>\n",
       "      <td>-0.148303</td>\n",
       "      <td>-0.084958</td>\n",
       "      <td>1.254369</td>\n",
       "      <td>-0.187906</td>\n",
       "      <td>-0.006333</td>\n",
       "      <td>1.236104</td>\n",
       "      <td>-0.169652</td>\n",
       "      <td>-0.041293</td>\n",
       "      <td>1.176655</td>\n",
       "      <td>-0.134264</td>\n",
       "      <td>...</td>\n",
       "      <td>1.176524</td>\n",
       "      <td>-0.145855</td>\n",
       "      <td>-0.018858</td>\n",
       "      <td>1.112937</td>\n",
       "      <td>-0.092213</td>\n",
       "      <td>-0.039427</td>\n",
       "      <td>1.077790</td>\n",
       "      <td>-0.040437</td>\n",
       "      <td>-0.056682</td>\n",
       "      <td>1.104759</td>\n",
       "    </tr>\n",
       "    <tr>\n",
       "      <th>std</th>\n",
       "      <td>27.286271</td>\n",
       "      <td>27.909568</td>\n",
       "      <td>46.855641</td>\n",
       "      <td>27.765273</td>\n",
       "      <td>28.559648</td>\n",
       "      <td>46.999119</td>\n",
       "      <td>28.626503</td>\n",
       "      <td>28.982204</td>\n",
       "      <td>46.765926</td>\n",
       "      <td>28.193874</td>\n",
       "      <td>...</td>\n",
       "      <td>46.367091</td>\n",
       "      <td>27.301695</td>\n",
       "      <td>27.251507</td>\n",
       "      <td>46.007632</td>\n",
       "      <td>27.150623</td>\n",
       "      <td>27.219451</td>\n",
       "      <td>46.120196</td>\n",
       "      <td>26.833842</td>\n",
       "      <td>26.793117</td>\n",
       "      <td>45.991891</td>\n",
       "    </tr>\n",
       "    <tr>\n",
       "      <th>min</th>\n",
       "      <td>-1914.000000</td>\n",
       "      <td>-1998.000000</td>\n",
       "      <td>-1160.000000</td>\n",
       "      <td>-1914.000000</td>\n",
       "      <td>-1998.000000</td>\n",
       "      <td>-1160.000000</td>\n",
       "      <td>-2305.000000</td>\n",
       "      <td>-1998.000000</td>\n",
       "      <td>-1160.000000</td>\n",
       "      <td>-2305.000000</td>\n",
       "      <td>...</td>\n",
       "      <td>-1160.000000</td>\n",
       "      <td>-1914.000000</td>\n",
       "      <td>-1998.000000</td>\n",
       "      <td>-1160.000000</td>\n",
       "      <td>-1914.000000</td>\n",
       "      <td>-1998.000000</td>\n",
       "      <td>-1160.000000</td>\n",
       "      <td>-2305.000000</td>\n",
       "      <td>-1998.000000</td>\n",
       "      <td>-950.000000</td>\n",
       "    </tr>\n",
       "    <tr>\n",
       "      <th>25%</th>\n",
       "      <td>-2.000000</td>\n",
       "      <td>-2.000000</td>\n",
       "      <td>-4.000000</td>\n",
       "      <td>-2.000000</td>\n",
       "      <td>-2.000000</td>\n",
       "      <td>-4.000000</td>\n",
       "      <td>-2.000000</td>\n",
       "      <td>-2.000000</td>\n",
       "      <td>-4.000000</td>\n",
       "      <td>-2.000000</td>\n",
       "      <td>...</td>\n",
       "      <td>-4.000000</td>\n",
       "      <td>-2.000000</td>\n",
       "      <td>-2.000000</td>\n",
       "      <td>-4.000000</td>\n",
       "      <td>-2.000000</td>\n",
       "      <td>-2.000000</td>\n",
       "      <td>-4.000000</td>\n",
       "      <td>-2.000000</td>\n",
       "      <td>-2.000000</td>\n",
       "      <td>-4.000000</td>\n",
       "    </tr>\n",
       "    <tr>\n",
       "      <th>50%</th>\n",
       "      <td>0.000000</td>\n",
       "      <td>0.000000</td>\n",
       "      <td>0.000000</td>\n",
       "      <td>0.000000</td>\n",
       "      <td>0.000000</td>\n",
       "      <td>0.000000</td>\n",
       "      <td>0.000000</td>\n",
       "      <td>0.000000</td>\n",
       "      <td>0.000000</td>\n",
       "      <td>0.000000</td>\n",
       "      <td>...</td>\n",
       "      <td>0.000000</td>\n",
       "      <td>0.000000</td>\n",
       "      <td>0.000000</td>\n",
       "      <td>0.000000</td>\n",
       "      <td>0.000000</td>\n",
       "      <td>0.000000</td>\n",
       "      <td>0.000000</td>\n",
       "      <td>0.000000</td>\n",
       "      <td>0.000000</td>\n",
       "      <td>0.000000</td>\n",
       "    </tr>\n",
       "    <tr>\n",
       "      <th>75%</th>\n",
       "      <td>3.000000</td>\n",
       "      <td>2.000000</td>\n",
       "      <td>5.000000</td>\n",
       "      <td>3.000000</td>\n",
       "      <td>2.000000</td>\n",
       "      <td>5.000000</td>\n",
       "      <td>3.000000</td>\n",
       "      <td>2.000000</td>\n",
       "      <td>5.000000</td>\n",
       "      <td>3.000000</td>\n",
       "      <td>...</td>\n",
       "      <td>5.000000</td>\n",
       "      <td>3.000000</td>\n",
       "      <td>2.000000</td>\n",
       "      <td>5.000000</td>\n",
       "      <td>3.000000</td>\n",
       "      <td>2.000000</td>\n",
       "      <td>5.000000</td>\n",
       "      <td>3.000000</td>\n",
       "      <td>2.000000</td>\n",
       "      <td>5.000000</td>\n",
       "    </tr>\n",
       "    <tr>\n",
       "      <th>max</th>\n",
       "      <td>542.000000</td>\n",
       "      <td>2001.000000</td>\n",
       "      <td>1169.000000</td>\n",
       "      <td>438.000000</td>\n",
       "      <td>2054.000000</td>\n",
       "      <td>1169.000000</td>\n",
       "      <td>542.000000</td>\n",
       "      <td>2054.000000</td>\n",
       "      <td>1169.000000</td>\n",
       "      <td>542.000000</td>\n",
       "      <td>...</td>\n",
       "      <td>1169.000000</td>\n",
       "      <td>542.000000</td>\n",
       "      <td>2001.000000</td>\n",
       "      <td>1169.000000</td>\n",
       "      <td>542.000000</td>\n",
       "      <td>2054.000000</td>\n",
       "      <td>1169.000000</td>\n",
       "      <td>542.000000</td>\n",
       "      <td>2054.000000</td>\n",
       "      <td>1169.000000</td>\n",
       "    </tr>\n",
       "  </tbody>\n",
       "</table>\n",
       "<p>8 rows × 1200 columns</p>\n",
       "</div>"
      ],
      "text/plain": [
       "               0             1             2             3             4     \\\n",
       "count  91104.000000  91104.000000  91104.000000  91104.000000  91104.000000   \n",
       "mean      -0.148303     -0.084958      1.254369     -0.187906     -0.006333   \n",
       "std       27.286271     27.909568     46.855641     27.765273     28.559648   \n",
       "min    -1914.000000  -1998.000000  -1160.000000  -1914.000000  -1998.000000   \n",
       "25%       -2.000000     -2.000000     -4.000000     -2.000000     -2.000000   \n",
       "50%        0.000000      0.000000      0.000000      0.000000      0.000000   \n",
       "75%        3.000000      2.000000      5.000000      3.000000      2.000000   \n",
       "max      542.000000   2001.000000   1169.000000    438.000000   2054.000000   \n",
       "\n",
       "               5             6             7             8             9     \\\n",
       "count  91104.000000  91104.000000  91104.000000  91104.000000  91104.000000   \n",
       "mean       1.236104     -0.169652     -0.041293      1.176655     -0.134264   \n",
       "std       46.999119     28.626503     28.982204     46.765926     28.193874   \n",
       "min    -1160.000000  -2305.000000  -1998.000000  -1160.000000  -2305.000000   \n",
       "25%       -4.000000     -2.000000     -2.000000     -4.000000     -2.000000   \n",
       "50%        0.000000      0.000000      0.000000      0.000000      0.000000   \n",
       "75%        5.000000      3.000000      2.000000      5.000000      3.000000   \n",
       "max     1169.000000    542.000000   2054.000000   1169.000000    542.000000   \n",
       "\n",
       "           ...               1190          1191          1192          1193  \\\n",
       "count      ...       91104.000000  91104.000000  91104.000000  91104.000000   \n",
       "mean       ...           1.176524     -0.145855     -0.018858      1.112937   \n",
       "std        ...          46.367091     27.301695     27.251507     46.007632   \n",
       "min        ...       -1160.000000  -1914.000000  -1998.000000  -1160.000000   \n",
       "25%        ...          -4.000000     -2.000000     -2.000000     -4.000000   \n",
       "50%        ...           0.000000      0.000000      0.000000      0.000000   \n",
       "75%        ...           5.000000      3.000000      2.000000      5.000000   \n",
       "max        ...        1169.000000    542.000000   2001.000000   1169.000000   \n",
       "\n",
       "               1194          1195          1196          1197          1198  \\\n",
       "count  91104.000000  91104.000000  91104.000000  91104.000000  91104.000000   \n",
       "mean      -0.092213     -0.039427      1.077790     -0.040437     -0.056682   \n",
       "std       27.150623     27.219451     46.120196     26.833842     26.793117   \n",
       "min    -1914.000000  -1998.000000  -1160.000000  -2305.000000  -1998.000000   \n",
       "25%       -2.000000     -2.000000     -4.000000     -2.000000     -2.000000   \n",
       "50%        0.000000      0.000000      0.000000      0.000000      0.000000   \n",
       "75%        3.000000      2.000000      5.000000      3.000000      2.000000   \n",
       "max      542.000000   2054.000000   1169.000000    542.000000   2054.000000   \n",
       "\n",
       "               1199  \n",
       "count  91104.000000  \n",
       "mean       1.104759  \n",
       "std       45.991891  \n",
       "min     -950.000000  \n",
       "25%       -4.000000  \n",
       "50%        0.000000  \n",
       "75%        5.000000  \n",
       "max     1169.000000  \n",
       "\n",
       "[8 rows x 1200 columns]"
      ]
     },
     "execution_count": 47,
     "metadata": {},
     "output_type": "execute_result"
    }
   ],
   "source": [
    "print(xtrain.shape)\n",
    "xtrain.describe()"
   ]
  },
  {
   "cell_type": "code",
   "execution_count": 48,
   "metadata": {
    "collapsed": true
   },
   "outputs": [],
   "source": [
    "import matplotlib.pyplot as plt"
   ]
  },
  {
   "cell_type": "code",
   "execution_count": 49,
   "metadata": {},
   "outputs": [
    {
     "data": {
      "image/png": "[encoded data removed]",
      "text/plain": [
       "<matplotlib.figure.Figure at 0x11f36bf60>"
      ]
     },
     "metadata": {},
     "output_type": "display_data"
    }
   ],
   "source": [
    "xtrain[xtrain.columns[0:10:3]].plot()\n",
    "plt.show()"
   ]
  },
  {
   "cell_type": "code",
   "execution_count": 50,
   "metadata": {},
   "outputs": [
    {
     "data": {
      "image/png": "[encoded data removed]",
      "text/plain": [
       "<matplotlib.figure.Figure at 0x11f4085c0>"
      ]
     },
     "metadata": {},
     "output_type": "display_data"
    }
   ],
   "source": [
    "xtrain[xtrain.columns[1100:1120:3]].plot()\n",
    "plt.show()"
   ]
  },
  {
   "cell_type": "code",
   "execution_count": 51,
   "metadata": {},
   "outputs": [
    {
     "data": {
      "image/png": "[encoded data removed]",
      "text/plain": [
       "<matplotlib.figure.Figure at 0x11f25b908>"
      ]
     },
     "metadata": {},
     "output_type": "display_data"
    }
   ],
   "source": [
    "xtrain[xtrain.columns[500:510:3]].plot()\n",
    "plt.show()"
   ]
  },
  {
   "cell_type": "code",
   "execution_count": 52,
   "metadata": {},
   "outputs": [
    {
     "data": {
      "image/png": "[encoded data removed]",
      "text/plain": [
       "<matplotlib.figure.Figure at 0x11f6d9ac8>"
      ]
     },
     "metadata": {},
     "output_type": "display_data"
    }
   ],
   "source": [
    "ytrain_sc.hist()\n",
    "plt.show()"
   ]
  },
  {
   "cell_type": "code",
   "execution_count": 53,
   "metadata": {},
   "outputs": [
    {
     "data": {
      "image/png": "[encoded data removed]",
      "text/plain": [
       "<matplotlib.figure.Figure at 0x120e529e8>"
      ]
     },
     "metadata": {},
     "output_type": "display_data"
    }
   ],
   "source": [
    "ytest_sc.hist()\n",
    "plt.show()"
   ]
  },
  {
   "cell_type": "markdown",
   "metadata": {},
   "source": [
    "## Scaling and transforming data"
   ]
  },
  {
   "cell_type": "code",
   "execution_count": 54,
   "metadata": {
    "collapsed": true
   },
   "outputs": [],
   "source": [
    "scaler = StandardScaler()#QuantileTransformer(output_distribution='normal')\n",
    "xtrain_sc = scaler.fit_transform(xtrain)\n",
    "xtest_sc = scaler.transform(xtest)"
   ]
  },
  {
   "cell_type": "code",
   "execution_count": 55,
   "metadata": {},
   "outputs": [
    {
     "name": "stdout",
     "output_type": "stream",
     "text": [
      "(91104,)\n",
      "(91104, 1200)\n"
     ]
    },
    {
     "data": {
      "text/plain": [
       "numpy.ndarray"
      ]
     },
     "execution_count": 55,
     "metadata": {},
     "output_type": "execute_result"
    }
   ],
   "source": [
    "print(ytrain_sc.shape)\n",
    "print(xtrain_sc.shape)\n",
    "type(xtrain_sc)\n"
   ]
  },
  {
   "cell_type": "code",
   "execution_count": 56,
   "metadata": {},
   "outputs": [
    {
     "data": {
      "image/png": "[encoded data removed]",
      "text/plain": [
       "<matplotlib.figure.Figure at 0x120513320>"
      ]
     },
     "metadata": {},
     "output_type": "display_data"
    }
   ],
   "source": [
    "plt.plot(xtrain_sc[:,0:10:3])\n",
    "plt.show()\n"
   ]
  },
  {
   "cell_type": "code",
   "execution_count": 57,
   "metadata": {},
   "outputs": [
    {
     "data": {
      "image/png": "[encoded data removed]",
      "text/plain": [
       "<matplotlib.figure.Figure at 0x123a88c50>"
      ]
     },
     "metadata": {},
     "output_type": "display_data"
    }
   ],
   "source": [
    "plt.plot(xtest_sc[:,0:10:3])\n",
    "plt.show()"
   ]
  },
  {
   "cell_type": "code",
   "execution_count": 58,
   "metadata": {},
   "outputs": [
    {
     "name": "stderr",
     "output_type": "stream",
     "text": [
      "Using TensorFlow backend.\n"
     ]
    }
   ],
   "source": [
    "import keras\n",
    "from keras.models import Sequential\n",
    "from keras.layers import Dense, LSTM, Dropout, BatchNormalization\n",
    "from keras import optimizers\n",
    "from sklearn.metrics import f1_score"
   ]
  },
  {
   "cell_type": "code",
   "execution_count": 59,
   "metadata": {
    "collapsed": true
   },
   "outputs": [],
   "source": [
    "def model(drop_rate, lr, units, decay, no_features, no_outputs):\n",
    "    optim = optimizers.Adam(lr=lr,\n",
    "                            beta_1=0.9,\n",
    "                            beta_2=0.999,\n",
    "                            decay=1e-6)\n",
    "    model = Sequential()\n",
    "    model.add(BatchNormalization(input_shape=(xtrain.shape[1], )))\n",
    "    model.add(Dense(units, activation='relu', input_dim=1200))\n",
    "    model.add(Dense(1, activation='softmax'))\n",
    "    model.compile(loss='categorical_crossentropy', \n",
    "                  optim=optim, \n",
    "                  metrics=['accuracy'])\n",
    "    \n",
    "    return model"
   ]
  },
  {
   "cell_type": "code",
   "execution_count": 60,
   "metadata": {
    "collapsed": true
   },
   "outputs": [],
   "source": [
    "#del model\n",
    "model = Sequential()\n",
    "#model.add(BatchNormalization(input_dim=1200))\n",
    "model.add(Dense(units=1200, activation='relu', input_dim=1200), )\n",
    "model.add(Dropout(0.4))\n",
    "model.add(Dense(units=500))\n",
    "model.add(Dropout(0.4))\n",
    "model.add(Dense(units=75, activation='relu'))\n",
    "model.add(Dropout(0.4))\n",
    "model.add(Dense(units=1, activation='sigmoid'))\n"
   ]
  },
  {
   "cell_type": "code",
   "execution_count": null,
   "metadata": {
    "collapsed": true
   },
   "outputs": [],
   "source": [
    "lr = 0.001\n",
    "optim = optimizers.Adam(lr=lr,\n",
    "                        beta_1=0.9,\n",
    "                        beta_2=0.999,\n",
    "                        decay=1e-6)\n",
    "model.compile(loss='binary_crossentropy',\n",
    "                        optimizer=optim,\n",
    "                        metrics=['accuracy'])"
   ]
  },
  {
   "cell_type": "code",
   "execution_count": null,
   "metadata": {},
   "outputs": [
    {
     "name": "stdout",
     "output_type": "stream",
     "text": [
      "WARNING:tensorflow:Variable *= will be deprecated. Use variable.assign_mul if you want assignment to the variable value or 'x = x * y' if you want a new python Tensor object.\n",
      "Train on 91104 samples, validate on 22776 samples\n",
      "Epoch 1/20\n",
      "91104/91104 [==============================] - 18s 193us/step - loss: 0.2086 - acc: 0.9408 - val_loss: 0.0704 - val_acc: 0.9663\n",
      "Epoch 2/20\n",
      "91104/91104 [==============================] - 17s 183us/step - loss: 0.0662 - acc: 0.9726 - val_loss: 0.0483 - val_acc: 0.9773\n",
      "Epoch 3/20\n",
      "91104/91104 [==============================] - 17s 182us/step - loss: 0.0458 - acc: 0.9813 - val_loss: 0.0361 - val_acc: 0.9843\n",
      "Epoch 4/20\n",
      "91104/91104 [==============================] - 17s 181us/step - loss: 0.0323 - acc: 0.9872 - val_loss: 0.0349 - val_acc: 0.9864\n",
      "Epoch 5/20\n",
      "91104/91104 [==============================] - 17s 186us/step - loss: 0.0287 - acc: 0.9896 - val_loss: 0.0274 - val_acc: 0.9902\n",
      "Epoch 6/20\n",
      "91104/91104 [==============================] - 16s 181us/step - loss: 0.0230 - acc: 0.9919 - val_loss: 0.0212 - val_acc: 0.9928\n",
      "Epoch 7/20\n",
      "91104/91104 [==============================] - 16s 180us/step - loss: 0.0191 - acc: 0.9935 - val_loss: 0.0232 - val_acc: 0.9926\n",
      "Epoch 8/20\n",
      "91104/91104 [==============================] - 14s 156us/step - loss: 0.0188 - acc: 0.9939 - val_loss: 0.0210 - val_acc: 0.9926\n",
      "Epoch 9/20\n",
      "91104/91104 [==============================] - 16s 180us/step - loss: 0.0156 - acc: 0.9949 - val_loss: 0.0224 - val_acc: 0.9930\n",
      "Epoch 10/20\n",
      "91104/91104 [==============================] - 14s 158us/step - loss: 0.0131 - acc: 0.9958 - val_loss: 0.0218 - val_acc: 0.9918\n",
      "Epoch 11/20\n",
      "91104/91104 [==============================] - 16s 180us/step - loss: 0.0108 - acc: 0.9967 - val_loss: 0.0199 - val_acc: 0.9940\n",
      "Epoch 12/20\n",
      "91104/91104 [==============================] - 16s 180us/step - loss: 0.0121 - acc: 0.9961 - val_loss: 0.0220 - val_acc: 0.9929\n",
      "Epoch 13/20\n",
      " 4096/91104 [>.............................] - ETA: 14s - loss: 0.0127 - acc: 0.9956"
     ]
    }
   ],
   "source": [
    "history = model.fit(xtrain_sc,\n",
    "                    ytrain_sc,\n",
    "                    epochs=20,\n",
    "                    batch_size=2**9, \n",
    "                    validation_data=(xtest_sc, ytest_sc))"
   ]
  },
  {
   "cell_type": "code",
   "execution_count": null,
   "metadata": {
    "collapsed": true
   },
   "outputs": [],
   "source": [
    "pred_train = model.predict_classes(xtrain_sc)\n",
    "pred_test = model.predict_classes(xtest_sc)\n",
    "print(pred_test)\n",
    "print('')\n",
    "print('unique values train data set', np.unique(pred_train))\n",
    "print('unique values test data set:', np.unique(pred_test))\n",
    "print('')\n",
    "print('training score:', f1_score(ytrain_sc, pred_train))\n",
    "print('test score:', f1_score(ytest_sc, pred_test))"
   ]
  },
  {
   "cell_type": "code",
   "execution_count": null,
   "metadata": {
    "collapsed": true
   },
   "outputs": [],
   "source": [
    "scaler_xab = QuantileTransformer(copy=False, \n",
    "                                 output_distribution='normal', \n",
    "                                 n_quantiles =100)\n",
    "xtrain_xab_sc = scaler_xab.fit_transform(xtrain_xab)\n",
    "xtest_xab_sc = scaler_xab.transform(xtest_xab)"
   ]
  },
  {
   "cell_type": "code",
   "execution_count": null,
   "metadata": {
    "collapsed": true
   },
   "outputs": [],
   "source": [
    "print(xtrain_xab_sc.shape)\n",
    "print(xtest_xab_sc.shape)"
   ]
  },
  {
   "cell_type": "code",
   "execution_count": null,
   "metadata": {
    "collapsed": true
   },
   "outputs": [],
   "source": [
    "history = model.fit(xtrain_xab_sc,\n",
    "                    ytrain_xab,\n",
    "                    epochs=20,\n",
    "                    batch_size=2**9, \n",
    "                    validation_data=(xtest_xab_sc, ytest_xab))"
   ]
  },
  {
   "cell_type": "code",
   "execution_count": null,
   "metadata": {
    "collapsed": true
   },
   "outputs": [],
   "source": [
    "pred_train_xab = model.predict_classes(xtrain_xab_sc)\n",
    "pred_test_xab = model.predict_classes(xtest_xab_sc)\n",
    "print('train score xab data set:', f1_score(ytrain_xab, pred_train_xab))\n",
    "print('test score xabe data set:', f1_score(ytest_xab, pred_test_xab))\n"
   ]
  },
  {
   "cell_type": "code",
   "execution_count": null,
   "metadata": {
    "collapsed": true
   },
   "outputs": [],
   "source": [
    "plt.figure(figsize=(7,7))\n",
    "plt.plot(history.history['loss'])\n",
    "plt.plot(history.history['val_loss'])\n",
    "plt.xlabel('epoch')\n",
    "plt.legend(['train', 'test'], loc='upper right')\n",
    "#plt.legeng()\n",
    "plt.show()"
   ]
  },
  {
   "cell_type": "code",
   "execution_count": null,
   "metadata": {
    "collapsed": true
   },
   "outputs": [],
   "source": [
    "from sklearn.metrics import confusion_matrix"
   ]
  },
  {
   "cell_type": "code",
   "execution_count": null,
   "metadata": {
    "collapsed": true
   },
   "outputs": [],
   "source": [
    "cfn_matrix = confusion_matrix(ytrain_xab, pred_train_xab)\n"
   ]
  },
  {
   "cell_type": "code",
   "execution_count": null,
   "metadata": {
    "collapsed": true
   },
   "outputs": [],
   "source": [
    "#drop_rate = 0.4\n",
    "#lr = 0.001\n",
    "#decay = 1e-6\n",
    "#units = 500\n",
    "#no_features = xtrain.shape[1]\n",
    "#no_outputs = 1\n",
    "#model = model(drop_rate, lr, decay, units, no_features, no_outputs)"
   ]
  },
  {
   "cell_type": "code",
   "execution_count": null,
   "metadata": {
    "collapsed": true
   },
   "outputs": [],
   "source": [
    "xtrain_sensor = scaler_xab.transform(xtrain)\n",
    "xtest_sensor = scaler_xab.transform(xtest)"
   ]
  },
  {
   "cell_type": "code",
   "execution_count": null,
   "metadata": {
    "collapsed": true
   },
   "outputs": [],
   "source": [
    "pred_sensor_train = model.predict_classes(xtrain_sensor)\n",
    "pred_sensor_test = model.predict_classes(xtest_sensor)\n",
    "print('')\n",
    "print('train sensor:', f1_score(ytrain_sc, pred_sensor_train))\n",
    "print('test sensor:', f1_score(ytest_sc, pred_sensor_test))"
   ]
  },
  {
   "cell_type": "code",
   "execution_count": null,
   "metadata": {
    "collapsed": true
   },
   "outputs": [],
   "source": []
  },
  {
   "cell_type": "code",
   "execution_count": null,
   "metadata": {
    "collapsed": true
   },
   "outputs": [],
   "source": []
  },
  {
   "cell_type": "code",
   "execution_count": null,
   "metadata": {
    "collapsed": true
   },
   "outputs": [],
   "source": []
  },
  {
   "cell_type": "code",
   "execution_count": null,
   "metadata": {
    "collapsed": true
   },
   "outputs": [],
   "source": []
  },
  {
   "cell_type": "code",
   "execution_count": null,
   "metadata": {
    "collapsed": true
   },
   "outputs": [],
   "source": []
  },
  {
   "cell_type": "code",
   "execution_count": null,
   "metadata": {
    "collapsed": true
   },
   "outputs": [],
   "source": []
  },
  {
   "cell_type": "code",
   "execution_count": null,
   "metadata": {
    "collapsed": true
   },
   "outputs": [],
   "source": []
  }
 ],
 "metadata": {
  "kernelspec": {
   "display_name": "Python 3",
   "language": "python",
   "name": "python3"
  },
  "language_info": {
   "codemirror_mode": {
    "name": "ipython",
    "version": 3
   },
   "file_extension": ".py",
   "mimetype": "text/x-python",
   "name": "python",
   "nbconvert_exporter": "python",
   "pygments_lexer": "ipython3",
   "version": "3.6.3"
  }
 },
 "nbformat": 4,
 "nbformat_minor": 2
}
