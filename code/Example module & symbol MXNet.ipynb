{
 "cells": [
  {
   "cell_type": "code",
   "execution_count": 1,
   "metadata": {},
   "outputs": [
    {
     "name": "stderr",
     "output_type": "stream",
     "text": [
      "C:\\Users\\gilbe\\Anaconda3\\lib\\site-packages\\h5py\\__init__.py:34: FutureWarning: Conversion of the second argument of issubdtype from `float` to `np.floating` is deprecated. In future, it will be treated as `np.float64 == np.dtype(float).type`.\n",
      "  from ._conv import register_converters as _register_converters\n"
     ]
    }
   ],
   "source": [
    "import logging\n",
    "logging.getLogger().setLevel(logging.INFO)\n",
    "import mxnet as mx\n",
    "import numpy as np\n",
    "import warnings\n",
    "warnings.filterwarnings(\"ignore\", category=DeprecationWarning)"
   ]
  },
  {
   "cell_type": "code",
   "execution_count": 2,
   "metadata": {},
   "outputs": [
    {
     "name": "stderr",
     "output_type": "stream",
     "text": [
      "INFO:root:letter-recognition.data exists, skipping download\n"
     ]
    }
   ],
   "source": [
    "mx.random.seed(1234)\n",
    "fname = mx.test_utils.download('https://s3.us-east-2.amazonaws.com/mxnet-public/letter_recognition/letter-recognition.data')\n",
    "data = np.genfromtxt(fname, delimiter=',')[:, 1:]\n",
    "label = np.array([ord(l.split(',')[0]) - ord('A') for  l in open(fname, 'r')])"
   ]
  },
  {
   "cell_type": "markdown",
   "metadata": {},
   "source": [
    "## Iterators"
   ]
  },
  {
   "cell_type": "code",
   "execution_count": 3,
   "metadata": {
    "collapsed": true
   },
   "outputs": [],
   "source": [
    "batch_size = 32\n",
    "ntrain = int(data.shape[0] * 0.8)\n",
    "train_iter = mx.io.NDArrayIter(data[:ntrain, :], \n",
    "                               label[:ntrain], \n",
    "                               batch_size,\n",
    "                               shuffle=True)\n",
    "\n",
    "val_iter = mx.io.NDArrayIter(data[ntrain:, :], \n",
    "                             label[ntrain:], \n",
    "                             batch_size)\n"
   ]
  },
  {
   "cell_type": "markdown",
   "metadata": {},
   "source": [
    "### Model"
   ]
  },
  {
   "cell_type": "code",
   "execution_count": 4,
   "metadata": {},
   "outputs": [],
   "source": [
    "net = mx.sym.Variable('data')\n",
    "net = mx.sym.FullyConnected(net, name='fc1', num_hidden=64)\n",
    "net = mx.sym.Activation(net, name='relu1', act_type=\"relu\")\n",
    "net = mx.sym.FullyConnected(net, name='fc2', num_hidden=26)\n",
    "net = mx.sym.SoftmaxOutput(net, name='softmax')\n",
    "#mx.viz.plot_network(net)"
   ]
  },
  {
   "cell_type": "markdown",
   "metadata": {},
   "source": [
    "## Module"
   ]
  },
  {
   "cell_type": "code",
   "execution_count": 5,
   "metadata": {},
   "outputs": [],
   "source": [
    "mod = mx.mod.Module(symbol=net,\n",
    "                    context=mx.gpu())"
   ]
  },
  {
   "cell_type": "markdown",
   "metadata": {},
   "source": [
    "### Intermediate level interface"
   ]
  },
  {
   "cell_type": "code",
   "execution_count": 6,
   "metadata": {},
   "outputs": [
    {
     "name": "stderr",
     "output_type": "stream",
     "text": [
      "WARNING:root:Already bound, ignoring bind()\n",
      "C:\\Users\\gilbe\\Anaconda3\\lib\\site-packages\\mxnet\\module\\base_module.py:464: UserWarning: Parameters already initialized and force_init=False. init_params call ignored.\n",
      "  allow_missing=allow_missing, force_init=force_init)\n",
      "WARNING:root:optimizer already initialized, ignoring...\n",
      "INFO:root:Epoch[0] Train-accuracy=0.036125\n",
      "INFO:root:Epoch[0] Time cost=0.546\n",
      "INFO:root:Epoch[0] Validation-accuracy=0.039250\n",
      "INFO:root:Epoch[1] Train-accuracy=0.037000\n",
      "INFO:root:Epoch[1] Time cost=0.521\n",
      "INFO:root:Epoch[1] Validation-accuracy=0.039250\n",
      "INFO:root:Epoch[2] Train-accuracy=0.036750\n",
      "INFO:root:Epoch[2] Time cost=0.501\n",
      "INFO:root:Epoch[2] Validation-accuracy=0.039250\n",
      "INFO:root:Epoch[3] Train-accuracy=0.036750\n",
      "INFO:root:Epoch[3] Time cost=0.519\n",
      "INFO:root:Epoch[3] Validation-accuracy=0.039250\n",
      "INFO:root:Epoch[4] Train-accuracy=0.036750\n",
      "INFO:root:Epoch[4] Time cost=0.513\n",
      "INFO:root:Epoch[4] Validation-accuracy=0.039250\n",
      "INFO:root:Epoch[5] Train-accuracy=0.036750\n",
      "INFO:root:Epoch[5] Time cost=0.497\n",
      "INFO:root:Epoch[5] Validation-accuracy=0.039250\n",
      "INFO:root:Epoch[6] Train-accuracy=0.036750\n",
      "INFO:root:Epoch[6] Time cost=0.504\n",
      "INFO:root:Epoch[6] Validation-accuracy=0.039250\n",
      "INFO:root:Epoch[7] Train-accuracy=0.036625\n",
      "INFO:root:Epoch[7] Time cost=0.496\n",
      "INFO:root:Epoch[7] Validation-accuracy=0.039250\n"
     ]
    }
   ],
   "source": [
    "mod.bind(data_shapes=train_iter.provide_data, \n",
    "         label_shapes=train_iter.provide_label)\n",
    "\n",
    "mod.init_params(initializer=mx.init.Uniform(scale=0.1))\n",
    "\n",
    "mod.init_optimizer(optimizer='Adam', \n",
    "                   optimizer_params=(('learning_rate', 0.1),))\n",
    "\n",
    "train_iter.reset()\n",
    "mod.fit(train_iter, \n",
    "        eval_data=val_iter, \n",
    "        optimizer='Adam', \n",
    "        optimizer_params={'learning_rate': 0.1},\n",
    "        eval_metric='acc', \n",
    "        num_epoch=8)\n",
    "\n",
    "# Use accuracy for the error metric\n",
    "#metric = mx.metric.create('acc')\n",
    "#\n",
    "# train 5 epochs\n",
    "#for epoch in range(5):\n",
    "#    train_iter.reset()\n",
    "#    metric.reset()\n",
    "#    for batch in train_iter:\n",
    "#        print(batch.label)\n",
    "#        mod.forward(batch, is_train=True)\n",
    "#        mod.update_metric(metric, batch.label)\n",
    "#        mod.backward()\n",
    "#       mod.update()\n",
    "#    print('Epoch %d, Training %s' %(epoch, metric.get()))\n"
   ]
  },
  {
   "cell_type": "code",
   "execution_count": null,
   "metadata": {
    "collapsed": true
   },
   "outputs": [],
   "source": []
  },
  {
   "cell_type": "code",
   "execution_count": null,
   "metadata": {
    "collapsed": true
   },
   "outputs": [],
   "source": []
  },
  {
   "cell_type": "code",
   "execution_count": null,
   "metadata": {
    "collapsed": true
   },
   "outputs": [],
   "source": []
  }
 ],
 "metadata": {
  "kernelspec": {
   "display_name": "Python 3",
   "language": "python",
   "name": "python3"
  },
  "language_info": {
   "codemirror_mode": {
    "name": "ipython",
    "version": 3
   },
   "file_extension": ".py",
   "mimetype": "text/x-python",
   "name": "python",
   "nbconvert_exporter": "python",
   "pygments_lexer": "ipython3",
   "version": "3.5.3"
  }
 },
 "nbformat": 4,
 "nbformat_minor": 2
}
