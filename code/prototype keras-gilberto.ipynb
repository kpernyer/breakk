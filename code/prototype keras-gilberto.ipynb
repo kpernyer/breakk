{
 "cells": [
  {
   "cell_type": "code",
   "execution_count": 1,
   "metadata": {},
   "outputs": [
    {
     "name": "stderr",
     "output_type": "stream",
     "text": [
      "C:\\Users\\gilbe\\Anaconda3\\lib\\site-packages\\h5py\\__init__.py:34: FutureWarning: Conversion of the second argument of issubdtype from `float` to `np.floating` is deprecated. In future, it will be treated as `np.float64 == np.dtype(float).type`.\n",
      "  from ._conv import register_converters as _register_converters\n"
     ]
    }
   ],
   "source": [
    "import numpy as np\n",
    "import pandas as pd\n",
    "from utils.utils import PROJECT_DATA_DIR\n",
    "import os\n",
    "import mxnet as mx\n",
    "import tarfile\n",
    "import warnings\n",
    "warnings.filterwarnings(\"ignore\")"
   ]
  },
  {
   "cell_type": "code",
   "execution_count": 2,
   "metadata": {},
   "outputs": [],
   "source": [
    "karm  = pd.read_csv(os.path.join(PROJECT_DATA_DIR, 'all_training_400_karm.csv'), sep='\\s+', header=None)"
   ]
  },
  {
   "cell_type": "code",
   "execution_count": 3,
   "metadata": {
    "scrolled": true
   },
   "outputs": [
    {
     "data": {
      "text/html": [
       "<div>\n",
       "<table border=\"1\" class=\"dataframe\">\n",
       "  <thead>\n",
       "    <tr style=\"text-align: right;\">\n",
       "      <th></th>\n",
       "      <th>0</th>\n",
       "      <th>1</th>\n",
       "      <th>2</th>\n",
       "      <th>3</th>\n",
       "      <th>4</th>\n",
       "      <th>5</th>\n",
       "      <th>6</th>\n",
       "      <th>7</th>\n",
       "      <th>8</th>\n",
       "      <th>9</th>\n",
       "      <th>...</th>\n",
       "      <th>1191</th>\n",
       "      <th>1192</th>\n",
       "      <th>1193</th>\n",
       "      <th>1194</th>\n",
       "      <th>1195</th>\n",
       "      <th>1196</th>\n",
       "      <th>1197</th>\n",
       "      <th>1198</th>\n",
       "      <th>1199</th>\n",
       "      <th>1200</th>\n",
       "    </tr>\n",
       "  </thead>\n",
       "  <tbody>\n",
       "    <tr>\n",
       "      <th>0</th>\n",
       "      <td>0</td>\n",
       "      <td>3</td>\n",
       "      <td>-17</td>\n",
       "      <td>8</td>\n",
       "      <td>8</td>\n",
       "      <td>-9</td>\n",
       "      <td>4</td>\n",
       "      <td>-1</td>\n",
       "      <td>-29</td>\n",
       "      <td>8</td>\n",
       "      <td>...</td>\n",
       "      <td>9</td>\n",
       "      <td>7</td>\n",
       "      <td>-5</td>\n",
       "      <td>8</td>\n",
       "      <td>-3</td>\n",
       "      <td>-18</td>\n",
       "      <td>8</td>\n",
       "      <td>7</td>\n",
       "      <td>-15</td>\n",
       "      <td>15</td>\n",
       "    </tr>\n",
       "    <tr>\n",
       "      <th>1</th>\n",
       "      <td>-11</td>\n",
       "      <td>18</td>\n",
       "      <td>-63</td>\n",
       "      <td>-47</td>\n",
       "      <td>-25</td>\n",
       "      <td>42</td>\n",
       "      <td>32</td>\n",
       "      <td>-37</td>\n",
       "      <td>73</td>\n",
       "      <td>3</td>\n",
       "      <td>...</td>\n",
       "      <td>1</td>\n",
       "      <td>21</td>\n",
       "      <td>-2</td>\n",
       "      <td>-7</td>\n",
       "      <td>7</td>\n",
       "      <td>1</td>\n",
       "      <td>-3</td>\n",
       "      <td>15</td>\n",
       "      <td>-21</td>\n",
       "      <td>20</td>\n",
       "    </tr>\n",
       "    <tr>\n",
       "      <th>2</th>\n",
       "      <td>-4</td>\n",
       "      <td>14</td>\n",
       "      <td>-6</td>\n",
       "      <td>-7</td>\n",
       "      <td>-1</td>\n",
       "      <td>-10</td>\n",
       "      <td>-4</td>\n",
       "      <td>22</td>\n",
       "      <td>17</td>\n",
       "      <td>-7</td>\n",
       "      <td>...</td>\n",
       "      <td>-5</td>\n",
       "      <td>3</td>\n",
       "      <td>-7</td>\n",
       "      <td>-7</td>\n",
       "      <td>26</td>\n",
       "      <td>14</td>\n",
       "      <td>-12</td>\n",
       "      <td>-10</td>\n",
       "      <td>-10</td>\n",
       "      <td>-1</td>\n",
       "    </tr>\n",
       "    <tr>\n",
       "      <th>3</th>\n",
       "      <td>-5</td>\n",
       "      <td>-8</td>\n",
       "      <td>1</td>\n",
       "      <td>-5</td>\n",
       "      <td>6</td>\n",
       "      <td>1</td>\n",
       "      <td>-3</td>\n",
       "      <td>-12</td>\n",
       "      <td>-8</td>\n",
       "      <td>2</td>\n",
       "      <td>...</td>\n",
       "      <td>-5</td>\n",
       "      <td>15</td>\n",
       "      <td>-1</td>\n",
       "      <td>-2</td>\n",
       "      <td>1</td>\n",
       "      <td>16</td>\n",
       "      <td>-5</td>\n",
       "      <td>12</td>\n",
       "      <td>4</td>\n",
       "      <td>-1</td>\n",
       "    </tr>\n",
       "    <tr>\n",
       "      <th>4</th>\n",
       "      <td>-8</td>\n",
       "      <td>-25</td>\n",
       "      <td>-35</td>\n",
       "      <td>-8</td>\n",
       "      <td>-14</td>\n",
       "      <td>-31</td>\n",
       "      <td>-10</td>\n",
       "      <td>-28</td>\n",
       "      <td>-15</td>\n",
       "      <td>-2</td>\n",
       "      <td>...</td>\n",
       "      <td>-1</td>\n",
       "      <td>-14</td>\n",
       "      <td>-38</td>\n",
       "      <td>-8</td>\n",
       "      <td>-35</td>\n",
       "      <td>-21</td>\n",
       "      <td>-5</td>\n",
       "      <td>-12</td>\n",
       "      <td>-26</td>\n",
       "      <td>-1</td>\n",
       "    </tr>\n",
       "  </tbody>\n",
       "</table>\n",
       "<p>5 rows × 1201 columns</p>\n",
       "</div>"
      ],
      "text/plain": [
       "   0     1     2     3     4     5     6     7     8     9     ...   1191  \\\n",
       "0     0     3   -17     8     8    -9     4    -1   -29     8  ...      9   \n",
       "1   -11    18   -63   -47   -25    42    32   -37    73     3  ...      1   \n",
       "2    -4    14    -6    -7    -1   -10    -4    22    17    -7  ...     -5   \n",
       "3    -5    -8     1    -5     6     1    -3   -12    -8     2  ...     -5   \n",
       "4    -8   -25   -35    -8   -14   -31   -10   -28   -15    -2  ...     -1   \n",
       "\n",
       "   1192  1193  1194  1195  1196  1197  1198  1199  1200  \n",
       "0     7    -5     8    -3   -18     8     7   -15    15  \n",
       "1    21    -2    -7     7     1    -3    15   -21    20  \n",
       "2     3    -7    -7    26    14   -12   -10   -10    -1  \n",
       "3    15    -1    -2     1    16    -5    12     4    -1  \n",
       "4   -14   -38    -8   -35   -21    -5   -12   -26    -1  \n",
       "\n",
       "[5 rows x 1201 columns]"
      ]
     },
     "execution_count": 3,
     "metadata": {},
     "output_type": "execute_result"
    }
   ],
   "source": [
    "karm.head()"
   ]
  },
  {
   "cell_type": "code",
   "execution_count": 4,
   "metadata": {},
   "outputs": [
    {
     "name": "stdout",
     "output_type": "stream",
     "text": [
      "(930070, 1201)\n",
      "labels: [15 20 -1 16 23 21 14 17 22 10 11 25 24 13 18 26 12]\n"
     ]
    }
   ],
   "source": [
    "print(karm.shape)\n",
    "print('labels:', karm[karm.columns[-1]].unique())"
   ]
  },
  {
   "cell_type": "code",
   "execution_count": 5,
   "metadata": {
    "collapsed": true
   },
   "outputs": [],
   "source": [
    "data = pd.read_csv(os.path.join(PROJECT_DATA_DIR, 'all_training_200_4.csv'), sep='\\s+', header=None)"
   ]
  },
  {
   "cell_type": "code",
   "execution_count": 6,
   "metadata": {
    "collapsed": true
   },
   "outputs": [],
   "source": [
    "df = pd.read_csv(os.path.join(PROJECT_DATA_DIR, 'all_training_100.csv'),sep='\\s+', header=None)"
   ]
  },
  {
   "cell_type": "code",
   "execution_count": 7,
   "metadata": {},
   "outputs": [
    {
     "data": {
      "text/html": [
       "<div>\n",
       "<table border=\"1\" class=\"dataframe\">\n",
       "  <thead>\n",
       "    <tr style=\"text-align: right;\">\n",
       "      <th></th>\n",
       "      <th>0</th>\n",
       "      <th>1</th>\n",
       "      <th>2</th>\n",
       "      <th>3</th>\n",
       "      <th>4</th>\n",
       "      <th>5</th>\n",
       "      <th>6</th>\n",
       "      <th>7</th>\n",
       "      <th>8</th>\n",
       "      <th>9</th>\n",
       "      <th>...</th>\n",
       "      <th>291</th>\n",
       "      <th>292</th>\n",
       "      <th>293</th>\n",
       "      <th>294</th>\n",
       "      <th>295</th>\n",
       "      <th>296</th>\n",
       "      <th>297</th>\n",
       "      <th>298</th>\n",
       "      <th>299</th>\n",
       "      <th>300</th>\n",
       "    </tr>\n",
       "  </thead>\n",
       "  <tbody>\n",
       "    <tr>\n",
       "      <th>0</th>\n",
       "      <td>-7</td>\n",
       "      <td>15</td>\n",
       "      <td>-16</td>\n",
       "      <td>-17</td>\n",
       "      <td>7</td>\n",
       "      <td>-17</td>\n",
       "      <td>15</td>\n",
       "      <td>20</td>\n",
       "      <td>-4</td>\n",
       "      <td>3</td>\n",
       "      <td>...</td>\n",
       "      <td>-26</td>\n",
       "      <td>0</td>\n",
       "      <td>-69</td>\n",
       "      <td>-51</td>\n",
       "      <td>32</td>\n",
       "      <td>4</td>\n",
       "      <td>-25</td>\n",
       "      <td>-36</td>\n",
       "      <td>-21</td>\n",
       "      <td>8</td>\n",
       "    </tr>\n",
       "    <tr>\n",
       "      <th>1</th>\n",
       "      <td>30</td>\n",
       "      <td>2</td>\n",
       "      <td>-131</td>\n",
       "      <td>16</td>\n",
       "      <td>6</td>\n",
       "      <td>-101</td>\n",
       "      <td>80</td>\n",
       "      <td>-4</td>\n",
       "      <td>-88</td>\n",
       "      <td>91</td>\n",
       "      <td>...</td>\n",
       "      <td>40</td>\n",
       "      <td>1</td>\n",
       "      <td>-104</td>\n",
       "      <td>37</td>\n",
       "      <td>-38</td>\n",
       "      <td>-82</td>\n",
       "      <td>37</td>\n",
       "      <td>-35</td>\n",
       "      <td>-79</td>\n",
       "      <td>9</td>\n",
       "    </tr>\n",
       "    <tr>\n",
       "      <th>2</th>\n",
       "      <td>-460</td>\n",
       "      <td>-176</td>\n",
       "      <td>3796</td>\n",
       "      <td>74</td>\n",
       "      <td>423</td>\n",
       "      <td>337</td>\n",
       "      <td>-1302</td>\n",
       "      <td>188</td>\n",
       "      <td>-2973</td>\n",
       "      <td>-353</td>\n",
       "      <td>...</td>\n",
       "      <td>246</td>\n",
       "      <td>-85</td>\n",
       "      <td>-1006</td>\n",
       "      <td>235</td>\n",
       "      <td>-107</td>\n",
       "      <td>-1073</td>\n",
       "      <td>232</td>\n",
       "      <td>29</td>\n",
       "      <td>-970</td>\n",
       "      <td>9</td>\n",
       "    </tr>\n",
       "    <tr>\n",
       "      <th>3</th>\n",
       "      <td>-249</td>\n",
       "      <td>-935</td>\n",
       "      <td>8137</td>\n",
       "      <td>2178</td>\n",
       "      <td>-306</td>\n",
       "      <td>-3209</td>\n",
       "      <td>1889</td>\n",
       "      <td>-786</td>\n",
       "      <td>-5865</td>\n",
       "      <td>-1765</td>\n",
       "      <td>...</td>\n",
       "      <td>803</td>\n",
       "      <td>1102</td>\n",
       "      <td>4589</td>\n",
       "      <td>1814</td>\n",
       "      <td>71</td>\n",
       "      <td>-7278</td>\n",
       "      <td>-930</td>\n",
       "      <td>-1075</td>\n",
       "      <td>-2839</td>\n",
       "      <td>3</td>\n",
       "    </tr>\n",
       "    <tr>\n",
       "      <th>4</th>\n",
       "      <td>-11</td>\n",
       "      <td>-20</td>\n",
       "      <td>-34</td>\n",
       "      <td>-5</td>\n",
       "      <td>-14</td>\n",
       "      <td>-47</td>\n",
       "      <td>19</td>\n",
       "      <td>-36</td>\n",
       "      <td>-53</td>\n",
       "      <td>-57</td>\n",
       "      <td>...</td>\n",
       "      <td>-11</td>\n",
       "      <td>14</td>\n",
       "      <td>4</td>\n",
       "      <td>-13</td>\n",
       "      <td>24</td>\n",
       "      <td>-15</td>\n",
       "      <td>-33</td>\n",
       "      <td>39</td>\n",
       "      <td>28</td>\n",
       "      <td>8</td>\n",
       "    </tr>\n",
       "  </tbody>\n",
       "</table>\n",
       "<p>5 rows × 301 columns</p>\n",
       "</div>"
      ],
      "text/plain": [
       "   0    1     2     3    4     5     6    7     8     9   ...   291   292  \\\n",
       "0   -7   15   -16   -17    7   -17    15   20    -4     3 ...   -26     0   \n",
       "1   30    2  -131    16    6  -101    80   -4   -88    91 ...    40     1   \n",
       "2 -460 -176  3796    74  423   337 -1302  188 -2973  -353 ...   246   -85   \n",
       "3 -249 -935  8137  2178 -306 -3209  1889 -786 -5865 -1765 ...   803  1102   \n",
       "4  -11  -20   -34    -5  -14   -47    19  -36   -53   -57 ...   -11    14   \n",
       "\n",
       "    293   294  295   296  297   298   299  300  \n",
       "0   -69   -51   32     4  -25   -36   -21    8  \n",
       "1  -104    37  -38   -82   37   -35   -79    9  \n",
       "2 -1006   235 -107 -1073  232    29  -970    9  \n",
       "3  4589  1814   71 -7278 -930 -1075 -2839    3  \n",
       "4     4   -13   24   -15  -33    39    28    8  \n",
       "\n",
       "[5 rows x 301 columns]"
      ]
     },
     "execution_count": 7,
     "metadata": {},
     "output_type": "execute_result"
    }
   ],
   "source": [
    "df.head()"
   ]
  },
  {
   "cell_type": "code",
   "execution_count": 8,
   "metadata": {},
   "outputs": [
    {
     "name": "stdout",
     "output_type": "stream",
     "text": [
      "(205004, 301)\n",
      "labels: [ 8  9  3  2  7  5 -1  4  6  1  0]\n"
     ]
    }
   ],
   "source": [
    "print(df.shape)\n",
    "print('labels:', df[df.columns[-1]].unique())\n"
   ]
  },
  {
   "cell_type": "code",
   "execution_count": 9,
   "metadata": {},
   "outputs": [
    {
     "name": "stdout",
     "output_type": "stream",
     "text": [
      "[ 1  8  9  4  7 -1  5  3  2  6  0]\n"
     ]
    },
    {
     "data": {
      "text/html": [
       "<div>\n",
       "<table border=\"1\" class=\"dataframe\">\n",
       "  <thead>\n",
       "    <tr style=\"text-align: right;\">\n",
       "      <th></th>\n",
       "      <th>0</th>\n",
       "      <th>1</th>\n",
       "      <th>2</th>\n",
       "      <th>3</th>\n",
       "      <th>4</th>\n",
       "      <th>5</th>\n",
       "      <th>6</th>\n",
       "      <th>7</th>\n",
       "      <th>8</th>\n",
       "      <th>9</th>\n",
       "      <th>...</th>\n",
       "      <th>591</th>\n",
       "      <th>592</th>\n",
       "      <th>593</th>\n",
       "      <th>594</th>\n",
       "      <th>595</th>\n",
       "      <th>596</th>\n",
       "      <th>597</th>\n",
       "      <th>598</th>\n",
       "      <th>599</th>\n",
       "      <th>600</th>\n",
       "    </tr>\n",
       "  </thead>\n",
       "  <tbody>\n",
       "    <tr>\n",
       "      <th>0</th>\n",
       "      <td>98</td>\n",
       "      <td>-10</td>\n",
       "      <td>-66</td>\n",
       "      <td>201</td>\n",
       "      <td>14</td>\n",
       "      <td>-441</td>\n",
       "      <td>-17</td>\n",
       "      <td>133</td>\n",
       "      <td>-476</td>\n",
       "      <td>-165</td>\n",
       "      <td>...</td>\n",
       "      <td>-117</td>\n",
       "      <td>22</td>\n",
       "      <td>105</td>\n",
       "      <td>-133</td>\n",
       "      <td>94</td>\n",
       "      <td>184</td>\n",
       "      <td>-107</td>\n",
       "      <td>12</td>\n",
       "      <td>-26</td>\n",
       "      <td>1</td>\n",
       "    </tr>\n",
       "    <tr>\n",
       "      <th>1</th>\n",
       "      <td>-16</td>\n",
       "      <td>22</td>\n",
       "      <td>6</td>\n",
       "      <td>-28</td>\n",
       "      <td>-4</td>\n",
       "      <td>-32</td>\n",
       "      <td>-24</td>\n",
       "      <td>-44</td>\n",
       "      <td>-56</td>\n",
       "      <td>-20</td>\n",
       "      <td>...</td>\n",
       "      <td>-21</td>\n",
       "      <td>-46</td>\n",
       "      <td>1</td>\n",
       "      <td>-2</td>\n",
       "      <td>9</td>\n",
       "      <td>-37</td>\n",
       "      <td>-23</td>\n",
       "      <td>13</td>\n",
       "      <td>-27</td>\n",
       "      <td>8</td>\n",
       "    </tr>\n",
       "    <tr>\n",
       "      <th>2</th>\n",
       "      <td>38</td>\n",
       "      <td>-12</td>\n",
       "      <td>-101</td>\n",
       "      <td>59</td>\n",
       "      <td>7</td>\n",
       "      <td>-106</td>\n",
       "      <td>41</td>\n",
       "      <td>-28</td>\n",
       "      <td>-103</td>\n",
       "      <td>77</td>\n",
       "      <td>...</td>\n",
       "      <td>36</td>\n",
       "      <td>-49</td>\n",
       "      <td>-451</td>\n",
       "      <td>10</td>\n",
       "      <td>165</td>\n",
       "      <td>-806</td>\n",
       "      <td>-141</td>\n",
       "      <td>170</td>\n",
       "      <td>-431</td>\n",
       "      <td>9</td>\n",
       "    </tr>\n",
       "    <tr>\n",
       "      <th>3</th>\n",
       "      <td>-3</td>\n",
       "      <td>7</td>\n",
       "      <td>98</td>\n",
       "      <td>-47</td>\n",
       "      <td>-41</td>\n",
       "      <td>143</td>\n",
       "      <td>-22</td>\n",
       "      <td>-13</td>\n",
       "      <td>173</td>\n",
       "      <td>1</td>\n",
       "      <td>...</td>\n",
       "      <td>4187</td>\n",
       "      <td>7654</td>\n",
       "      <td>-23864</td>\n",
       "      <td>216</td>\n",
       "      <td>5826</td>\n",
       "      <td>1017</td>\n",
       "      <td>-5903</td>\n",
       "      <td>-564</td>\n",
       "      <td>1969</td>\n",
       "      <td>4</td>\n",
       "    </tr>\n",
       "    <tr>\n",
       "      <th>4</th>\n",
       "      <td>35</td>\n",
       "      <td>19</td>\n",
       "      <td>108</td>\n",
       "      <td>-16</td>\n",
       "      <td>34</td>\n",
       "      <td>86</td>\n",
       "      <td>-4</td>\n",
       "      <td>-4</td>\n",
       "      <td>79</td>\n",
       "      <td>18</td>\n",
       "      <td>...</td>\n",
       "      <td>70</td>\n",
       "      <td>-50</td>\n",
       "      <td>190</td>\n",
       "      <td>-30</td>\n",
       "      <td>-35</td>\n",
       "      <td>100</td>\n",
       "      <td>52</td>\n",
       "      <td>-34</td>\n",
       "      <td>152</td>\n",
       "      <td>7</td>\n",
       "    </tr>\n",
       "  </tbody>\n",
       "</table>\n",
       "<p>5 rows × 601 columns</p>\n",
       "</div>"
      ],
      "text/plain": [
       "   0    1    2    3    4    5    6    7    8    9   ...    591   592    593  \\\n",
       "0   98  -10  -66  201   14 -441  -17  133 -476 -165 ...   -117    22    105   \n",
       "1  -16   22    6  -28   -4  -32  -24  -44  -56  -20 ...    -21   -46      1   \n",
       "2   38  -12 -101   59    7 -106   41  -28 -103   77 ...     36   -49   -451   \n",
       "3   -3    7   98  -47  -41  143  -22  -13  173    1 ...   4187  7654 -23864   \n",
       "4   35   19  108  -16   34   86   -4   -4   79   18 ...     70   -50    190   \n",
       "\n",
       "   594   595   596   597  598   599  600  \n",
       "0 -133    94   184  -107   12   -26    1  \n",
       "1   -2     9   -37   -23   13   -27    8  \n",
       "2   10   165  -806  -141  170  -431    9  \n",
       "3  216  5826  1017 -5903 -564  1969    4  \n",
       "4  -30   -35   100    52  -34   152    7  \n",
       "\n",
       "[5 rows x 601 columns]"
      ]
     },
     "execution_count": 9,
     "metadata": {},
     "output_type": "execute_result"
    }
   ],
   "source": [
    "print(data[data.columns[-1]].unique())\n",
    "data.head()"
   ]
  },
  {
   "cell_type": "code",
   "execution_count": null,
   "metadata": {},
   "outputs": [
    {
     "data": {
      "text/plain": [
       "(199404, 601)"
      ]
     },
     "execution_count": 10,
     "metadata": {},
     "output_type": "execute_result"
    }
   ],
   "source": [
    "data.shape"
   ]
  },
  {
   "cell_type": "code",
   "execution_count": null,
   "metadata": {
    "collapsed": true
   },
   "outputs": [],
   "source": [
    "df1 = pd.read_csv(os.path.join(PROJECT_DATA_DIR, 'all_test_2000_1.csv'),sep='\\s+', header=None)"
   ]
  },
  {
   "cell_type": "code",
   "execution_count": null,
   "metadata": {
    "collapsed": true
   },
   "outputs": [],
   "source": [
    "df1.head()"
   ]
  },
  {
   "cell_type": "code",
   "execution_count": null,
   "metadata": {
    "collapsed": true
   },
   "outputs": [],
   "source": [
    "df1.shape"
   ]
  },
  {
   "cell_type": "code",
   "execution_count": null,
   "metadata": {
    "collapsed": true
   },
   "outputs": [],
   "source": []
  },
  {
   "cell_type": "code",
   "execution_count": null,
   "metadata": {
    "collapsed": true
   },
   "outputs": [],
   "source": [
    "#data_iter = mx.io.CSVIter(\n",
    "#    data_csv=os.path.join(PROJECT_DATA_DIR, 'all_test_2000_1.csv'),data_shape=(1,), batch_size=2**9)"
   ]
  },
  {
   "cell_type": "code",
   "execution_count": null,
   "metadata": {
    "collapsed": true
   },
   "outputs": [],
   "source": [
    "#data_iter"
   ]
  },
  {
   "cell_type": "code",
   "execution_count": null,
   "metadata": {
    "collapsed": true,
    "scrolled": true
   },
   "outputs": [],
   "source": [
    "#for batch in data_iter:\n",
    "#    print([batch.data, batch.pad])"
   ]
  },
  {
   "cell_type": "code",
   "execution_count": null,
   "metadata": {
    "collapsed": true
   },
   "outputs": [],
   "source": [
    "# Work with neural networks"
   ]
  },
  {
   "cell_type": "code",
   "execution_count": null,
   "metadata": {
    "collapsed": true
   },
   "outputs": [],
   "source": [
    "sensor_train = pd.read_csv(os.path.join(PROJECT_DATA_DIR, \n",
    "                                        'all_training_400_minisensor_1.csv'), \n",
    "                           sep='\\s+', header=None)\n",
    "\n",
    "sensor_test = pd.read_csv(os.path.join(PROJECT_DATA_DIR, \n",
    "                                       'all_test_400_minisensor.csv'),\n",
    "                          sep='\\s+', header=None)"
   ]
  },
  {
   "cell_type": "code",
   "execution_count": null,
   "metadata": {
    "collapsed": true
   },
   "outputs": [],
   "source": [
    "sensor_train.head()"
   ]
  },
  {
   "cell_type": "code",
   "execution_count": null,
   "metadata": {
    "collapsed": true
   },
   "outputs": [],
   "source": [
    "sensor_test.head()"
   ]
  },
  {
   "cell_type": "code",
   "execution_count": null,
   "metadata": {
    "collapsed": true
   },
   "outputs": [],
   "source": [
    "sensor_train[sensor_train.columns[-1]].unique()"
   ]
  },
  {
   "cell_type": "code",
   "execution_count": null,
   "metadata": {
    "collapsed": true
   },
   "outputs": [],
   "source": [
    "sensor_train[sensor_train.columns[-1]].unique()"
   ]
  },
  {
   "cell_type": "code",
   "execution_count": null,
   "metadata": {
    "collapsed": true
   },
   "outputs": [],
   "source": [
    "sensor_test[sensor_test.columns[-1]].unique()"
   ]
  },
  {
   "cell_type": "code",
   "execution_count": null,
   "metadata": {
    "collapsed": true
   },
   "outputs": [],
   "source": [
    "from sklearn.preprocessing import (MinMaxScaler,\n",
    "                                   StandardScaler,\n",
    "                                   Imputer,\n",
    "                                   QuantileTransformer)"
   ]
  },
  {
   "cell_type": "code",
   "execution_count": null,
   "metadata": {
    "collapsed": true
   },
   "outputs": [],
   "source": []
  },
  {
   "cell_type": "code",
   "execution_count": null,
   "metadata": {
    "collapsed": true
   },
   "outputs": [],
   "source": [
    "ytrain = sensor_train[sensor_train.columns[-1]]\n",
    "#ytrain.head()\n",
    "xtrain = sensor_train.drop(sensor_train.columns[-1], axis=1) "
   ]
  },
  {
   "cell_type": "code",
   "execution_count": null,
   "metadata": {
    "collapsed": true
   },
   "outputs": [],
   "source": [
    "xtrain.head()"
   ]
  },
  {
   "cell_type": "code",
   "execution_count": null,
   "metadata": {
    "collapsed": true
   },
   "outputs": [],
   "source": [
    "ytest = sensor_test[sensor_test.columns[-1]]\n",
    "xtest = sensor_test.drop(sensor_test.columns[-1], axis=1) "
   ]
  },
  {
   "cell_type": "code",
   "execution_count": null,
   "metadata": {
    "collapsed": true
   },
   "outputs": [],
   "source": [
    "ytrain_sc = ytrain.map(lambda x: 1 if (x == 2 or x == 3) else 0)\n",
    "ytest_sc = ytest.map(lambda x: 1 if (x == 2 or x == 3) else 0)"
   ]
  },
  {
   "cell_type": "code",
   "execution_count": null,
   "metadata": {
    "collapsed": true
   },
   "outputs": [],
   "source": [
    "print(ytrain_sc.unique())\n",
    "ytrain_sc.head()\n"
   ]
  },
  {
   "cell_type": "markdown",
   "metadata": {
    "collapsed": true
   },
   "source": [
    "## New data"
   ]
  },
  {
   "cell_type": "code",
   "execution_count": null,
   "metadata": {
    "collapsed": true
   },
   "outputs": [],
   "source": [
    "#list_ = []\n",
    "#train_list = ['xab.csv', 'xaa.csv']\n",
    "#for x in train_list:\n",
    "#    df = pd.read_csv(os.path.join(PROJECT_DATA_DIR, x), sep='\\s+', header=None)\n",
    "#    list_.append(df)\n",
    "#train_xab = pd.concat(list_)\n",
    "\n",
    "train_xab= pd.read_csv(os.path.join(PROJECT_DATA_DIR, 'xab.csv'), \n",
    "                       sep='\\s+', \n",
    "                       header=None)"
   ]
  },
  {
   "cell_type": "code",
   "execution_count": null,
   "metadata": {
    "collapsed": true
   },
   "outputs": [],
   "source": [
    "train_xab.head()"
   ]
  },
  {
   "cell_type": "code",
   "execution_count": null,
   "metadata": {
    "collapsed": true
   },
   "outputs": [],
   "source": [
    "train_xab.shape"
   ]
  },
  {
   "cell_type": "code",
   "execution_count": null,
   "metadata": {
    "collapsed": true
   },
   "outputs": [],
   "source": [
    "ytrain_xab = train_xab[train_xab.columns[-1]]\n",
    "print(ytrain_xab.unique())"
   ]
  },
  {
   "cell_type": "code",
   "execution_count": null,
   "metadata": {
    "collapsed": true
   },
   "outputs": [],
   "source": [
    "xtrain_xab = train_xab.drop(train_xab.columns[-1], axis=1)"
   ]
  },
  {
   "cell_type": "code",
   "execution_count": null,
   "metadata": {
    "collapsed": true
   },
   "outputs": [],
   "source": [
    "xtrain_xab.head()"
   ]
  },
  {
   "cell_type": "code",
   "execution_count": null,
   "metadata": {
    "collapsed": true
   },
   "outputs": [],
   "source": [
    "test_xab = pd.read_csv(os.path.join(PROJECT_DATA_DIR, 'xab_test_400.csv'), sep='\\s+', header=None)"
   ]
  },
  {
   "cell_type": "code",
   "execution_count": null,
   "metadata": {
    "collapsed": true
   },
   "outputs": [],
   "source": [
    "test_xab.head()"
   ]
  },
  {
   "cell_type": "code",
   "execution_count": null,
   "metadata": {
    "collapsed": true
   },
   "outputs": [],
   "source": [
    "test_xab.shape"
   ]
  },
  {
   "cell_type": "code",
   "execution_count": null,
   "metadata": {
    "collapsed": true
   },
   "outputs": [],
   "source": [
    "#xtest_xab.head()"
   ]
  },
  {
   "cell_type": "code",
   "execution_count": null,
   "metadata": {
    "collapsed": true
   },
   "outputs": [],
   "source": [
    "ytest_xab = test_xab[test_xab.columns[-1]]\n",
    "print(ytest_xab.unique())\n",
    "#xtest_xab = test_xab.drop(test_xab.columns[-1])"
   ]
  },
  {
   "cell_type": "code",
   "execution_count": null,
   "metadata": {
    "collapsed": true
   },
   "outputs": [],
   "source": [
    "xtest_xab = test_xab.drop(test_xab.columns[-1], axis=1)"
   ]
  },
  {
   "cell_type": "code",
   "execution_count": null,
   "metadata": {
    "collapsed": true
   },
   "outputs": [],
   "source": [
    "xtest_xab.shape"
   ]
  },
  {
   "cell_type": "code",
   "execution_count": null,
   "metadata": {
    "collapsed": true
   },
   "outputs": [],
   "source": [
    "xtest_xab.head()"
   ]
  },
  {
   "cell_type": "code",
   "execution_count": null,
   "metadata": {
    "collapsed": true
   },
   "outputs": [],
   "source": [
    "ytrain_xab = ytrain_xab.map(lambda x: 1 if x in [12, 13, 17, 20] else 0)\n",
    "ytest_xab = ytest_xab.map(lambda x: 1 if x in [12, 13, 17, 20] else 0)"
   ]
  },
  {
   "cell_type": "code",
   "execution_count": null,
   "metadata": {
    "collapsed": true
   },
   "outputs": [],
   "source": [
    "print(ytrain_xab.unique())\n",
    "ytrain_xab.head()"
   ]
  },
  {
   "cell_type": "code",
   "execution_count": null,
   "metadata": {
    "collapsed": true
   },
   "outputs": [],
   "source": []
  },
  {
   "cell_type": "code",
   "execution_count": null,
   "metadata": {
    "collapsed": true
   },
   "outputs": [],
   "source": []
  },
  {
   "cell_type": "markdown",
   "metadata": {},
   "source": [
    "## Preprocessing"
   ]
  },
  {
   "cell_type": "code",
   "execution_count": null,
   "metadata": {
    "collapsed": true
   },
   "outputs": [],
   "source": [
    "xtrain.info()"
   ]
  },
  {
   "cell_type": "code",
   "execution_count": null,
   "metadata": {
    "collapsed": true
   },
   "outputs": [],
   "source": [
    "print(xtrain.shape)\n",
    "xtrain.describe()"
   ]
  },
  {
   "cell_type": "code",
   "execution_count": null,
   "metadata": {
    "collapsed": true
   },
   "outputs": [],
   "source": [
    "import matplotlib.pyplot as plt"
   ]
  },
  {
   "cell_type": "code",
   "execution_count": null,
   "metadata": {
    "collapsed": true
   },
   "outputs": [],
   "source": [
    "xtrain[xtrain.columns[0:10:3]].plot()\n",
    "plt.show()"
   ]
  },
  {
   "cell_type": "code",
   "execution_count": null,
   "metadata": {
    "collapsed": true
   },
   "outputs": [],
   "source": [
    "xtrain[xtrain.columns[1100:1120:3]].plot()\n",
    "plt.show()"
   ]
  },
  {
   "cell_type": "code",
   "execution_count": null,
   "metadata": {
    "collapsed": true
   },
   "outputs": [],
   "source": [
    "xtrain[xtrain.columns[500:510:3]].plot()\n",
    "plt.show()"
   ]
  },
  {
   "cell_type": "code",
   "execution_count": null,
   "metadata": {
    "collapsed": true
   },
   "outputs": [],
   "source": [
    "ytrain_sc.hist()\n",
    "plt.show()"
   ]
  },
  {
   "cell_type": "code",
   "execution_count": null,
   "metadata": {
    "collapsed": true
   },
   "outputs": [],
   "source": [
    "ytest_sc.hist()\n",
    "plt.show()"
   ]
  },
  {
   "cell_type": "markdown",
   "metadata": {},
   "source": [
    "## Scaling and transforming data"
   ]
  },
  {
   "cell_type": "code",
   "execution_count": null,
   "metadata": {
    "collapsed": true
   },
   "outputs": [],
   "source": [
    "scaler = StandardScaler()#QuantileTransformer(output_distribution='normal')\n",
    "xtrain_sc = scaler.fit_transform(xtrain)\n",
    "xtest_sc = scaler.transform(xtest)"
   ]
  },
  {
   "cell_type": "code",
   "execution_count": null,
   "metadata": {
    "collapsed": true
   },
   "outputs": [],
   "source": [
    "print(ytrain_sc.shape)\n",
    "print(xtrain_sc.shape)\n",
    "type(xtrain_sc)\n"
   ]
  },
  {
   "cell_type": "code",
   "execution_count": null,
   "metadata": {
    "collapsed": true
   },
   "outputs": [],
   "source": [
    "plt.plot(xtrain_sc[:,0:10:3])\n",
    "plt.show()\n"
   ]
  },
  {
   "cell_type": "code",
   "execution_count": null,
   "metadata": {
    "collapsed": true
   },
   "outputs": [],
   "source": [
    "plt.plot(xtest_sc[:,0:10:3])\n",
    "plt.show()"
   ]
  },
  {
   "cell_type": "code",
   "execution_count": null,
   "metadata": {
    "collapsed": true
   },
   "outputs": [],
   "source": [
    "import keras\n",
    "from keras.models import Sequential\n",
    "from keras.layers import Dense, LSTM, Dropout, BatchNormalization\n",
    "from keras import optimizers\n",
    "from sklearn.metrics import f1_score"
   ]
  },
  {
   "cell_type": "code",
   "execution_count": null,
   "metadata": {
    "collapsed": true
   },
   "outputs": [],
   "source": [
    "def model(drop_rate, lr, units, decay, no_features, no_outputs):\n",
    "    optim = optimizers.Adam(lr=lr,\n",
    "                            beta_1=0.9,\n",
    "                            beta_2=0.999,\n",
    "                            decay=1e-6)\n",
    "    model = Sequential()\n",
    "    model.add(BatchNormalization(input_shape=(xtrain.shape[1], )))\n",
    "    model.add(Dense(units, activation='relu', input_dim=1200))\n",
    "    model.add(Dense(1, activation='softmax'))\n",
    "    model.compile(loss='categorical_crossentropy', \n",
    "                  optim=optim, \n",
    "                  metrics=['accuracy'])\n",
    "    \n",
    "    return model"
   ]
  },
  {
   "cell_type": "code",
   "execution_count": null,
   "metadata": {
    "collapsed": true
   },
   "outputs": [],
   "source": [
    "#del model\n",
    "model = Sequential()\n",
    "#model.add(BatchNormalization(input_dim=1200))\n",
    "model.add(Dense(units=1200, activation='relu', input_dim=1200), )\n",
    "model.add(Dropout(0.4))\n",
    "model.add(Dense(units=500))\n",
    "model.add(Dropout(0.4))\n",
    "model.add(Dense(units=75, activation='relu'))\n",
    "model.add(Dropout(0.4))\n",
    "model.add(Dense(units=1, activation='sigmoid'))\n"
   ]
  },
  {
   "cell_type": "code",
   "execution_count": null,
   "metadata": {
    "collapsed": true
   },
   "outputs": [],
   "source": [
    "lr = 0.001\n",
    "optim = optimizers.Adam(lr=lr,\n",
    "                        beta_1=0.9,\n",
    "                        beta_2=0.999,\n",
    "                        decay=1e-6)\n",
    "model.compile(loss='binary_crossentropy',\n",
    "                        optimizer=optim,\n",
    "                        metrics=['accuracy'])"
   ]
  },
  {
   "cell_type": "code",
   "execution_count": null,
   "metadata": {
    "collapsed": true
   },
   "outputs": [],
   "source": [
    "history = model.fit(xtrain_sc,\n",
    "                    ytrain_sc,\n",
    "                    epochs=20,\n",
    "                    batch_size=2**9, \n",
    "                    validation_data=(xtest_sc, ytest_sc))"
   ]
  },
  {
   "cell_type": "code",
   "execution_count": null,
   "metadata": {
    "collapsed": true
   },
   "outputs": [],
   "source": [
    "pred_train = model.predict_classes(xtrain_sc)\n",
    "pred_test = model.predict_classes(xtest_sc)\n",
    "print(pred_test)\n",
    "print('')\n",
    "print('unique values train data set', np.unique(pred_train))\n",
    "print('unique values test data set:', np.unique(pred_test))\n",
    "print('')\n",
    "print('training score:', f1_score(ytrain_sc, pred_train))\n",
    "print('test score:', f1_score(ytest_sc, pred_test))"
   ]
  },
  {
   "cell_type": "code",
   "execution_count": null,
   "metadata": {
    "collapsed": true
   },
   "outputs": [],
   "source": [
    "scaler_xab = QuantileTransformer(copy=False, \n",
    "                                 output_distribution='normal')\n",
    "xtrain_xab_sc = scaler_xab.fit_transform(xtrain_xab)\n",
    "xtest_xab_sc = scaler_xab.transform(xtest_xab)"
   ]
  },
  {
   "cell_type": "code",
   "execution_count": null,
   "metadata": {
    "collapsed": true
   },
   "outputs": [],
   "source": [
    "print(xtrain_xab_sc.shape)\n",
    "print(xtest_xab_sc.shape)"
   ]
  },
  {
   "cell_type": "code",
   "execution_count": null,
   "metadata": {
    "collapsed": true
   },
   "outputs": [],
   "source": [
    "history = model.fit(xtrain_xab_sc,\n",
    "                    ytrain_xab,\n",
    "                    epochs=20,\n",
    "                    batch_size=2**9, \n",
    "                    validation_data=(xtest_xab_sc, ytest_xab))"
   ]
  },
  {
   "cell_type": "code",
   "execution_count": null,
   "metadata": {
    "collapsed": true
   },
   "outputs": [],
   "source": [
    "pred_train_xab = model.predict_classes(xtrain_xab_sc)\n",
    "pred_test_xab = model.predict_classes(xtest_xab_sc)\n",
    "print('train score xab data set:', f1_score(ytrain_xab, pred_train_xab))\n",
    "print('test score xabe data set:', f1_score(ytest_xab, pred_test_xab))\n"
   ]
  },
  {
   "cell_type": "code",
   "execution_count": null,
   "metadata": {
    "collapsed": true
   },
   "outputs": [],
   "source": [
    "plt.figure(figsize=(7,7))\n",
    "plt.plot(history.history['loss'])\n",
    "plt.plot(history.history['val_loss'])\n",
    "plt.xlabel('epoch')\n",
    "plt.legend(['train', 'test'], loc='upper right')\n",
    "#plt.legeng()\n",
    "plt.show()"
   ]
  },
  {
   "cell_type": "code",
   "execution_count": null,
   "metadata": {
    "collapsed": true
   },
   "outputs": [],
   "source": [
    "from sklearn.metrics import confusion_matrix"
   ]
  },
  {
   "cell_type": "code",
   "execution_count": null,
   "metadata": {
    "collapsed": true
   },
   "outputs": [],
   "source": [
    "cfn_matrix = confusion_matrix(ytrain_xab, pred_train_xab)\n"
   ]
  },
  {
   "cell_type": "code",
   "execution_count": null,
   "metadata": {
    "collapsed": true
   },
   "outputs": [],
   "source": [
    "#drop_rate = 0.4\n",
    "#lr = 0.001\n",
    "#decay = 1e-6\n",
    "#units = 500\n",
    "#no_features = xtrain.shape[1]\n",
    "#no_outputs = 1\n",
    "#model = model(drop_rate, lr, decay, units, no_features, no_outputs)"
   ]
  },
  {
   "cell_type": "code",
   "execution_count": null,
   "metadata": {
    "collapsed": true
   },
   "outputs": [],
   "source": [
    "xtrain_sensor = scaler_xab.transform(xtrain)\n",
    "xtest_sensor = scaler_xab.transform(xtest)"
   ]
  },
  {
   "cell_type": "code",
   "execution_count": null,
   "metadata": {
    "collapsed": true
   },
   "outputs": [],
   "source": [
    "pred_sensor_train = model.predict_classes(xtrain_sensor)\n",
    "pred_sensor_test = model.predict_classes(xtest_sensor)\n",
    "print('')\n",
    "print('train sensor:', f1_score(ytrain_sc, pred_sensor_train))\n",
    "print('test sensor:', f1_score(ytest_sc, pred_sensor_test))"
   ]
  },
  {
   "cell_type": "code",
   "execution_count": null,
   "metadata": {
    "collapsed": true
   },
   "outputs": [],
   "source": []
  },
  {
   "cell_type": "code",
   "execution_count": null,
   "metadata": {
    "collapsed": true
   },
   "outputs": [],
   "source": []
  },
  {
   "cell_type": "code",
   "execution_count": null,
   "metadata": {
    "collapsed": true
   },
   "outputs": [],
   "source": []
  },
  {
   "cell_type": "code",
   "execution_count": null,
   "metadata": {
    "collapsed": true
   },
   "outputs": [],
   "source": []
  },
  {
   "cell_type": "code",
   "execution_count": null,
   "metadata": {
    "collapsed": true
   },
   "outputs": [],
   "source": []
  },
  {
   "cell_type": "code",
   "execution_count": null,
   "metadata": {
    "collapsed": true
   },
   "outputs": [],
   "source": []
  },
  {
   "cell_type": "code",
   "execution_count": null,
   "metadata": {
    "collapsed": true
   },
   "outputs": [],
   "source": []
  }
 ],
 "metadata": {
  "kernelspec": {
   "display_name": "Python 3",
   "language": "python",
   "name": "python3"
  },
  "language_info": {
   "codemirror_mode": {
    "name": "ipython",
    "version": 3
   },
   "file_extension": ".py",
   "mimetype": "text/x-python",
   "name": "python",
   "nbconvert_exporter": "python",
   "pygments_lexer": "ipython3",
   "version": "3.5.3"
  }
 },
 "nbformat": 4,
 "nbformat_minor": 2
}
