{
 "cells": [
  {
   "cell_type": "code",
   "execution_count": 1,
   "metadata": {},
   "outputs": [
    {
     "name": "stdout",
     "output_type": "stream",
     "text": [
      "Solving environment: / \n",
      "WARNING: The remote server could not find the noarch directory for the\n",
      "requested channel with url: https://conda.anaconda.org/condaforge\n",
      "\n",
      "It is possible you have given conda an invalid channel. Please double-check\n",
      "your conda configuration using `conda config --show`.\n",
      "\n",
      "If the requested url is in fact a valid conda channel, please request that the\n",
      "channel administrator create `noarch/repodata.json` and associated\n",
      "`noarch/repodata.json.bz2` files, even if `noarch/repodata.json` is empty.\n",
      "$ mkdir noarch\n",
      "$ echo '{}' > noarch/repodata.json\n",
      "$ bzip2 -k noarch/repodata.json\n",
      "done\n",
      "\n",
      "\n",
      "==> WARNING: A newer version of conda exists. <==\n",
      "  current version: 4.4.10\n",
      "  latest version: 4.5.3\n",
      "\n",
      "Please update conda by running\n",
      "\n",
      "    $ conda update -n base conda\n",
      "\n",
      "\n",
      "\n",
      "## Package Plan ##\n",
      "\n",
      "  environment location: /home/ec2-user/anaconda3/envs/python3\n",
      "\n",
      "  added / updated specs: \n",
      "    - keras\n",
      "\n",
      "\n",
      "The following packages will be downloaded:\n",
      "\n",
      "    package                    |            build\n",
      "    ---------------------------|-----------------\n",
      "    gast-0.2.0                 |           py36_0          15 KB\n",
      "    tensorflow-1.7.0           |                0           3 KB\n",
      "    certifi-2018.4.16          |           py36_0         142 KB\n",
      "    absl-py-0.2.0              |           py36_0         135 KB\n",
      "    html5lib-0.9999999         |           py36_0         176 KB\n",
      "    tensorboard-1.7.0          |   py36hf484d3e_1         3.0 MB\n",
      "    tensorflow-base-1.7.0      |   py36hdbcaa40_2        38.7 MB\n",
      "    bleach-1.5.0               |           py36_0          22 KB\n",
      "    keras-2.1.5                |           py36_0         490 KB\n",
      "    astor-0.6.2                |           py36_0          42 KB\n",
      "    grpcio-1.11.0              |   py36hf484d3e_0         1.7 MB\n",
      "    markdown-2.6.11            |           py36_0         104 KB\n",
      "    termcolor-1.1.0            |           py36_1           7 KB\n",
      "    ------------------------------------------------------------\n",
      "                                           Total:        44.5 MB\n",
      "\n",
      "The following NEW packages will be INSTALLED:\n",
      "\n",
      "    absl-py:         0.2.0-py36_0                     \n",
      "    astor:           0.6.2-py36_0                     \n",
      "    gast:            0.2.0-py36_0                     \n",
      "    grpcio:          1.11.0-py36hf484d3e_0            \n",
      "    keras:           2.1.5-py36_0                     \n",
      "    markdown:        2.6.11-py36_0                    \n",
      "    tensorboard:     1.7.0-py36hf484d3e_1             \n",
      "    tensorflow:      1.7.0-0                          \n",
      "    tensorflow-base: 1.7.0-py36hdbcaa40_2             \n",
      "    termcolor:       1.1.0-py36_1                     \n",
      "\n",
      "The following packages will be UPDATED:\n",
      "\n",
      "    certifi:         2018.4.16-py36_0      conda-forge --> 2018.4.16-py36_0 \n",
      "    openssl:         1.0.2o-0              conda-forge --> 1.0.2o-h20670df_0\n",
      "\n",
      "The following packages will be DOWNGRADED:\n",
      "\n",
      "    bleach:          2.1.2-py36_0                      --> 1.5.0-py36_0     \n",
      "    html5lib:        1.0.1-py36h2f9c1c0_0              --> 0.9999999-py36_0 \n",
      "\n",
      "\n",
      "Downloading and Extracting Packages\n",
      "gast 0.2.0: ############################################################ | 100% \n",
      "tensorflow 1.7.0: ###################################################### | 100% \n",
      "certifi 2018.4.16: ##################################################### | 100% \n",
      "absl-py 0.2.0: ######################################################### | 100% \n",
      "html5lib 0.9999999: #################################################### | 100% \n",
      "tensorboard 1.7.0: ##################################################### | 100% \n",
      "tensorflow-base 1.7.0: ################################################# | 100% \n",
      "bleach 1.5.0: ########################################################## | 100% \n",
      "keras 2.1.5: ########################################################### | 100% \n",
      "astor 0.6.2: ########################################################### | 100% \n",
      "grpcio 1.11.0: ######################################################### | 100% \n",
      "markdown 2.6.11: ####################################################### | 100% \n",
      "termcolor 1.1.0: ####################################################### | 100% \n",
      "Preparing transaction: done\n",
      "Verifying transaction: done\n",
      "Executing transaction: done\n"
     ]
    }
   ],
   "source": [
    "%sc\n",
    "!conda install -c condaforge keras --yes"
   ]
  },
  {
   "cell_type": "code",
   "execution_count": 5,
   "metadata": {},
   "outputs": [
    {
     "name": "stdout",
     "output_type": "stream",
     "text": [
      "Solving environment: - \n",
      "WARNING: The remote server could not find the noarch directory for the\n",
      "requested channel with url: https://conda.anaconda.org/condaforge\n",
      "\n",
      "It is possible you have given conda an invalid channel. Please double-check\n",
      "your conda configuration using `conda config --show`.\n",
      "\n",
      "If the requested url is in fact a valid conda channel, please request that the\n",
      "channel administrator create `noarch/repodata.json` and associated\n",
      "`noarch/repodata.json.bz2` files, even if `noarch/repodata.json` is empty.\n",
      "$ mkdir noarch\n",
      "$ echo '{}' > noarch/repodata.json\n",
      "$ bzip2 -k noarch/repodata.json\n",
      "done\n",
      "\n",
      "\n",
      "==> WARNING: A newer version of conda exists. <==\n",
      "  current version: 4.4.10\n",
      "  latest version: 4.5.3\n",
      "\n",
      "Please update conda by running\n",
      "\n",
      "    $ conda update -n base conda\n",
      "\n",
      "\n",
      "\n",
      "## Package Plan ##\n",
      "\n",
      "  environment location: /home/ec2-user/anaconda3/envs/python3\n",
      "\n",
      "  added / updated specs: \n",
      "    - mxnet\n",
      "\n",
      "\n",
      "The following packages will be downloaded:\n",
      "\n",
      "    package                    |            build\n",
      "    ---------------------------|-----------------\n",
      "    mkl-2018.0.2               |                1       205.2 MB\n",
      "    jemalloc-5.0.1             |       hf484d3e_1         9.1 MB\n",
      "    libmxnet-1.1.0             |       h47cb24f_0        49.0 MB\n",
      "    libopus-1.2.1              |       hb9ed12e_0         382 KB\n",
      "    libvpx-1.6.1               |       h888fd40_0         2.3 MB\n",
      "    opencv-3.3.1               |   py36h0a11808_0        38.9 MB\n",
      "    mkl_random-1.0.1           |   py36h629b387_0         373 KB\n",
      "    mkl_fft-1.0.1              |   py36h3010b51_0         140 KB\n",
      "    py-mxnet-1.1.0             |   py36hf484d3e_0         637 KB\n",
      "    numpy-1.13.3               |   py36hdbf6ddf_4         3.9 MB\n",
      "    mxnet-1.1.0                |   py36hb4372cb_0          17 KB\n",
      "    ffmpeg-3.4                 |       h7264315_0         8.0 MB\n",
      "    ------------------------------------------------------------\n",
      "                                           Total:       318.0 MB\n",
      "\n",
      "The following NEW packages will be INSTALLED:\n",
      "\n",
      "    jemalloc:   5.0.1-hf484d3e_1                         \n",
      "    libmxnet:   1.1.0-h47cb24f_0                         \n",
      "    libopus:    1.2.1-hb9ed12e_0                         \n",
      "    libvpx:     1.6.1-h888fd40_0                         \n",
      "    mkl_fft:    1.0.1-py36h3010b51_0                     \n",
      "    mkl_random: 1.0.1-py36h629b387_0                     \n",
      "    mxnet:      1.1.0-py36hb4372cb_0                     \n",
      "    py-mxnet:   1.1.0-py36hf484d3e_0                     \n",
      "\n",
      "The following packages will be UPDATED:\n",
      "\n",
      "    ffmpeg:     3.2.4-3                       conda-forge --> 3.4-h7264315_0            \n",
      "    mkl:        2018.0.1-h19d6760_4                       --> 2018.0.2-1                \n",
      "    numba:      0.36.2-np114py36hc6662d5_0                --> 0.36.2-np113py36h7a10136_0\n",
      "\n",
      "The following packages will be DOWNGRADED:\n",
      "\n",
      "    numpy:      1.14.2-py36_blas_openblas_200 conda-forge [blas_openblas] --> 1.13.3-py36hdbf6ddf_4     \n",
      "    opencv:     3.4.1-py36_blas_openblas_200  conda-forge [blas_openblas] --> 3.3.1-py36h0a11808_0      \n",
      "\n",
      "\n",
      "Downloading and Extracting Packages\n",
      "mkl 2018.0.2: ########################################################## | 100% \n",
      "jemalloc 5.0.1: ######################################################## | 100% \n",
      "libmxnet 1.1.0: ######################################################## | 100% \n",
      "libopus 1.2.1: ######################################################### | 100% \n",
      "libvpx 1.6.1: ########################################################## | 100% \n",
      "opencv 3.3.1: ########################################################## | 100% \n",
      "mkl_random 1.0.1: ###################################################### | 100% \n",
      "mkl_fft 1.0.1: ######################################################### | 100% \n",
      "py-mxnet 1.1.0: ######################################################## | 100% \n",
      "numpy 1.13.3: ########################################################## | 100% \n",
      "mxnet 1.1.0: ########################################################### | 100% \n",
      "ffmpeg 3.4: ############################################################ | 100% \n",
      "Preparing transaction: done\n",
      "Verifying transaction: done\n",
      "Executing transaction: done\n"
     ]
    }
   ],
   "source": [
    "%sc\n",
    "!conda install -c condaforge mxnet --yes"
   ]
  },
  {
   "cell_type": "code",
   "execution_count": 6,
   "metadata": {},
   "outputs": [],
   "source": [
    "import numpy as np\n",
    "import pandas as pd\n",
    "from utils.utils import PROJECT_DATA_DIR\n",
    "import os\n",
    "#import mxnet as mx\n",
    "import tarfile\n",
    "import warnings\n",
    "from deep_learning_keras import plot_loss, train_model\n",
    "warnings.filterwarnings(\"ignore\")"
   ]
  },
  {
   "cell_type": "code",
   "execution_count": 7,
   "metadata": {},
   "outputs": [],
   "source": [
    "bucket = 'ppi.ai'\n",
    "PROJECT_DATA_DIR = 's3://{}'.format(bucket)"
   ]
  },
  {
   "cell_type": "code",
   "execution_count": 10,
   "metadata": {},
   "outputs": [],
   "source": [
    "sensor_train = pd.read_csv(os.path.join(PROJECT_DATA_DIR, \n",
    "                                        'all_training_400_norm.csv'), \n",
    "                           sep='\\s+', header=None)\n",
    "\n",
    "sensor_test = pd.read_csv(os.path.join(PROJECT_DATA_DIR, \n",
    "                                       'all_test_400_norm.csv'),\n",
    "                          sep='\\s+', header=None)"
   ]
  },
  {
   "cell_type": "code",
   "execution_count": 11,
   "metadata": {},
   "outputs": [
    {
     "data": {
      "text/html": [
       "<div>\n",
       "<style scoped>\n",
       "    .dataframe tbody tr th:only-of-type {\n",
       "        vertical-align: middle;\n",
       "    }\n",
       "\n",
       "    .dataframe tbody tr th {\n",
       "        vertical-align: top;\n",
       "    }\n",
       "\n",
       "    .dataframe thead th {\n",
       "        text-align: right;\n",
       "    }\n",
       "</style>\n",
       "<table border=\"1\" class=\"dataframe\">\n",
       "  <thead>\n",
       "    <tr style=\"text-align: right;\">\n",
       "      <th></th>\n",
       "      <th>0</th>\n",
       "      <th>1</th>\n",
       "      <th>2</th>\n",
       "      <th>3</th>\n",
       "      <th>4</th>\n",
       "      <th>5</th>\n",
       "      <th>6</th>\n",
       "      <th>7</th>\n",
       "      <th>8</th>\n",
       "      <th>9</th>\n",
       "      <th>...</th>\n",
       "      <th>1191</th>\n",
       "      <th>1192</th>\n",
       "      <th>1193</th>\n",
       "      <th>1194</th>\n",
       "      <th>1195</th>\n",
       "      <th>1196</th>\n",
       "      <th>1197</th>\n",
       "      <th>1198</th>\n",
       "      <th>1199</th>\n",
       "      <th>1200</th>\n",
       "    </tr>\n",
       "  </thead>\n",
       "  <tbody>\n",
       "    <tr>\n",
       "      <th>0</th>\n",
       "      <td>-0.883571</td>\n",
       "      <td>-2.231687</td>\n",
       "      <td>-3.080833</td>\n",
       "      <td>-0.511307</td>\n",
       "      <td>-1.799623</td>\n",
       "      <td>-2.150465</td>\n",
       "      <td>0.233222</td>\n",
       "      <td>1.224827</td>\n",
       "      <td>-2.416284</td>\n",
       "      <td>4.328132</td>\n",
       "      <td>...</td>\n",
       "      <td>-0.511307</td>\n",
       "      <td>-0.503430</td>\n",
       "      <td>0.374823</td>\n",
       "      <td>-0.883571</td>\n",
       "      <td>-0.935495</td>\n",
       "      <td>0.109003</td>\n",
       "      <td>-0.511307</td>\n",
       "      <td>-0.071366</td>\n",
       "      <td>-0.023907</td>\n",
       "      <td>7.0</td>\n",
       "    </tr>\n",
       "    <tr>\n",
       "      <th>1</th>\n",
       "      <td>-0.200017</td>\n",
       "      <td>0.321630</td>\n",
       "      <td>0.006774</td>\n",
       "      <td>-0.005054</td>\n",
       "      <td>0.321630</td>\n",
       "      <td>-0.080973</td>\n",
       "      <td>-0.135030</td>\n",
       "      <td>0.208314</td>\n",
       "      <td>0.072584</td>\n",
       "      <td>-0.005054</td>\n",
       "      <td>...</td>\n",
       "      <td>-0.005054</td>\n",
       "      <td>-0.018316</td>\n",
       "      <td>0.006774</td>\n",
       "      <td>-0.005054</td>\n",
       "      <td>-0.131631</td>\n",
       "      <td>0.094521</td>\n",
       "      <td>-0.005054</td>\n",
       "      <td>0.208314</td>\n",
       "      <td>0.006774</td>\n",
       "      <td>8.0</td>\n",
       "    </tr>\n",
       "    <tr>\n",
       "      <th>2</th>\n",
       "      <td>0.162494</td>\n",
       "      <td>0.073363</td>\n",
       "      <td>-0.361541</td>\n",
       "      <td>0.078078</td>\n",
       "      <td>0.131716</td>\n",
       "      <td>-0.265555</td>\n",
       "      <td>0.027428</td>\n",
       "      <td>0.058775</td>\n",
       "      <td>-0.183281</td>\n",
       "      <td>0.027428</td>\n",
       "      <td>...</td>\n",
       "      <td>0.010545</td>\n",
       "      <td>0.015011</td>\n",
       "      <td>-0.128432</td>\n",
       "      <td>0.078078</td>\n",
       "      <td>-0.014165</td>\n",
       "      <td>-0.046159</td>\n",
       "      <td>0.145611</td>\n",
       "      <td>-0.028754</td>\n",
       "      <td>-0.087296</td>\n",
       "      <td>-1.0</td>\n",
       "    </tr>\n",
       "    <tr>\n",
       "      <th>3</th>\n",
       "      <td>-0.135030</td>\n",
       "      <td>-0.358262</td>\n",
       "      <td>-0.080973</td>\n",
       "      <td>-0.005054</td>\n",
       "      <td>-0.471577</td>\n",
       "      <td>-0.037100</td>\n",
       "      <td>0.319884</td>\n",
       "      <td>-0.018316</td>\n",
       "      <td>-0.015163</td>\n",
       "      <td>0.189909</td>\n",
       "      <td>...</td>\n",
       "      <td>-0.265005</td>\n",
       "      <td>-0.131631</td>\n",
       "      <td>-0.015163</td>\n",
       "      <td>-0.135030</td>\n",
       "      <td>-0.018316</td>\n",
       "      <td>-0.037100</td>\n",
       "      <td>-0.005054</td>\n",
       "      <td>0.208314</td>\n",
       "      <td>0.006774</td>\n",
       "      <td>8.0</td>\n",
       "    </tr>\n",
       "    <tr>\n",
       "      <th>4</th>\n",
       "      <td>-0.005054</td>\n",
       "      <td>-0.018316</td>\n",
       "      <td>0.160331</td>\n",
       "      <td>-0.265005</td>\n",
       "      <td>-0.018316</td>\n",
       "      <td>0.006774</td>\n",
       "      <td>-0.005054</td>\n",
       "      <td>-0.358262</td>\n",
       "      <td>-0.015163</td>\n",
       "      <td>-0.005054</td>\n",
       "      <td>...</td>\n",
       "      <td>-0.135030</td>\n",
       "      <td>-0.018316</td>\n",
       "      <td>0.028711</td>\n",
       "      <td>-0.005054</td>\n",
       "      <td>-0.018316</td>\n",
       "      <td>0.006774</td>\n",
       "      <td>-0.200017</td>\n",
       "      <td>-0.018316</td>\n",
       "      <td>-0.015163</td>\n",
       "      <td>8.0</td>\n",
       "    </tr>\n",
       "  </tbody>\n",
       "</table>\n",
       "<p>5 rows × 1201 columns</p>\n",
       "</div>"
      ],
      "text/plain": [
       "       0         1         2         3         4         5         6     \\\n",
       "0 -0.883571 -2.231687 -3.080833 -0.511307 -1.799623 -2.150465  0.233222   \n",
       "1 -0.200017  0.321630  0.006774 -0.005054  0.321630 -0.080973 -0.135030   \n",
       "2  0.162494  0.073363 -0.361541  0.078078  0.131716 -0.265555  0.027428   \n",
       "3 -0.135030 -0.358262 -0.080973 -0.005054 -0.471577 -0.037100  0.319884   \n",
       "4 -0.005054 -0.018316  0.160331 -0.265005 -0.018316  0.006774 -0.005054   \n",
       "\n",
       "       7         8         9     ...       1191      1192      1193      1194  \\\n",
       "0  1.224827 -2.416284  4.328132  ...  -0.511307 -0.503430  0.374823 -0.883571   \n",
       "1  0.208314  0.072584 -0.005054  ...  -0.005054 -0.018316  0.006774 -0.005054   \n",
       "2  0.058775 -0.183281  0.027428  ...   0.010545  0.015011 -0.128432  0.078078   \n",
       "3 -0.018316 -0.015163  0.189909  ...  -0.265005 -0.131631 -0.015163 -0.135030   \n",
       "4 -0.358262 -0.015163 -0.005054  ...  -0.135030 -0.018316  0.028711 -0.005054   \n",
       "\n",
       "       1195      1196      1197      1198      1199  1200  \n",
       "0 -0.935495  0.109003 -0.511307 -0.071366 -0.023907   7.0  \n",
       "1 -0.131631  0.094521 -0.005054  0.208314  0.006774   8.0  \n",
       "2 -0.014165 -0.046159  0.145611 -0.028754 -0.087296  -1.0  \n",
       "3 -0.018316 -0.037100 -0.005054  0.208314  0.006774   8.0  \n",
       "4 -0.018316  0.006774 -0.200017 -0.018316 -0.015163   8.0  \n",
       "\n",
       "[5 rows x 1201 columns]"
      ]
     },
     "execution_count": 11,
     "metadata": {},
     "output_type": "execute_result"
    }
   ],
   "source": [
    "sensor_train.head()"
   ]
  },
  {
   "cell_type": "code",
   "execution_count": 12,
   "metadata": {},
   "outputs": [
    {
     "data": {
      "text/html": [
       "<div>\n",
       "<style scoped>\n",
       "    .dataframe tbody tr th:only-of-type {\n",
       "        vertical-align: middle;\n",
       "    }\n",
       "\n",
       "    .dataframe tbody tr th {\n",
       "        vertical-align: top;\n",
       "    }\n",
       "\n",
       "    .dataframe thead th {\n",
       "        text-align: right;\n",
       "    }\n",
       "</style>\n",
       "<table border=\"1\" class=\"dataframe\">\n",
       "  <thead>\n",
       "    <tr style=\"text-align: right;\">\n",
       "      <th></th>\n",
       "      <th>0</th>\n",
       "      <th>1</th>\n",
       "      <th>2</th>\n",
       "      <th>3</th>\n",
       "      <th>4</th>\n",
       "      <th>5</th>\n",
       "      <th>6</th>\n",
       "      <th>7</th>\n",
       "      <th>8</th>\n",
       "      <th>9</th>\n",
       "      <th>...</th>\n",
       "      <th>1191</th>\n",
       "      <th>1192</th>\n",
       "      <th>1193</th>\n",
       "      <th>1194</th>\n",
       "      <th>1195</th>\n",
       "      <th>1196</th>\n",
       "      <th>1197</th>\n",
       "      <th>1198</th>\n",
       "      <th>1199</th>\n",
       "      <th>1200</th>\n",
       "    </tr>\n",
       "  </thead>\n",
       "  <tbody>\n",
       "    <tr>\n",
       "      <th>0</th>\n",
       "      <td>-0.132201</td>\n",
       "      <td>-0.108635</td>\n",
       "      <td>-0.877529</td>\n",
       "      <td>0.062900</td>\n",
       "      <td>-0.302037</td>\n",
       "      <td>-1.285610</td>\n",
       "      <td>0.023880</td>\n",
       "      <td>-2.912972</td>\n",
       "      <td>-0.900200</td>\n",
       "      <td>0.687224</td>\n",
       "      <td>...</td>\n",
       "      <td>3.262562</td>\n",
       "      <td>0.181469</td>\n",
       "      <td>-1.353623</td>\n",
       "      <td>2.677258</td>\n",
       "      <td>1.148482</td>\n",
       "      <td>-2.351155</td>\n",
       "      <td>0.336042</td>\n",
       "      <td>1.148482</td>\n",
       "      <td>-1.943074</td>\n",
       "      <td>2.0</td>\n",
       "    </tr>\n",
       "    <tr>\n",
       "      <th>1</th>\n",
       "      <td>0.255780</td>\n",
       "      <td>-0.932933</td>\n",
       "      <td>-0.333661</td>\n",
       "      <td>-0.297920</td>\n",
       "      <td>-0.751893</td>\n",
       "      <td>0.454952</td>\n",
       "      <td>-0.482487</td>\n",
       "      <td>-0.027736</td>\n",
       "      <td>0.914977</td>\n",
       "      <td>-0.297920</td>\n",
       "      <td>...</td>\n",
       "      <td>-0.113354</td>\n",
       "      <td>-0.027736</td>\n",
       "      <td>0.389234</td>\n",
       "      <td>0.255780</td>\n",
       "      <td>-0.027736</td>\n",
       "      <td>0.454952</td>\n",
       "      <td>-0.113354</td>\n",
       "      <td>-0.027736</td>\n",
       "      <td>0.192081</td>\n",
       "      <td>1.0</td>\n",
       "    </tr>\n",
       "    <tr>\n",
       "      <th>2</th>\n",
       "      <td>-1.013398</td>\n",
       "      <td>-0.055543</td>\n",
       "      <td>-0.644527</td>\n",
       "      <td>0.088401</td>\n",
       "      <td>-1.536551</td>\n",
       "      <td>0.081540</td>\n",
       "      <td>0.088401</td>\n",
       "      <td>-0.055543</td>\n",
       "      <td>-0.079808</td>\n",
       "      <td>-0.737948</td>\n",
       "      <td>...</td>\n",
       "      <td>0.088401</td>\n",
       "      <td>-0.055543</td>\n",
       "      <td>0.081540</td>\n",
       "      <td>-0.737948</td>\n",
       "      <td>-0.055543</td>\n",
       "      <td>0.081540</td>\n",
       "      <td>-0.737948</td>\n",
       "      <td>1.055213</td>\n",
       "      <td>0.081540</td>\n",
       "      <td>5.0</td>\n",
       "    </tr>\n",
       "    <tr>\n",
       "      <th>3</th>\n",
       "      <td>0.062900</td>\n",
       "      <td>-0.011934</td>\n",
       "      <td>0.006647</td>\n",
       "      <td>0.140940</td>\n",
       "      <td>-0.398739</td>\n",
       "      <td>0.029318</td>\n",
       "      <td>0.023880</td>\n",
       "      <td>0.278170</td>\n",
       "      <td>0.120003</td>\n",
       "      <td>0.023880</td>\n",
       "      <td>...</td>\n",
       "      <td>0.023880</td>\n",
       "      <td>-0.011934</td>\n",
       "      <td>0.006647</td>\n",
       "      <td>-0.054161</td>\n",
       "      <td>-0.011934</td>\n",
       "      <td>-0.016024</td>\n",
       "      <td>-0.054161</td>\n",
       "      <td>0.278170</td>\n",
       "      <td>-0.129380</td>\n",
       "      <td>-1.0</td>\n",
       "    </tr>\n",
       "    <tr>\n",
       "      <th>4</th>\n",
       "      <td>-0.667054</td>\n",
       "      <td>-0.027736</td>\n",
       "      <td>2.557922</td>\n",
       "      <td>-0.482487</td>\n",
       "      <td>0.334343</td>\n",
       "      <td>2.032179</td>\n",
       "      <td>-0.113354</td>\n",
       "      <td>0.334343</td>\n",
       "      <td>1.637872</td>\n",
       "      <td>-0.113354</td>\n",
       "      <td>...</td>\n",
       "      <td>-0.113354</td>\n",
       "      <td>-0.570854</td>\n",
       "      <td>0.717823</td>\n",
       "      <td>-0.482487</td>\n",
       "      <td>-0.027736</td>\n",
       "      <td>0.717823</td>\n",
       "      <td>-0.482487</td>\n",
       "      <td>0.334343</td>\n",
       "      <td>0.783541</td>\n",
       "      <td>-1.0</td>\n",
       "    </tr>\n",
       "  </tbody>\n",
       "</table>\n",
       "<p>5 rows × 1201 columns</p>\n",
       "</div>"
      ],
      "text/plain": [
       "       0         1         2         3         4         5         6     \\\n",
       "0 -0.132201 -0.108635 -0.877529  0.062900 -0.302037 -1.285610  0.023880   \n",
       "1  0.255780 -0.932933 -0.333661 -0.297920 -0.751893  0.454952 -0.482487   \n",
       "2 -1.013398 -0.055543 -0.644527  0.088401 -1.536551  0.081540  0.088401   \n",
       "3  0.062900 -0.011934  0.006647  0.140940 -0.398739  0.029318  0.023880   \n",
       "4 -0.667054 -0.027736  2.557922 -0.482487  0.334343  2.032179 -0.113354   \n",
       "\n",
       "       7         8         9     ...       1191      1192      1193      1194  \\\n",
       "0 -2.912972 -0.900200  0.687224  ...   3.262562  0.181469 -1.353623  2.677258   \n",
       "1 -0.027736  0.914977 -0.297920  ...  -0.113354 -0.027736  0.389234  0.255780   \n",
       "2 -0.055543 -0.079808 -0.737948  ...   0.088401 -0.055543  0.081540 -0.737948   \n",
       "3  0.278170  0.120003  0.023880  ...   0.023880 -0.011934  0.006647 -0.054161   \n",
       "4  0.334343  1.637872 -0.113354  ...  -0.113354 -0.570854  0.717823 -0.482487   \n",
       "\n",
       "       1195      1196      1197      1198      1199  1200  \n",
       "0  1.148482 -2.351155  0.336042  1.148482 -1.943074   2.0  \n",
       "1 -0.027736  0.454952 -0.113354 -0.027736  0.192081   1.0  \n",
       "2 -0.055543  0.081540 -0.737948  1.055213  0.081540   5.0  \n",
       "3 -0.011934 -0.016024 -0.054161  0.278170 -0.129380  -1.0  \n",
       "4 -0.027736  0.717823 -0.482487  0.334343  0.783541  -1.0  \n",
       "\n",
       "[5 rows x 1201 columns]"
      ]
     },
     "execution_count": 12,
     "metadata": {},
     "output_type": "execute_result"
    }
   ],
   "source": [
    "sensor_test.head()"
   ]
  },
  {
   "cell_type": "code",
   "execution_count": 13,
   "metadata": {},
   "outputs": [
    {
     "data": {
      "text/plain": [
       "array([ 7.,  8., -1.,  4.,  6.,  1.,  5.,  2.,  3.,  9.,  0.])"
      ]
     },
     "execution_count": 13,
     "metadata": {},
     "output_type": "execute_result"
    }
   ],
   "source": [
    "sensor_train[sensor_train.columns[-1]].unique()"
   ]
  },
  {
   "cell_type": "code",
   "execution_count": 14,
   "metadata": {},
   "outputs": [
    {
     "data": {
      "text/plain": [
       "array([ 7.,  8., -1.,  4.,  6.,  1.,  5.,  2.,  3.,  9.,  0.])"
      ]
     },
     "execution_count": 14,
     "metadata": {},
     "output_type": "execute_result"
    }
   ],
   "source": [
    "sensor_train[sensor_train.columns[-1]].unique()"
   ]
  },
  {
   "cell_type": "code",
   "execution_count": 15,
   "metadata": {},
   "outputs": [
    {
     "data": {
      "text/plain": [
       "array([ 2.,  1.,  5., -1.,  0.,  8.,  9.,  4.,  6.,  7.,  3.])"
      ]
     },
     "execution_count": 15,
     "metadata": {},
     "output_type": "execute_result"
    }
   ],
   "source": [
    "sensor_test[sensor_test.columns[-1]].unique()"
   ]
  },
  {
   "cell_type": "code",
   "execution_count": 16,
   "metadata": {},
   "outputs": [],
   "source": [
    "ytrain = sensor_train[sensor_train.columns[-1]]\n",
    "#ytrain.head()\n",
    "xtrain = sensor_train.drop(sensor_train.columns[-1], axis=1) "
   ]
  },
  {
   "cell_type": "code",
   "execution_count": 17,
   "metadata": {},
   "outputs": [
    {
     "data": {
      "text/html": [
       "<div>\n",
       "<style scoped>\n",
       "    .dataframe tbody tr th:only-of-type {\n",
       "        vertical-align: middle;\n",
       "    }\n",
       "\n",
       "    .dataframe tbody tr th {\n",
       "        vertical-align: top;\n",
       "    }\n",
       "\n",
       "    .dataframe thead th {\n",
       "        text-align: right;\n",
       "    }\n",
       "</style>\n",
       "<table border=\"1\" class=\"dataframe\">\n",
       "  <thead>\n",
       "    <tr style=\"text-align: right;\">\n",
       "      <th></th>\n",
       "      <th>0</th>\n",
       "      <th>1</th>\n",
       "      <th>2</th>\n",
       "      <th>3</th>\n",
       "      <th>4</th>\n",
       "      <th>5</th>\n",
       "      <th>6</th>\n",
       "      <th>7</th>\n",
       "      <th>8</th>\n",
       "      <th>9</th>\n",
       "      <th>...</th>\n",
       "      <th>1190</th>\n",
       "      <th>1191</th>\n",
       "      <th>1192</th>\n",
       "      <th>1193</th>\n",
       "      <th>1194</th>\n",
       "      <th>1195</th>\n",
       "      <th>1196</th>\n",
       "      <th>1197</th>\n",
       "      <th>1198</th>\n",
       "      <th>1199</th>\n",
       "    </tr>\n",
       "  </thead>\n",
       "  <tbody>\n",
       "    <tr>\n",
       "      <th>0</th>\n",
       "      <td>-0.883571</td>\n",
       "      <td>-2.231687</td>\n",
       "      <td>-3.080833</td>\n",
       "      <td>-0.511307</td>\n",
       "      <td>-1.799623</td>\n",
       "      <td>-2.150465</td>\n",
       "      <td>0.233222</td>\n",
       "      <td>1.224827</td>\n",
       "      <td>-2.416284</td>\n",
       "      <td>4.328132</td>\n",
       "      <td>...</td>\n",
       "      <td>0.241913</td>\n",
       "      <td>-0.511307</td>\n",
       "      <td>-0.503430</td>\n",
       "      <td>0.374823</td>\n",
       "      <td>-0.883571</td>\n",
       "      <td>-0.935495</td>\n",
       "      <td>0.109003</td>\n",
       "      <td>-0.511307</td>\n",
       "      <td>-0.071366</td>\n",
       "      <td>-0.023907</td>\n",
       "    </tr>\n",
       "    <tr>\n",
       "      <th>1</th>\n",
       "      <td>-0.200017</td>\n",
       "      <td>0.321630</td>\n",
       "      <td>0.006774</td>\n",
       "      <td>-0.005054</td>\n",
       "      <td>0.321630</td>\n",
       "      <td>-0.080973</td>\n",
       "      <td>-0.135030</td>\n",
       "      <td>0.208314</td>\n",
       "      <td>0.072584</td>\n",
       "      <td>-0.005054</td>\n",
       "      <td>...</td>\n",
       "      <td>0.094521</td>\n",
       "      <td>-0.005054</td>\n",
       "      <td>-0.018316</td>\n",
       "      <td>0.006774</td>\n",
       "      <td>-0.005054</td>\n",
       "      <td>-0.131631</td>\n",
       "      <td>0.094521</td>\n",
       "      <td>-0.005054</td>\n",
       "      <td>0.208314</td>\n",
       "      <td>0.006774</td>\n",
       "    </tr>\n",
       "    <tr>\n",
       "      <th>2</th>\n",
       "      <td>0.162494</td>\n",
       "      <td>0.073363</td>\n",
       "      <td>-0.361541</td>\n",
       "      <td>0.078078</td>\n",
       "      <td>0.131716</td>\n",
       "      <td>-0.265555</td>\n",
       "      <td>0.027428</td>\n",
       "      <td>0.058775</td>\n",
       "      <td>-0.183281</td>\n",
       "      <td>0.027428</td>\n",
       "      <td>...</td>\n",
       "      <td>-0.128432</td>\n",
       "      <td>0.010545</td>\n",
       "      <td>0.015011</td>\n",
       "      <td>-0.128432</td>\n",
       "      <td>0.078078</td>\n",
       "      <td>-0.014165</td>\n",
       "      <td>-0.046159</td>\n",
       "      <td>0.145611</td>\n",
       "      <td>-0.028754</td>\n",
       "      <td>-0.087296</td>\n",
       "    </tr>\n",
       "    <tr>\n",
       "      <th>3</th>\n",
       "      <td>-0.135030</td>\n",
       "      <td>-0.358262</td>\n",
       "      <td>-0.080973</td>\n",
       "      <td>-0.005054</td>\n",
       "      <td>-0.471577</td>\n",
       "      <td>-0.037100</td>\n",
       "      <td>0.319884</td>\n",
       "      <td>-0.018316</td>\n",
       "      <td>-0.015163</td>\n",
       "      <td>0.189909</td>\n",
       "      <td>...</td>\n",
       "      <td>-0.102910</td>\n",
       "      <td>-0.265005</td>\n",
       "      <td>-0.131631</td>\n",
       "      <td>-0.015163</td>\n",
       "      <td>-0.135030</td>\n",
       "      <td>-0.018316</td>\n",
       "      <td>-0.037100</td>\n",
       "      <td>-0.005054</td>\n",
       "      <td>0.208314</td>\n",
       "      <td>0.006774</td>\n",
       "    </tr>\n",
       "    <tr>\n",
       "      <th>4</th>\n",
       "      <td>-0.005054</td>\n",
       "      <td>-0.018316</td>\n",
       "      <td>0.160331</td>\n",
       "      <td>-0.265005</td>\n",
       "      <td>-0.018316</td>\n",
       "      <td>0.006774</td>\n",
       "      <td>-0.005054</td>\n",
       "      <td>-0.358262</td>\n",
       "      <td>-0.015163</td>\n",
       "      <td>-0.005054</td>\n",
       "      <td>...</td>\n",
       "      <td>0.006774</td>\n",
       "      <td>-0.135030</td>\n",
       "      <td>-0.018316</td>\n",
       "      <td>0.028711</td>\n",
       "      <td>-0.005054</td>\n",
       "      <td>-0.018316</td>\n",
       "      <td>0.006774</td>\n",
       "      <td>-0.200017</td>\n",
       "      <td>-0.018316</td>\n",
       "      <td>-0.015163</td>\n",
       "    </tr>\n",
       "  </tbody>\n",
       "</table>\n",
       "<p>5 rows × 1200 columns</p>\n",
       "</div>"
      ],
      "text/plain": [
       "       0         1         2         3         4         5         6     \\\n",
       "0 -0.883571 -2.231687 -3.080833 -0.511307 -1.799623 -2.150465  0.233222   \n",
       "1 -0.200017  0.321630  0.006774 -0.005054  0.321630 -0.080973 -0.135030   \n",
       "2  0.162494  0.073363 -0.361541  0.078078  0.131716 -0.265555  0.027428   \n",
       "3 -0.135030 -0.358262 -0.080973 -0.005054 -0.471577 -0.037100  0.319884   \n",
       "4 -0.005054 -0.018316  0.160331 -0.265005 -0.018316  0.006774 -0.005054   \n",
       "\n",
       "       7         8         9       ...         1190      1191      1192  \\\n",
       "0  1.224827 -2.416284  4.328132    ...     0.241913 -0.511307 -0.503430   \n",
       "1  0.208314  0.072584 -0.005054    ...     0.094521 -0.005054 -0.018316   \n",
       "2  0.058775 -0.183281  0.027428    ...    -0.128432  0.010545  0.015011   \n",
       "3 -0.018316 -0.015163  0.189909    ...    -0.102910 -0.265005 -0.131631   \n",
       "4 -0.358262 -0.015163 -0.005054    ...     0.006774 -0.135030 -0.018316   \n",
       "\n",
       "       1193      1194      1195      1196      1197      1198      1199  \n",
       "0  0.374823 -0.883571 -0.935495  0.109003 -0.511307 -0.071366 -0.023907  \n",
       "1  0.006774 -0.005054 -0.131631  0.094521 -0.005054  0.208314  0.006774  \n",
       "2 -0.128432  0.078078 -0.014165 -0.046159  0.145611 -0.028754 -0.087296  \n",
       "3 -0.015163 -0.135030 -0.018316 -0.037100 -0.005054  0.208314  0.006774  \n",
       "4  0.028711 -0.005054 -0.018316  0.006774 -0.200017 -0.018316 -0.015163  \n",
       "\n",
       "[5 rows x 1200 columns]"
      ]
     },
     "execution_count": 17,
     "metadata": {},
     "output_type": "execute_result"
    }
   ],
   "source": [
    "xtrain.head()"
   ]
  },
  {
   "cell_type": "code",
   "execution_count": 18,
   "metadata": {},
   "outputs": [],
   "source": [
    "ytest = sensor_test[sensor_test.columns[-1]]\n",
    "xtest = sensor_test.drop(sensor_test.columns[-1], axis=1) "
   ]
  },
  {
   "cell_type": "code",
   "execution_count": 19,
   "metadata": {},
   "outputs": [],
   "source": [
    "#ytrain_sc = ytrain.map(lambda x: 1 if (x == 1) else 0)\n",
    "#ytest_sc = ytest.map(lambda x: 1 if (x == 1) else 0)\n",
    "ytrain_sc = ytrain\n",
    "ytest_sc = ytest"
   ]
  },
  {
   "cell_type": "code",
   "execution_count": 20,
   "metadata": {},
   "outputs": [
    {
     "name": "stdout",
     "output_type": "stream",
     "text": [
      "[ 7.  8. -1.  4.  6.  1.  5.  2.  3.  9.  0.]\n"
     ]
    },
    {
     "data": {
      "text/plain": [
       "0    7.0\n",
       "1    8.0\n",
       "2   -1.0\n",
       "3    8.0\n",
       "4    8.0\n",
       "Name: 1200, dtype: float64"
      ]
     },
     "execution_count": 20,
     "metadata": {},
     "output_type": "execute_result"
    }
   ],
   "source": [
    "print(ytrain_sc.unique())\n",
    "ytrain_sc.head()\n"
   ]
  },
  {
   "cell_type": "markdown",
   "metadata": {},
   "source": [
    "## Preprocessing"
   ]
  },
  {
   "cell_type": "code",
   "execution_count": 21,
   "metadata": {},
   "outputs": [
    {
     "name": "stdout",
     "output_type": "stream",
     "text": [
      "<class 'pandas.core.frame.DataFrame'>\n",
      "RangeIndex: 91104 entries, 0 to 91103\n",
      "Columns: 1200 entries, 0 to 1199\n",
      "dtypes: float64(1200)\n",
      "memory usage: 834.1 MB\n"
     ]
    }
   ],
   "source": [
    "xtrain.info()"
   ]
  },
  {
   "cell_type": "code",
   "execution_count": 22,
   "metadata": {},
   "outputs": [
    {
     "name": "stdout",
     "output_type": "stream",
     "text": [
      "(91104, 1200)\n"
     ]
    },
    {
     "data": {
      "text/html": [
       "<div>\n",
       "<style scoped>\n",
       "    .dataframe tbody tr th:only-of-type {\n",
       "        vertical-align: middle;\n",
       "    }\n",
       "\n",
       "    .dataframe tbody tr th {\n",
       "        vertical-align: top;\n",
       "    }\n",
       "\n",
       "    .dataframe thead th {\n",
       "        text-align: right;\n",
       "    }\n",
       "</style>\n",
       "<table border=\"1\" class=\"dataframe\">\n",
       "  <thead>\n",
       "    <tr style=\"text-align: right;\">\n",
       "      <th></th>\n",
       "      <th>0</th>\n",
       "      <th>1</th>\n",
       "      <th>2</th>\n",
       "      <th>3</th>\n",
       "      <th>4</th>\n",
       "      <th>5</th>\n",
       "      <th>6</th>\n",
       "      <th>7</th>\n",
       "      <th>8</th>\n",
       "      <th>9</th>\n",
       "      <th>...</th>\n",
       "      <th>1190</th>\n",
       "      <th>1191</th>\n",
       "      <th>1192</th>\n",
       "      <th>1193</th>\n",
       "      <th>1194</th>\n",
       "      <th>1195</th>\n",
       "      <th>1196</th>\n",
       "      <th>1197</th>\n",
       "      <th>1198</th>\n",
       "      <th>1199</th>\n",
       "    </tr>\n",
       "  </thead>\n",
       "  <tbody>\n",
       "    <tr>\n",
       "      <th>count</th>\n",
       "      <td>91104.000000</td>\n",
       "      <td>91104.000000</td>\n",
       "      <td>91104.000000</td>\n",
       "      <td>91104.000000</td>\n",
       "      <td>91104.000000</td>\n",
       "      <td>91104.000000</td>\n",
       "      <td>91104.000000</td>\n",
       "      <td>91104.000000</td>\n",
       "      <td>91104.000000</td>\n",
       "      <td>91104.000000</td>\n",
       "      <td>...</td>\n",
       "      <td>91104.000000</td>\n",
       "      <td>91104.000000</td>\n",
       "      <td>91104.000000</td>\n",
       "      <td>91104.000000</td>\n",
       "      <td>91104.000000</td>\n",
       "      <td>91104.000000</td>\n",
       "      <td>91104.000000</td>\n",
       "      <td>91104.000000</td>\n",
       "      <td>91104.000000</td>\n",
       "      <td>91104.000000</td>\n",
       "    </tr>\n",
       "    <tr>\n",
       "      <th>mean</th>\n",
       "      <td>0.000245</td>\n",
       "      <td>0.001135</td>\n",
       "      <td>0.001039</td>\n",
       "      <td>0.002558</td>\n",
       "      <td>-0.000480</td>\n",
       "      <td>-0.000883</td>\n",
       "      <td>0.002567</td>\n",
       "      <td>-0.000847</td>\n",
       "      <td>-0.002251</td>\n",
       "      <td>0.001978</td>\n",
       "      <td>...</td>\n",
       "      <td>-0.002884</td>\n",
       "      <td>0.000945</td>\n",
       "      <td>0.000457</td>\n",
       "      <td>0.000659</td>\n",
       "      <td>-0.000650</td>\n",
       "      <td>0.001028</td>\n",
       "      <td>0.003428</td>\n",
       "      <td>0.000221</td>\n",
       "      <td>0.001655</td>\n",
       "      <td>0.003227</td>\n",
       "    </tr>\n",
       "    <tr>\n",
       "      <th>std</th>\n",
       "      <td>1.024659</td>\n",
       "      <td>1.019319</td>\n",
       "      <td>1.015030</td>\n",
       "      <td>1.018932</td>\n",
       "      <td>0.994452</td>\n",
       "      <td>1.011735</td>\n",
       "      <td>1.004725</td>\n",
       "      <td>1.003300</td>\n",
       "      <td>1.011457</td>\n",
       "      <td>0.999984</td>\n",
       "      <td>...</td>\n",
       "      <td>1.014925</td>\n",
       "      <td>0.992771</td>\n",
       "      <td>1.026006</td>\n",
       "      <td>1.025159</td>\n",
       "      <td>1.002439</td>\n",
       "      <td>1.004692</td>\n",
       "      <td>1.022386</td>\n",
       "      <td>0.998864</td>\n",
       "      <td>1.003199</td>\n",
       "      <td>1.019809</td>\n",
       "    </tr>\n",
       "    <tr>\n",
       "      <th>min</th>\n",
       "      <td>-48.712593</td>\n",
       "      <td>-33.549909</td>\n",
       "      <td>-25.439867</td>\n",
       "      <td>-48.712593</td>\n",
       "      <td>-33.549909</td>\n",
       "      <td>-20.377450</td>\n",
       "      <td>-35.002741</td>\n",
       "      <td>-33.549909</td>\n",
       "      <td>-20.377450</td>\n",
       "      <td>-35.002741</td>\n",
       "      <td>...</td>\n",
       "      <td>-25.439867</td>\n",
       "      <td>-35.002741</td>\n",
       "      <td>-29.088347</td>\n",
       "      <td>-25.439867</td>\n",
       "      <td>-48.712593</td>\n",
       "      <td>-33.549909</td>\n",
       "      <td>-25.439867</td>\n",
       "      <td>-35.002741</td>\n",
       "      <td>-33.549909</td>\n",
       "      <td>-20.377450</td>\n",
       "    </tr>\n",
       "    <tr>\n",
       "      <th>25%</th>\n",
       "      <td>-0.171222</td>\n",
       "      <td>-0.131631</td>\n",
       "      <td>-0.136508</td>\n",
       "      <td>-0.168308</td>\n",
       "      <td>-0.131631</td>\n",
       "      <td>-0.136508</td>\n",
       "      <td>-0.171222</td>\n",
       "      <td>-0.131631</td>\n",
       "      <td>-0.136508</td>\n",
       "      <td>-0.184517</td>\n",
       "      <td>...</td>\n",
       "      <td>-0.136508</td>\n",
       "      <td>-0.184517</td>\n",
       "      <td>-0.131631</td>\n",
       "      <td>-0.136508</td>\n",
       "      <td>-0.184517</td>\n",
       "      <td>-0.131631</td>\n",
       "      <td>-0.136508</td>\n",
       "      <td>-0.171222</td>\n",
       "      <td>-0.131631</td>\n",
       "      <td>-0.136508</td>\n",
       "    </tr>\n",
       "    <tr>\n",
       "      <th>50%</th>\n",
       "      <td>0.010545</td>\n",
       "      <td>-0.018316</td>\n",
       "      <td>-0.014502</td>\n",
       "      <td>0.010545</td>\n",
       "      <td>-0.018316</td>\n",
       "      <td>-0.014502</td>\n",
       "      <td>0.010545</td>\n",
       "      <td>-0.018316</td>\n",
       "      <td>-0.014502</td>\n",
       "      <td>0.010545</td>\n",
       "      <td>...</td>\n",
       "      <td>-0.014502</td>\n",
       "      <td>0.010545</td>\n",
       "      <td>-0.018316</td>\n",
       "      <td>-0.014502</td>\n",
       "      <td>0.010545</td>\n",
       "      <td>-0.018316</td>\n",
       "      <td>-0.014502</td>\n",
       "      <td>0.010545</td>\n",
       "      <td>-0.018316</td>\n",
       "      <td>-0.014502</td>\n",
       "    </tr>\n",
       "    <tr>\n",
       "      <th>75%</th>\n",
       "      <td>0.189909</td>\n",
       "      <td>0.208314</td>\n",
       "      <td>0.109003</td>\n",
       "      <td>0.189909</td>\n",
       "      <td>0.208314</td>\n",
       "      <td>0.109003</td>\n",
       "      <td>0.189909</td>\n",
       "      <td>0.208314</td>\n",
       "      <td>0.109003</td>\n",
       "      <td>0.189909</td>\n",
       "      <td>...</td>\n",
       "      <td>0.109003</td>\n",
       "      <td>0.189909</td>\n",
       "      <td>0.208314</td>\n",
       "      <td>0.109003</td>\n",
       "      <td>0.189909</td>\n",
       "      <td>0.208314</td>\n",
       "      <td>0.109003</td>\n",
       "      <td>0.189909</td>\n",
       "      <td>0.208314</td>\n",
       "      <td>0.109003</td>\n",
       "    </tr>\n",
       "    <tr>\n",
       "      <th>max</th>\n",
       "      <td>17.476632</td>\n",
       "      <td>51.206423</td>\n",
       "      <td>24.466261</td>\n",
       "      <td>19.426263</td>\n",
       "      <td>43.421728</td>\n",
       "      <td>24.466261</td>\n",
       "      <td>19.426263</td>\n",
       "      <td>51.206423</td>\n",
       "      <td>24.466261</td>\n",
       "      <td>19.426263</td>\n",
       "      <td>...</td>\n",
       "      <td>24.466261</td>\n",
       "      <td>17.476632</td>\n",
       "      <td>51.206423</td>\n",
       "      <td>24.466261</td>\n",
       "      <td>17.216681</td>\n",
       "      <td>51.206423</td>\n",
       "      <td>24.466261</td>\n",
       "      <td>17.476632</td>\n",
       "      <td>43.421728</td>\n",
       "      <td>24.466261</td>\n",
       "    </tr>\n",
       "  </tbody>\n",
       "</table>\n",
       "<p>8 rows × 1200 columns</p>\n",
       "</div>"
      ],
      "text/plain": [
       "               0             1             2             3             4     \\\n",
       "count  91104.000000  91104.000000  91104.000000  91104.000000  91104.000000   \n",
       "mean       0.000245      0.001135      0.001039      0.002558     -0.000480   \n",
       "std        1.024659      1.019319      1.015030      1.018932      0.994452   \n",
       "min      -48.712593    -33.549909    -25.439867    -48.712593    -33.549909   \n",
       "25%       -0.171222     -0.131631     -0.136508     -0.168308     -0.131631   \n",
       "50%        0.010545     -0.018316     -0.014502      0.010545     -0.018316   \n",
       "75%        0.189909      0.208314      0.109003      0.189909      0.208314   \n",
       "max       17.476632     51.206423     24.466261     19.426263     43.421728   \n",
       "\n",
       "               5             6             7             8             9     \\\n",
       "count  91104.000000  91104.000000  91104.000000  91104.000000  91104.000000   \n",
       "mean      -0.000883      0.002567     -0.000847     -0.002251      0.001978   \n",
       "std        1.011735      1.004725      1.003300      1.011457      0.999984   \n",
       "min      -20.377450    -35.002741    -33.549909    -20.377450    -35.002741   \n",
       "25%       -0.136508     -0.171222     -0.131631     -0.136508     -0.184517   \n",
       "50%       -0.014502      0.010545     -0.018316     -0.014502      0.010545   \n",
       "75%        0.109003      0.189909      0.208314      0.109003      0.189909   \n",
       "max       24.466261     19.426263     51.206423     24.466261     19.426263   \n",
       "\n",
       "           ...               1190          1191          1192          1193  \\\n",
       "count      ...       91104.000000  91104.000000  91104.000000  91104.000000   \n",
       "mean       ...          -0.002884      0.000945      0.000457      0.000659   \n",
       "std        ...           1.014925      0.992771      1.026006      1.025159   \n",
       "min        ...         -25.439867    -35.002741    -29.088347    -25.439867   \n",
       "25%        ...          -0.136508     -0.184517     -0.131631     -0.136508   \n",
       "50%        ...          -0.014502      0.010545     -0.018316     -0.014502   \n",
       "75%        ...           0.109003      0.189909      0.208314      0.109003   \n",
       "max        ...          24.466261     17.476632     51.206423     24.466261   \n",
       "\n",
       "               1194          1195          1196          1197          1198  \\\n",
       "count  91104.000000  91104.000000  91104.000000  91104.000000  91104.000000   \n",
       "mean      -0.000650      0.001028      0.003428      0.000221      0.001655   \n",
       "std        1.002439      1.004692      1.022386      0.998864      1.003199   \n",
       "min      -48.712593    -33.549909    -25.439867    -35.002741    -33.549909   \n",
       "25%       -0.184517     -0.131631     -0.136508     -0.171222     -0.131631   \n",
       "50%        0.010545     -0.018316     -0.014502      0.010545     -0.018316   \n",
       "75%        0.189909      0.208314      0.109003      0.189909      0.208314   \n",
       "max       17.216681     51.206423     24.466261     17.476632     43.421728   \n",
       "\n",
       "               1199  \n",
       "count  91104.000000  \n",
       "mean       0.003227  \n",
       "std        1.019809  \n",
       "min      -20.377450  \n",
       "25%       -0.136508  \n",
       "50%       -0.014502  \n",
       "75%        0.109003  \n",
       "max       24.466261  \n",
       "\n",
       "[8 rows x 1200 columns]"
      ]
     },
     "execution_count": 22,
     "metadata": {},
     "output_type": "execute_result"
    }
   ],
   "source": [
    "print(xtrain.shape)\n",
    "xtrain.describe()"
   ]
  },
  {
   "cell_type": "code",
   "execution_count": 23,
   "metadata": {},
   "outputs": [],
   "source": [
    "import matplotlib.pyplot as plt"
   ]
  },
  {
   "cell_type": "code",
   "execution_count": 24,
   "metadata": {},
   "outputs": [
    {
     "data": {
      "image/png": "[encoded data removed]",
      "text/plain": [
       "<matplotlib.figure.Figure at 0x7febfa78ae48>"
      ]
     },
     "metadata": {},
     "output_type": "display_data"
    }
   ],
   "source": [
    "xtrain[xtrain.columns[0:10:3]].plot()\n",
    "plt.show()"
   ]
  },
  {
   "cell_type": "code",
   "execution_count": 25,
   "metadata": {},
   "outputs": [
    {
     "data": {
      "image/png": "[encoded data removed]",
      "text/plain": [
       "<matplotlib.figure.Figure at 0x7fecd098b470>"
      ]
     },
     "metadata": {},
     "output_type": "display_data"
    }
   ],
   "source": [
    "xtrain[xtrain.columns[1100:1120:3]].plot()\n",
    "plt.show()"
   ]
  },
  {
   "cell_type": "code",
   "execution_count": 26,
   "metadata": {},
   "outputs": [
    {
     "data": {
      "image/png": "[encoded data removed]",
      "text/plain": [
       "<matplotlib.figure.Figure at 0x7febf98af208>"
      ]
     },
     "metadata": {},
     "output_type": "display_data"
    }
   ],
   "source": [
    "xtrain[xtrain.columns[500:510:3]].plot()\n",
    "plt.show()"
   ]
  },
  {
   "cell_type": "code",
   "execution_count": 27,
   "metadata": {},
   "outputs": [
    {
     "data": {
      "image/png": "[encoded data removed]",
      "text/plain": [
       "<matplotlib.figure.Figure at 0x7febf9949860>"
      ]
     },
     "metadata": {},
     "output_type": "display_data"
    }
   ],
   "source": [
    "ytrain_sc.hist(bins=11)\n",
    "plt.show()"
   ]
  },
  {
   "cell_type": "code",
   "execution_count": 28,
   "metadata": {},
   "outputs": [
    {
     "data": {
      "image/png": "[encoded data removed]",
      "text/plain": [
       "<matplotlib.figure.Figure at 0x7febfa74e5c0>"
      ]
     },
     "metadata": {},
     "output_type": "display_data"
    }
   ],
   "source": [
    "ytest_sc.hist(bins=11)\n",
    "plt.show()"
   ]
  },
  {
   "cell_type": "markdown",
   "metadata": {
    "collapsed": true
   },
   "source": [
    "## Rearrange to (x, y, z)"
   ]
  },
  {
   "cell_type": "code",
   "execution_count": 21,
   "metadata": {},
   "outputs": [
    {
     "name": "stdout",
     "output_type": "stream",
     "text": [
      "[[ 1 -1 -1]\n",
      " [ 0  2 -1]\n",
      " [-2  2  1]\n",
      " ...\n",
      " [-4  0 64]\n",
      " [-4 -3 35]\n",
      " [-3  0 11]]\n",
      "(9110400, 3)\n",
      "(22776, 1200)\n"
     ]
    }
   ],
   "source": [
    "#xtest_reshape = xtest.values.reshape(-1, 3)\n",
    "#print(xtest_reshape)\n",
    "#print(xtest_reshape.shape)\n",
    "#print(xtest.shape)"
   ]
  },
  {
   "cell_type": "code",
   "execution_count": 22,
   "metadata": {
    "collapsed": true
   },
   "outputs": [],
   "source": [
    "#xtrain_reshape = xtrain.values.reshape(-1, 3)"
   ]
  },
  {
   "cell_type": "markdown",
   "metadata": {},
   "source": [
    "## Scaling and transforming data"
   ]
  },
  {
   "cell_type": "code",
   "execution_count": 23,
   "metadata": {},
   "outputs": [
    {
     "name": "stdout",
     "output_type": "stream",
     "text": [
      "[ 9  8  5 ...  2  9 10]\n"
     ]
    }
   ],
   "source": [
    "print(ytrain_sc.values+1)"
   ]
  },
  {
   "cell_type": "code",
   "execution_count": 34,
   "metadata": {},
   "outputs": [],
   "source": [
    "import keras\n",
    "from keras.models import Sequential\n",
    "from keras.layers import Dense, LSTM, Dropout, BatchNormalization\n",
    "from keras import optimizers\n",
    "from sklearn.metrics import f1_score"
   ]
  },
  {
   "cell_type": "code",
   "execution_count": 38,
   "metadata": {},
   "outputs": [
    {
     "name": "stdout",
     "output_type": "stream",
     "text": [
      "[[0. 0. 0. ... 0. 0. 0.]\n",
      " [0. 0. 1. ... 0. 0. 0.]\n",
      " [0. 0. 0. ... 0. 0. 0.]\n",
      " ...\n",
      " [0. 0. 0. ... 0. 0. 0.]\n",
      " [0. 1. 0. ... 0. 0. 0.]\n",
      " [0. 0. 0. ... 0. 0. 0.]]\n",
      "0 [0. 0. 0. 1. 0. 0. 0. 0. 0. 0. 0.]\n",
      "1 [0. 0. 1. 0. 0. 0. 0. 0. 0. 0. 0.]\n",
      "2 [0. 0. 0. 0. 0. 0. 1. 0. 0. 0. 0.]\n",
      "3 [1. 0. 0. 0. 0. 0. 0. 0. 0. 0. 0.]\n",
      "4 [1. 0. 0. 0. 0. 0. 0. 0. 0. 0. 0.]\n",
      "5 [0. 0. 0. 0. 0. 0. 1. 0. 0. 0. 0.]\n",
      "6 [0. 0. 0. 0. 0. 0. 1. 0. 0. 0. 0.]\n",
      "7 [0. 1. 0. 0. 0. 0. 0. 0. 0. 0. 0.]\n",
      "8 [0. 0. 1. 0. 0. 0. 0. 0. 0. 0. 0.]\n",
      "9 [1. 0. 0. 0. 0. 0. 0. 0. 0. 0. 0.]\n",
      "10 [0. 0. 0. 0. 0. 0. 0. 0. 0. 1. 0.]\n",
      "11 [0. 0. 0. 0. 0. 0. 0. 0. 0. 1. 0.]\n",
      "12 [1. 0. 0. 0. 0. 0. 0. 0. 0. 0. 0.]\n",
      "13 [1. 0. 0. 0. 0. 0. 0. 0. 0. 0. 0.]\n",
      "14 [0. 0. 0. 0. 0. 0. 0. 0. 0. 0. 1.]\n",
      "15 [1. 0. 0. 0. 0. 0. 0. 0. 0. 0. 0.]\n",
      "16 [0. 0. 0. 0. 0. 0. 1. 0. 0. 0. 0.]\n",
      "17 [0. 0. 0. 0. 0. 1. 0. 0. 0. 0. 0.]\n",
      "18 [1. 0. 0. 0. 0. 0. 0. 0. 0. 0. 0.]\n",
      "19 [0. 0. 0. 1. 0. 0. 0. 0. 0. 0. 0.]\n",
      "0 2.0\n",
      "1 1.0\n",
      "2 5.0\n",
      "3 -1.0\n",
      "4 -1.0\n",
      "5 5.0\n",
      "6 5.0\n",
      "7 0.0\n",
      "8 1.0\n",
      "9 -1.0\n",
      "10 8.0\n",
      "11 8.0\n",
      "12 -1.0\n",
      "13 -1.0\n",
      "14 9.0\n",
      "15 -1.0\n",
      "16 5.0\n",
      "17 4.0\n",
      "18 -1.0\n",
      "19 2.0\n"
     ]
    }
   ],
   "source": [
    "y_cat_train = keras.utils.to_categorical(ytrain_sc.values + 1, num_classes=11)\n",
    "y_cat_test = keras.utils.to_categorical(ytest_sc.values + 1, num_classes=11)\n",
    "print(y_cat_test)\n",
    "for i in range(20):\n",
    "    print('{} {}'.format(i, y_cat_test[i]))\n",
    "for i in range(20):\n",
    "    print('{} {}'.format(i, ytest_sc.values[i]))\n"
   ]
  },
  {
   "cell_type": "markdown",
   "metadata": {},
   "source": [
    "### Preprocessing"
   ]
  },
  {
   "cell_type": "code",
   "execution_count": 26,
   "metadata": {
    "collapsed": true
   },
   "outputs": [],
   "source": [
    "#from sklearn.preprocessing import StandardScaler, QuantileTransformer"
   ]
  },
  {
   "cell_type": "code",
   "execution_count": 27,
   "metadata": {
    "collapsed": true
   },
   "outputs": [],
   "source": [
    "#scaler = QuantileTransformer(output_distribution='normal')\n",
    "#xtrain_sc = scaler.fit_transform(xtrain_reshape)\n",
    "#xtest_sc = scaler.transform(xtest_reshape)"
   ]
  },
  {
   "cell_type": "code",
   "execution_count": 29,
   "metadata": {},
   "outputs": [],
   "source": [
    "xtrain_sc_reshape = xtrain.values.reshape(-1, 400, 3)\n",
    "xtest_sc_reshape = xtest.values.reshape(-1, 400, 3)"
   ]
  },
  {
   "cell_type": "code",
   "execution_count": 30,
   "metadata": {},
   "outputs": [
    {
     "name": "stdout",
     "output_type": "stream",
     "text": [
      "(91104,)\n",
      "(91104, 400, 3)\n",
      "(22776, 400, 3)\n",
      "(22776,)\n"
     ]
    }
   ],
   "source": [
    "print(ytrain_sc.shape)\n",
    "print(xtrain_sc_reshape.shape)\n",
    "type(xtrain_sc_reshape)\n",
    "print(xtest_sc_reshape.shape)\n",
    "print(ytest.shape)\n"
   ]
  },
  {
   "cell_type": "code",
   "execution_count": 31,
   "metadata": {},
   "outputs": [
    {
     "data": {
      "image/png": "[encoded data removed]",
      "text/plain": [
       "<matplotlib.figure.Figure at 0x7fec840b1860>"
      ]
     },
     "metadata": {},
     "output_type": "display_data"
    }
   ],
   "source": [
    "plt.plot(xtrain_sc_reshape[:,0:4:1,0])\n",
    "plt.show()\n"
   ]
  },
  {
   "cell_type": "code",
   "execution_count": 32,
   "metadata": {},
   "outputs": [
    {
     "data": {
      "image/png": "[encoded data removed]",
      "text/plain": [
       "<matplotlib.figure.Figure at 0x7fecbe9f8518>"
      ]
     },
     "metadata": {},
     "output_type": "display_data"
    }
   ],
   "source": [
    "plt.plot(xtest_sc_reshape[:,0:4:3, 0])\n",
    "plt.show()"
   ]
  },
  {
   "cell_type": "markdown",
   "metadata": {
    "collapsed": true
   },
   "source": [
    "## Model"
   ]
  },
  {
   "cell_type": "code",
   "execution_count": 42,
   "metadata": {},
   "outputs": [],
   "source": [
    "from keras.utils import multi_gpu_model"
   ]
  },
  {
   "cell_type": "code",
   "execution_count": 35,
   "metadata": {},
   "outputs": [],
   "source": [
    "#del model\n",
    "model = Sequential()\n",
    "model.add(BatchNormalization(input_shape=(400, 3)))\n",
    "model.add(LSTM(units=20, input_shape=(400, 3),\n",
    "               return_sequences=True))\n",
    "model.add(Dropout(0.4))\n",
    "model.add(BatchNormalization(input_shape=(400, 3)))\n",
    "model.add(LSTM(20))\n",
    "model.add(Dropout(0.4))\n",
    "model.add(BatchNormalization(input_shape=(400, 3)))\n",
    "model.add(Dense(units=11, activation='softmax'))\n"
   ]
  },
  {
   "cell_type": "code",
   "execution_count": 43,
   "metadata": {},
   "outputs": [
    {
     "ename": "ValueError",
     "evalue": "To call `multi_gpu_model` with `gpus=8`, we expect the following devices to be available: ['/cpu:0', '/gpu:0', '/gpu:1', '/gpu:2', '/gpu:3', '/gpu:4', '/gpu:5', '/gpu:6', '/gpu:7']. However this machine only has: ['/cpu:0']. Try reducing `gpus`.",
     "output_type": "error",
     "traceback": [
      "\u001b[0;31m---------------------------------------------------------------------------\u001b[0m",
      "\u001b[0;31mValueError\u001b[0m                                Traceback (most recent call last)",
      "\u001b[0;32m<ipython-input-43-03b42fa49f23>\u001b[0m in \u001b[0;36m<module>\u001b[0;34m()\u001b[0m\n\u001b[0;32m----> 1\u001b[0;31m \u001b[0mmodel\u001b[0m \u001b[0;34m=\u001b[0m \u001b[0mmulti_gpu_model\u001b[0m\u001b[0;34m(\u001b[0m\u001b[0mmodel\u001b[0m\u001b[0;34m,\u001b[0m \u001b[0mgpus\u001b[0m\u001b[0;34m=\u001b[0m\u001b[0;36m8\u001b[0m\u001b[0;34m)\u001b[0m\u001b[0;34m\u001b[0m\u001b[0m\n\u001b[0m",
      "\u001b[0;32m~/anaconda3/envs/python3/lib/python3.6/site-packages/keras/utils/multi_gpu_utils.py\u001b[0m in \u001b[0;36mmulti_gpu_model\u001b[0;34m(model, gpus)\u001b[0m\n\u001b[1;32m    136\u001b[0m                 'Try reducing `gpus`.' % (gpus,\n\u001b[1;32m    137\u001b[0m                                           \u001b[0mtarget_devices\u001b[0m\u001b[0;34m,\u001b[0m\u001b[0;34m\u001b[0m\u001b[0m\n\u001b[0;32m--> 138\u001b[0;31m                                           available_devices))\n\u001b[0m\u001b[1;32m    139\u001b[0m \u001b[0;34m\u001b[0m\u001b[0m\n\u001b[1;32m    140\u001b[0m     \u001b[0;32mdef\u001b[0m \u001b[0mget_slice\u001b[0m\u001b[0;34m(\u001b[0m\u001b[0mdata\u001b[0m\u001b[0;34m,\u001b[0m \u001b[0mi\u001b[0m\u001b[0;34m,\u001b[0m \u001b[0mparts\u001b[0m\u001b[0;34m)\u001b[0m\u001b[0;34m:\u001b[0m\u001b[0;34m\u001b[0m\u001b[0m\n",
      "\u001b[0;31mValueError\u001b[0m: To call `multi_gpu_model` with `gpus=8`, we expect the following devices to be available: ['/cpu:0', '/gpu:0', '/gpu:1', '/gpu:2', '/gpu:3', '/gpu:4', '/gpu:5', '/gpu:6', '/gpu:7']. However this machine only has: ['/cpu:0']. Try reducing `gpus`."
     ]
    }
   ],
   "source": [
    "model = multi_gpu_model(model, gpus=8)"
   ]
  },
  {
   "cell_type": "code",
   "execution_count": 36,
   "metadata": {},
   "outputs": [],
   "source": [
    "lr = 0.001\n",
    "optim = optimizers.Adam(lr=lr,\n",
    "                        beta_1=0.9,\n",
    "                        beta_2=0.999,\n",
    "                        decay=1e-6)\n",
    "model.compile(loss='categorical_crossentropy',\n",
    "                        optimizer=optim,\n",
    "                        metrics=['accuracy'])"
   ]
  },
  {
   "cell_type": "code",
   "execution_count": 39,
   "metadata": {},
   "outputs": [
    {
     "name": "stdout",
     "output_type": "stream",
     "text": [
      "WARNING:tensorflow:Variable *= will be deprecated. Use variable.assign_mul if you want assignment to the variable value or 'x = x * y' if you want a new python Tensor object.\n",
      "Train on 91104 samples, validate on 22776 samples\n",
      "Epoch 1/20\n",
      "91104/91104 [==============================] - 238s 3ms/step - loss: 1.8981 - acc: 0.3411 - val_loss: 1.3020 - val_acc: 0.5436\n",
      "Epoch 2/20\n",
      "91104/91104 [==============================] - 237s 3ms/step - loss: 1.7039 - acc: 0.3679 - val_loss: 1.4046 - val_acc: 0.4398\n",
      "Epoch 3/20\n",
      "11264/91104 [==>...........................] - ETA: 3:17 - loss: 1.4701 - acc: 0.4398"
     ]
    },
    {
     "ename": "KeyboardInterrupt",
     "evalue": "",
     "output_type": "error",
     "traceback": [
      "\u001b[0;31m---------------------------------------------------------------------------\u001b[0m",
      "\u001b[0;31mKeyboardInterrupt\u001b[0m                         Traceback (most recent call last)",
      "\u001b[0;32m<ipython-input-39-e9e19d4ced21>\u001b[0m in \u001b[0;36m<module>\u001b[0;34m()\u001b[0m\n\u001b[1;32m     11\u001b[0m                     validation_data=(xtest_sc_reshape, \n\u001b[1;32m     12\u001b[0m                                      y_cat_test), \n\u001b[0;32m---> 13\u001b[0;31m                     \u001b[0mshuffle\u001b[0m\u001b[0;34m=\u001b[0m\u001b[0;32mFalse\u001b[0m\u001b[0;34m,\u001b[0m\u001b[0;34m\u001b[0m\u001b[0m\n\u001b[0m\u001b[1;32m     14\u001b[0m                     \u001b[0;31m#callbacks=[reduce_lr]\u001b[0m\u001b[0;34m\u001b[0m\u001b[0;34m\u001b[0m\u001b[0m\n\u001b[1;32m     15\u001b[0m                    )\n",
      "\u001b[0;32m~/anaconda3/envs/python3/lib/python3.6/site-packages/keras/models.py\u001b[0m in \u001b[0;36mfit\u001b[0;34m(self, x, y, batch_size, epochs, verbose, callbacks, validation_split, validation_data, shuffle, class_weight, sample_weight, initial_epoch, steps_per_epoch, validation_steps, **kwargs)\u001b[0m\n\u001b[1;32m    961\u001b[0m                               \u001b[0minitial_epoch\u001b[0m\u001b[0;34m=\u001b[0m\u001b[0minitial_epoch\u001b[0m\u001b[0;34m,\u001b[0m\u001b[0;34m\u001b[0m\u001b[0m\n\u001b[1;32m    962\u001b[0m                               \u001b[0msteps_per_epoch\u001b[0m\u001b[0;34m=\u001b[0m\u001b[0msteps_per_epoch\u001b[0m\u001b[0;34m,\u001b[0m\u001b[0;34m\u001b[0m\u001b[0m\n\u001b[0;32m--> 963\u001b[0;31m                               validation_steps=validation_steps)\n\u001b[0m\u001b[1;32m    964\u001b[0m \u001b[0;34m\u001b[0m\u001b[0m\n\u001b[1;32m    965\u001b[0m     def evaluate(self, x=None, y=None,\n",
      "\u001b[0;32m~/anaconda3/envs/python3/lib/python3.6/site-packages/keras/engine/training.py\u001b[0m in \u001b[0;36mfit\u001b[0;34m(self, x, y, batch_size, epochs, verbose, callbacks, validation_split, validation_data, shuffle, class_weight, sample_weight, initial_epoch, steps_per_epoch, validation_steps, **kwargs)\u001b[0m\n\u001b[1;32m   1703\u001b[0m                               \u001b[0minitial_epoch\u001b[0m\u001b[0;34m=\u001b[0m\u001b[0minitial_epoch\u001b[0m\u001b[0;34m,\u001b[0m\u001b[0;34m\u001b[0m\u001b[0m\n\u001b[1;32m   1704\u001b[0m                               \u001b[0msteps_per_epoch\u001b[0m\u001b[0;34m=\u001b[0m\u001b[0msteps_per_epoch\u001b[0m\u001b[0;34m,\u001b[0m\u001b[0;34m\u001b[0m\u001b[0m\n\u001b[0;32m-> 1705\u001b[0;31m                               validation_steps=validation_steps)\n\u001b[0m\u001b[1;32m   1706\u001b[0m \u001b[0;34m\u001b[0m\u001b[0m\n\u001b[1;32m   1707\u001b[0m     def evaluate(self, x=None, y=None,\n",
      "\u001b[0;32m~/anaconda3/envs/python3/lib/python3.6/site-packages/keras/engine/training.py\u001b[0m in \u001b[0;36m_fit_loop\u001b[0;34m(self, f, ins, out_labels, batch_size, epochs, verbose, callbacks, val_f, val_ins, shuffle, callback_metrics, initial_epoch, steps_per_epoch, validation_steps)\u001b[0m\n\u001b[1;32m   1233\u001b[0m                         \u001b[0mins_batch\u001b[0m\u001b[0;34m[\u001b[0m\u001b[0mi\u001b[0m\u001b[0;34m]\u001b[0m \u001b[0;34m=\u001b[0m \u001b[0mins_batch\u001b[0m\u001b[0;34m[\u001b[0m\u001b[0mi\u001b[0m\u001b[0;34m]\u001b[0m\u001b[0;34m.\u001b[0m\u001b[0mtoarray\u001b[0m\u001b[0;34m(\u001b[0m\u001b[0;34m)\u001b[0m\u001b[0;34m\u001b[0m\u001b[0m\n\u001b[1;32m   1234\u001b[0m \u001b[0;34m\u001b[0m\u001b[0m\n\u001b[0;32m-> 1235\u001b[0;31m                     \u001b[0mouts\u001b[0m \u001b[0;34m=\u001b[0m \u001b[0mf\u001b[0m\u001b[0;34m(\u001b[0m\u001b[0mins_batch\u001b[0m\u001b[0;34m)\u001b[0m\u001b[0;34m\u001b[0m\u001b[0m\n\u001b[0m\u001b[1;32m   1236\u001b[0m                     \u001b[0;32mif\u001b[0m \u001b[0;32mnot\u001b[0m \u001b[0misinstance\u001b[0m\u001b[0;34m(\u001b[0m\u001b[0mouts\u001b[0m\u001b[0;34m,\u001b[0m \u001b[0mlist\u001b[0m\u001b[0;34m)\u001b[0m\u001b[0;34m:\u001b[0m\u001b[0;34m\u001b[0m\u001b[0m\n\u001b[1;32m   1237\u001b[0m                         \u001b[0mouts\u001b[0m \u001b[0;34m=\u001b[0m \u001b[0;34m[\u001b[0m\u001b[0mouts\u001b[0m\u001b[0;34m]\u001b[0m\u001b[0;34m\u001b[0m\u001b[0m\n",
      "\u001b[0;32m~/anaconda3/envs/python3/lib/python3.6/site-packages/keras/backend/tensorflow_backend.py\u001b[0m in \u001b[0;36m__call__\u001b[0;34m(self, inputs)\u001b[0m\n\u001b[1;32m   2476\u001b[0m         \u001b[0msession\u001b[0m \u001b[0;34m=\u001b[0m \u001b[0mget_session\u001b[0m\u001b[0;34m(\u001b[0m\u001b[0;34m)\u001b[0m\u001b[0;34m\u001b[0m\u001b[0m\n\u001b[1;32m   2477\u001b[0m         updated = session.run(fetches=fetches, feed_dict=feed_dict,\n\u001b[0;32m-> 2478\u001b[0;31m                               **self.session_kwargs)\n\u001b[0m\u001b[1;32m   2479\u001b[0m         \u001b[0;32mreturn\u001b[0m \u001b[0mupdated\u001b[0m\u001b[0;34m[\u001b[0m\u001b[0;34m:\u001b[0m\u001b[0mlen\u001b[0m\u001b[0;34m(\u001b[0m\u001b[0mself\u001b[0m\u001b[0;34m.\u001b[0m\u001b[0moutputs\u001b[0m\u001b[0;34m)\u001b[0m\u001b[0;34m]\u001b[0m\u001b[0;34m\u001b[0m\u001b[0m\n\u001b[1;32m   2480\u001b[0m \u001b[0;34m\u001b[0m\u001b[0m\n",
      "\u001b[0;32m~/anaconda3/envs/python3/lib/python3.6/site-packages/tensorflow/python/client/session.py\u001b[0m in \u001b[0;36mrun\u001b[0;34m(self, fetches, feed_dict, options, run_metadata)\u001b[0m\n\u001b[1;32m    903\u001b[0m     \u001b[0;32mtry\u001b[0m\u001b[0;34m:\u001b[0m\u001b[0;34m\u001b[0m\u001b[0m\n\u001b[1;32m    904\u001b[0m       result = self._run(None, fetches, feed_dict, options_ptr,\n\u001b[0;32m--> 905\u001b[0;31m                          run_metadata_ptr)\n\u001b[0m\u001b[1;32m    906\u001b[0m       \u001b[0;32mif\u001b[0m \u001b[0mrun_metadata\u001b[0m\u001b[0;34m:\u001b[0m\u001b[0;34m\u001b[0m\u001b[0m\n\u001b[1;32m    907\u001b[0m         \u001b[0mproto_data\u001b[0m \u001b[0;34m=\u001b[0m \u001b[0mtf_session\u001b[0m\u001b[0;34m.\u001b[0m\u001b[0mTF_GetBuffer\u001b[0m\u001b[0;34m(\u001b[0m\u001b[0mrun_metadata_ptr\u001b[0m\u001b[0;34m)\u001b[0m\u001b[0;34m\u001b[0m\u001b[0m\n",
      "\u001b[0;32m~/anaconda3/envs/python3/lib/python3.6/site-packages/tensorflow/python/client/session.py\u001b[0m in \u001b[0;36m_run\u001b[0;34m(self, handle, fetches, feed_dict, options, run_metadata)\u001b[0m\n\u001b[1;32m   1138\u001b[0m     \u001b[0;32mif\u001b[0m \u001b[0mfinal_fetches\u001b[0m \u001b[0;32mor\u001b[0m \u001b[0mfinal_targets\u001b[0m \u001b[0;32mor\u001b[0m \u001b[0;34m(\u001b[0m\u001b[0mhandle\u001b[0m \u001b[0;32mand\u001b[0m \u001b[0mfeed_dict_tensor\u001b[0m\u001b[0;34m)\u001b[0m\u001b[0;34m:\u001b[0m\u001b[0;34m\u001b[0m\u001b[0m\n\u001b[1;32m   1139\u001b[0m       results = self._do_run(handle, final_targets, final_fetches,\n\u001b[0;32m-> 1140\u001b[0;31m                              feed_dict_tensor, options, run_metadata)\n\u001b[0m\u001b[1;32m   1141\u001b[0m     \u001b[0;32melse\u001b[0m\u001b[0;34m:\u001b[0m\u001b[0;34m\u001b[0m\u001b[0m\n\u001b[1;32m   1142\u001b[0m       \u001b[0mresults\u001b[0m \u001b[0;34m=\u001b[0m \u001b[0;34m[\u001b[0m\u001b[0;34m]\u001b[0m\u001b[0;34m\u001b[0m\u001b[0m\n",
      "\u001b[0;32m~/anaconda3/envs/python3/lib/python3.6/site-packages/tensorflow/python/client/session.py\u001b[0m in \u001b[0;36m_do_run\u001b[0;34m(self, handle, target_list, fetch_list, feed_dict, options, run_metadata)\u001b[0m\n\u001b[1;32m   1319\u001b[0m     \u001b[0;32mif\u001b[0m \u001b[0mhandle\u001b[0m \u001b[0;32mis\u001b[0m \u001b[0;32mNone\u001b[0m\u001b[0;34m:\u001b[0m\u001b[0;34m\u001b[0m\u001b[0m\n\u001b[1;32m   1320\u001b[0m       return self._do_call(_run_fn, feeds, fetches, targets, options,\n\u001b[0;32m-> 1321\u001b[0;31m                            run_metadata)\n\u001b[0m\u001b[1;32m   1322\u001b[0m     \u001b[0;32melse\u001b[0m\u001b[0;34m:\u001b[0m\u001b[0;34m\u001b[0m\u001b[0m\n\u001b[1;32m   1323\u001b[0m       \u001b[0;32mreturn\u001b[0m \u001b[0mself\u001b[0m\u001b[0;34m.\u001b[0m\u001b[0m_do_call\u001b[0m\u001b[0;34m(\u001b[0m\u001b[0m_prun_fn\u001b[0m\u001b[0;34m,\u001b[0m \u001b[0mhandle\u001b[0m\u001b[0;34m,\u001b[0m \u001b[0mfeeds\u001b[0m\u001b[0;34m,\u001b[0m \u001b[0mfetches\u001b[0m\u001b[0;34m)\u001b[0m\u001b[0;34m\u001b[0m\u001b[0m\n",
      "\u001b[0;32m~/anaconda3/envs/python3/lib/python3.6/site-packages/tensorflow/python/client/session.py\u001b[0m in \u001b[0;36m_do_call\u001b[0;34m(self, fn, *args)\u001b[0m\n\u001b[1;32m   1325\u001b[0m   \u001b[0;32mdef\u001b[0m \u001b[0m_do_call\u001b[0m\u001b[0;34m(\u001b[0m\u001b[0mself\u001b[0m\u001b[0;34m,\u001b[0m \u001b[0mfn\u001b[0m\u001b[0;34m,\u001b[0m \u001b[0;34m*\u001b[0m\u001b[0margs\u001b[0m\u001b[0;34m)\u001b[0m\u001b[0;34m:\u001b[0m\u001b[0;34m\u001b[0m\u001b[0m\n\u001b[1;32m   1326\u001b[0m     \u001b[0;32mtry\u001b[0m\u001b[0;34m:\u001b[0m\u001b[0;34m\u001b[0m\u001b[0m\n\u001b[0;32m-> 1327\u001b[0;31m       \u001b[0;32mreturn\u001b[0m \u001b[0mfn\u001b[0m\u001b[0;34m(\u001b[0m\u001b[0;34m*\u001b[0m\u001b[0margs\u001b[0m\u001b[0;34m)\u001b[0m\u001b[0;34m\u001b[0m\u001b[0m\n\u001b[0m\u001b[1;32m   1328\u001b[0m     \u001b[0;32mexcept\u001b[0m \u001b[0merrors\u001b[0m\u001b[0;34m.\u001b[0m\u001b[0mOpError\u001b[0m \u001b[0;32mas\u001b[0m \u001b[0me\u001b[0m\u001b[0;34m:\u001b[0m\u001b[0;34m\u001b[0m\u001b[0m\n\u001b[1;32m   1329\u001b[0m       \u001b[0mmessage\u001b[0m \u001b[0;34m=\u001b[0m \u001b[0mcompat\u001b[0m\u001b[0;34m.\u001b[0m\u001b[0mas_text\u001b[0m\u001b[0;34m(\u001b[0m\u001b[0me\u001b[0m\u001b[0;34m.\u001b[0m\u001b[0mmessage\u001b[0m\u001b[0;34m)\u001b[0m\u001b[0;34m\u001b[0m\u001b[0m\n",
      "\u001b[0;32m~/anaconda3/envs/python3/lib/python3.6/site-packages/tensorflow/python/client/session.py\u001b[0m in \u001b[0;36m_run_fn\u001b[0;34m(feed_dict, fetch_list, target_list, options, run_metadata)\u001b[0m\n\u001b[1;32m   1310\u001b[0m       \u001b[0mself\u001b[0m\u001b[0;34m.\u001b[0m\u001b[0m_extend_graph\u001b[0m\u001b[0;34m(\u001b[0m\u001b[0;34m)\u001b[0m\u001b[0;34m\u001b[0m\u001b[0m\n\u001b[1;32m   1311\u001b[0m       return self._call_tf_sessionrun(\n\u001b[0;32m-> 1312\u001b[0;31m           options, feed_dict, fetch_list, target_list, run_metadata)\n\u001b[0m\u001b[1;32m   1313\u001b[0m \u001b[0;34m\u001b[0m\u001b[0m\n\u001b[1;32m   1314\u001b[0m     \u001b[0;32mdef\u001b[0m \u001b[0m_prun_fn\u001b[0m\u001b[0;34m(\u001b[0m\u001b[0mhandle\u001b[0m\u001b[0;34m,\u001b[0m \u001b[0mfeed_dict\u001b[0m\u001b[0;34m,\u001b[0m \u001b[0mfetch_list\u001b[0m\u001b[0;34m)\u001b[0m\u001b[0;34m:\u001b[0m\u001b[0;34m\u001b[0m\u001b[0m\n",
      "\u001b[0;32m~/anaconda3/envs/python3/lib/python3.6/site-packages/tensorflow/python/client/session.py\u001b[0m in \u001b[0;36m_call_tf_sessionrun\u001b[0;34m(self, options, feed_dict, fetch_list, target_list, run_metadata)\u001b[0m\n\u001b[1;32m   1418\u001b[0m         return tf_session.TF_Run(\n\u001b[1;32m   1419\u001b[0m             \u001b[0mself\u001b[0m\u001b[0;34m.\u001b[0m\u001b[0m_session\u001b[0m\u001b[0;34m,\u001b[0m \u001b[0moptions\u001b[0m\u001b[0;34m,\u001b[0m \u001b[0mfeed_dict\u001b[0m\u001b[0;34m,\u001b[0m \u001b[0mfetch_list\u001b[0m\u001b[0;34m,\u001b[0m \u001b[0mtarget_list\u001b[0m\u001b[0;34m,\u001b[0m\u001b[0;34m\u001b[0m\u001b[0m\n\u001b[0;32m-> 1420\u001b[0;31m             status, run_metadata)\n\u001b[0m\u001b[1;32m   1421\u001b[0m \u001b[0;34m\u001b[0m\u001b[0m\n\u001b[1;32m   1422\u001b[0m   \u001b[0;32mdef\u001b[0m \u001b[0m_call_tf_sessionprun\u001b[0m\u001b[0;34m(\u001b[0m\u001b[0mself\u001b[0m\u001b[0;34m,\u001b[0m \u001b[0mhandle\u001b[0m\u001b[0;34m,\u001b[0m \u001b[0mfeed_dict\u001b[0m\u001b[0;34m,\u001b[0m \u001b[0mfetch_list\u001b[0m\u001b[0;34m)\u001b[0m\u001b[0;34m:\u001b[0m\u001b[0;34m\u001b[0m\u001b[0m\n",
      "\u001b[0;31mKeyboardInterrupt\u001b[0m: "
     ]
    }
   ],
   "source": [
    "#reduce_lr = RedureLROnPlateau(monitor='val_loss', \n",
    "#                              factor=0.2,\n",
    "#                              patience=5, \n",
    "#                              min_lr=0.00001,\n",
    "#                              verbose=2)\n",
    "\n",
    "history = model.fit(xtrain_sc_reshape,\n",
    "                    y_cat_train,                        \n",
    "                    epochs=20,\n",
    "                    batch_size=2**8, \n",
    "                    validation_data=(xtest_sc_reshape, \n",
    "                                     y_cat_test), \n",
    "                    shuffle=False, \n",
    "                    #callbacks=[reduce_lr]\n",
    "                   )"
   ]
  },
  {
   "cell_type": "code",
   "execution_count": 35,
   "metadata": {},
   "outputs": [
    {
     "name": "stdout",
     "output_type": "stream",
     "text": [
      "91104/91104 [==============================] - 636s   \n",
      "22776/22776 [==============================] - 151s   \n",
      "[ 9  7  6 ... 10  4  9]\n",
      "\n",
      "unique values train data set [ 0  1  2  3  4  5  6  7  8  9 10]\n",
      "unique values test data set: [ 0  1  2  3  4  5  6  7  8  9 10]\n",
      "\n"
     ]
    }
   ],
   "source": [
    "pred_train = model.predict_classes(xtrain_sc_reshape)\n",
    "pred_test = model.predict_classes(xtest_sc_reshape)\n",
    "print(pred_test)\n",
    "print('')\n",
    "print('unique values train data set', np.unique(pred_train))\n",
    "print('unique values test data set:', np.unique(pred_test))\n",
    "print('')\n"
   ]
  },
  {
   "cell_type": "code",
   "execution_count": 36,
   "metadata": {},
   "outputs": [
    {
     "name": "stdout",
     "output_type": "stream",
     "text": [
      "training score: [0.66488033 0.83531022 0.76888173 0.9225385  0.88153271 1.\n",
      " 0.83785215 1.         1.         0.99877651 0.98726636]\n",
      "test score: [0.65941077 0.84635879 0.78086957 0.92465448 0.88329718 1.\n",
      " 0.83368421 1.         1.         0.99895898 0.988059  ]\n"
     ]
    }
   ],
   "source": [
    "print('training score:', f1_score(ytrain_sc.values + 1, pred_train, average=None))\n",
    "print('test score:', f1_score(ytest_sc.values + 1, pred_test, average=None))"
   ]
  },
  {
   "cell_type": "code",
   "execution_count": 37,
   "metadata": {
    "collapsed": true
   },
   "outputs": [],
   "source": [
    "from sklearn.metrics import classification_report, confusion_matrix"
   ]
  },
  {
   "cell_type": "code",
   "execution_count": 38,
   "metadata": {},
   "outputs": [
    {
     "name": "stdout",
     "output_type": "stream",
     "text": [
      "             precision    recall  f1-score   support\n",
      "\n",
      "          0       0.83      0.54      0.66      3224\n",
      "          1       0.91      0.79      0.85      1202\n",
      "          2       0.66      0.96      0.78      1401\n",
      "          3       0.91      0.94      0.92      1103\n",
      "          4       0.92      0.85      0.88      1196\n",
      "          5       1.00      1.00      1.00      1465\n",
      "          6       0.73      0.97      0.83      2044\n",
      "          7       1.00      1.00      1.00      2162\n",
      "          8       1.00      1.00      1.00      2046\n",
      "          9       1.00      1.00      1.00      4798\n",
      "         10       0.99      0.99      0.99      2135\n",
      "\n",
      "avg / total       0.92      0.91      0.90     22776\n",
      "\n"
     ]
    }
   ],
   "source": [
    "print(classification_report(ytest_sc+1, pred_test))"
   ]
  },
  {
   "cell_type": "code",
   "execution_count": 39,
   "metadata": {},
   "outputs": [
    {
     "name": "stdout",
     "output_type": "stream",
     "text": [
      "[[1757   76  702    2    8    0  646    0    0    7   26]\n",
      " [ 248  953    0    1    0    0    0    0    0    0    0]\n",
      " [  50    0 1347    0    0    0    1    0    0    3    0]\n",
      " [   0   18    0 1037   48    0    0    0    0    0    0]\n",
      " [   2    0    0   97 1018    0   79    0    0    0    0]\n",
      " [   0    0    0    0    0 1465    0    0    0    0    0]\n",
      " [  26    0    0    3   35    0 1980    0    0    0    0]\n",
      " [   0    0    0    0    0    0    0 2162    0    0    0]\n",
      " [   0    0    0    0    0    0    0    0 2046    0    0]\n",
      " [   0    0    0    0    0    0    0    0    0 4798    0]\n",
      " [  22    3    0    0    0    0    0    0    0    0 2110]]\n"
     ]
    }
   ],
   "source": [
    "print(confusion_matrix(ytest_sc+1, pred_test))"
   ]
  },
  {
   "cell_type": "code",
   "execution_count": 40,
   "metadata": {},
   "outputs": [
    {
     "data": {
      "image/png": "[encoded data removed]",
      "text/plain": [
       "<matplotlib.figure.Figure at 0x17215dd4400>"
      ]
     },
     "metadata": {},
     "output_type": "display_data"
    }
   ],
   "source": [
    "plot_loss(history)"
   ]
  },
  {
   "cell_type": "code",
   "execution_count": null,
   "metadata": {
    "collapsed": true
   },
   "outputs": [],
   "source": []
  }
 ],
 "metadata": {
  "kernelspec": {
   "display_name": "conda_python3",
   "language": "python",
   "name": "conda_python3"
  },
  "language_info": {
   "codemirror_mode": {
    "name": "ipython",
    "version": 3
   },
   "file_extension": ".py",
   "mimetype": "text/x-python",
   "name": "python",
   "nbconvert_exporter": "python",
   "pygments_lexer": "ipython3",
   "version": "3.6.4"
  }
 },
 "nbformat": 4,
 "nbformat_minor": 2
}
