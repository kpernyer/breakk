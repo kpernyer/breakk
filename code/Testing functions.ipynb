{
 "cells": [
  {
   "cell_type": "markdown",
   "metadata": {},
   "source": [
    "This notebook shows how to use functions for loading data as well asfor training deep learning models"
   ]
  },
  {
   "cell_type": "code",
   "execution_count": 1,
   "metadata": {},
   "outputs": [
    {
     "name": "stderr",
     "output_type": "stream",
     "text": [
      "Using TensorFlow backend.\n",
      "C:\\Users\\gilbe\\Anaconda3\\lib\\site-packages\\h5py\\__init__.py:34: FutureWarning: Conversion of the second argument of issubdtype from `float` to `np.floating` is deprecated. In future, it will be treated as `np.float64 == np.dtype(float).type`.\n",
      "  from ._conv import register_converters as _register_converters\n"
     ]
    }
   ],
   "source": [
    "import keras\n",
    "from keras.models import Sequential\n",
    "from keras.layers import Dense, LSTM, Dropout, BatchNormalization\n",
    "from keras import optimizers\n",
    "from sklearn.metrics import f1_score\n",
    "import matplotlib.pyplot as plt\n",
    "from load_preprocess import (load_data,\n",
    "                             get_xy,\n",
    "                             scale_data,\n",
    "                             binarize_y,\n",
    "                             prepare_data)\n",
    "from deep_learning_keras import plot_loss, train_model"
   ]
  },
  {
   "cell_type": "markdown",
   "metadata": {},
   "source": [
    "## Load data with load"
   ]
  },
  {
   "cell_type": "code",
   "execution_count": 2,
   "metadata": {
    "collapsed": true
   },
   "outputs": [],
   "source": [
    "train = load_data(file='all_training_400_minisensor_1.csv')\n",
    "test = load_data(file='all_test_400_minisensor.csv')"
   ]
  },
  {
   "cell_type": "markdown",
   "metadata": {},
   "source": [
    "### Preprocess data"
   ]
  },
  {
   "cell_type": "code",
   "execution_count": 6,
   "metadata": {},
   "outputs": [],
   "source": [
    "xtrain, ytrain, xtest, ytest = prepare_data(train, test)\n",
    "xtrain_sc, xtest_sc = scale_data(xtrain, xtest)"
   ]
  },
  {
   "cell_type": "markdown",
   "metadata": {},
   "source": [
    "### Prepere train and test sets, transform y to binary codes"
   ]
  },
  {
   "cell_type": "code",
   "execution_count": 7,
   "metadata": {},
   "outputs": [
    {
     "name": "stdout",
     "output_type": "stream",
     "text": [
      "Train on 91104 samples, validate on 22776 samples\n",
      "Epoch 1/20\n",
      "91104/91104 [==============================] - 16s - loss: 0.8921 - acc: 0.5414 - val_loss: 0.4511 - val_acc: 0.9485\n",
      "Epoch 2/20\n",
      "91104/91104 [==============================] - 8s - loss: 0.7234 - acc: 0.6221 - val_loss: 0.4209 - val_acc: 0.9857\n",
      "Epoch 3/20\n",
      "91104/91104 [==============================] - 8s - loss: 0.6207 - acc: 0.7046 - val_loss: 0.3785 - val_acc: 0.9982\n",
      "Epoch 4/20\n",
      "91104/91104 [==============================] - 8s - loss: 0.5329 - acc: 0.7858 - val_loss: 0.3299 - val_acc: 1.0000\n",
      "Epoch 5/20\n",
      "91104/91104 [==============================] - 8s - loss: 0.4571 - acc: 0.8521 - val_loss: 0.2799 - val_acc: 1.0000\n",
      "Epoch 6/20\n",
      "91104/91104 [==============================] - 8s - loss: 0.3884 - acc: 0.9026 - val_loss: 0.2300 - val_acc: 1.0000\n",
      "Epoch 7/20\n",
      "91104/91104 [==============================] - 8s - loss: 0.3256 - acc: 0.9379 - val_loss: 0.1851 - val_acc: 1.0000\n",
      "Epoch 8/20\n",
      "91104/91104 [==============================] - 10s - loss: 0.2650 - acc: 0.9613 - val_loss: 0.1475 - val_acc: 1.0000\n",
      "Epoch 9/20\n",
      "91104/91104 [==============================] - 8s - loss: 0.2154 - acc: 0.9748 - val_loss: 0.1172 - val_acc: 1.0000\n",
      "Epoch 10/20\n",
      "91104/91104 [==============================] - 8s - loss: 0.1759 - acc: 0.9833 - val_loss: 0.0930 - val_acc: 1.0000\n",
      "Epoch 11/20\n",
      "91104/91104 [==============================] - 8s - loss: 0.1416 - acc: 0.9885 - val_loss: 0.0746 - val_acc: 1.0000\n",
      "Epoch 12/20\n",
      "91104/91104 [==============================] - 5s - loss: 0.1155 - acc: 0.9910 - val_loss: 0.0605 - val_acc: 1.0000\n",
      "Epoch 13/20\n",
      "91104/91104 [==============================] - 5s - loss: 0.0932 - acc: 0.9939 - val_loss: 0.0482 - val_acc: 1.0000\n",
      "Epoch 14/20\n",
      "91104/91104 [==============================] - 5s - loss: 0.0762 - acc: 0.9952 - val_loss: 0.0390 - val_acc: 1.0000\n",
      "Epoch 15/20\n",
      "91104/91104 [==============================] - 5s - loss: 0.0624 - acc: 0.9963 - val_loss: 0.0316 - val_acc: 1.0000\n",
      "Epoch 16/20\n",
      "91104/91104 [==============================] - 5s - loss: 0.0534 - acc: 0.9969 - val_loss: 0.0264 - val_acc: 1.0000\n",
      "Epoch 17/20\n",
      "91104/91104 [==============================] - 5s - loss: 0.0454 - acc: 0.9974 - val_loss: 0.0222 - val_acc: 1.0000\n",
      "Epoch 18/20\n",
      "91104/91104 [==============================] - 5s - loss: 0.0371 - acc: 0.9981 - val_loss: 0.0185 - val_acc: 1.0000\n",
      "Epoch 19/20\n",
      "91104/91104 [==============================] - 5s - loss: 0.0327 - acc: 0.9982 - val_loss: 0.0158 - val_acc: 1.0000\n",
      "Epoch 20/20\n",
      "91104/91104 [==============================] - 5s - loss: 0.0268 - acc: 0.9986 - val_loss: 0.0130 - val_acc: 1.0000\n",
      "22368/22776 [============================>.] - ETA: 0sTraining score: 0.0\n",
      "Test score: 0.0\n"
     ]
    }
   ],
   "source": [
    "model, history = train_model(xtrain_sc, ytrain, xtest_sc, ytest)\n",
    "pred_train = model.predict_classes(xtrain_sc)\n",
    "pred_test = model.predict_classes(xtest_sc)\n",
    "print('Training score:', f1_score(ytrain, pred_train))\n",
    "print('Test score:', f1_score(ytest, pred_test))"
   ]
  },
  {
   "cell_type": "code",
   "execution_count": 8,
   "metadata": {},
   "outputs": [
    {
     "data": {
      "image/png": "[encoded data removed]",
      "text/plain": [
       "<matplotlib.figure.Figure at 0x2000e103d68>"
      ]
     },
     "metadata": {},
     "output_type": "display_data"
    }
   ],
   "source": [
    "plot_loss(history)"
   ]
  },
  {
   "cell_type": "code",
   "execution_count": null,
   "metadata": {
    "collapsed": true
   },
   "outputs": [],
   "source": []
  }
 ],
 "metadata": {
  "kernelspec": {
   "display_name": "Python 3",
   "language": "python",
   "name": "python3"
  },
  "language_info": {
   "codemirror_mode": {
    "name": "ipython",
    "version": 3
   },
   "file_extension": ".py",
   "mimetype": "text/x-python",
   "name": "python",
   "nbconvert_exporter": "python",
   "pygments_lexer": "ipython3",
   "version": "3.5.3"
  }
 },
 "nbformat": 4,
 "nbformat_minor": 2
}
