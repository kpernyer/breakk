{
 "cells": [
  {
   "cell_type": "code",
   "execution_count": null,
   "metadata": {},
   "outputs": [
    {
     "name": "stderr",
     "output_type": "stream",
     "text": [
      "Using TensorFlow backend.\n",
      "C:\\Users\\gilbe\\Anaconda3\\lib\\site-packages\\h5py\\__init__.py:34: FutureWarning: Conversion of the second argument of issubdtype from `float` to `np.floating` is deprecated. In future, it will be treated as `np.float64 == np.dtype(float).type`.\n",
      "  from ._conv import register_converters as _register_converters\n"
     ]
    }
   ],
   "source": [
    "import numpy as np\n",
    "import pandas as pd\n",
    "from utils.utils import PROJECT_DATA_DIR\n",
    "import os\n",
    "#import mxnet as mx\n",
    "import tarfile\n",
    "import warnings\n",
    "from deep_learning_keras import plot_loss, train_model\n",
    "warnings.filterwarnings(\"ignore\")"
   ]
  },
  {
   "cell_type": "code",
   "execution_count": null,
   "metadata": {
    "collapsed": true
   },
   "outputs": [],
   "source": [
    "sensor_train = pd.read_csv(os.path.join(PROJECT_DATA_DIR, \n",
    "                                        'all_training_400_minisensor_1.csv'), \n",
    "                           sep='\\s+', header=None)\n",
    "\n",
    "sensor_test = pd.read_csv(os.path.join(PROJECT_DATA_DIR, \n",
    "                                       'all_test_400_minisensor.csv'),\n",
    "                          sep='\\s+', header=None)"
   ]
  },
  {
   "cell_type": "code",
   "execution_count": null,
   "metadata": {},
   "outputs": [
    {
     "data": {
      "text/html": [
       "<div>\n",
       "<table border=\"1\" class=\"dataframe\">\n",
       "  <thead>\n",
       "    <tr style=\"text-align: right;\">\n",
       "      <th></th>\n",
       "      <th>0</th>\n",
       "      <th>1</th>\n",
       "      <th>2</th>\n",
       "      <th>3</th>\n",
       "      <th>4</th>\n",
       "      <th>5</th>\n",
       "      <th>6</th>\n",
       "      <th>7</th>\n",
       "      <th>8</th>\n",
       "      <th>9</th>\n",
       "      <th>...</th>\n",
       "      <th>1191</th>\n",
       "      <th>1192</th>\n",
       "      <th>1193</th>\n",
       "      <th>1194</th>\n",
       "      <th>1195</th>\n",
       "      <th>1196</th>\n",
       "      <th>1197</th>\n",
       "      <th>1198</th>\n",
       "      <th>1199</th>\n",
       "      <th>1200</th>\n",
       "    </tr>\n",
       "  </thead>\n",
       "  <tbody>\n",
       "    <tr>\n",
       "      <th>0</th>\n",
       "      <td>-3</td>\n",
       "      <td>3</td>\n",
       "      <td>4</td>\n",
       "      <td>-3</td>\n",
       "      <td>3</td>\n",
       "      <td>4</td>\n",
       "      <td>1</td>\n",
       "      <td>-3</td>\n",
       "      <td>2</td>\n",
       "      <td>0</td>\n",
       "      <td>...</td>\n",
       "      <td>0</td>\n",
       "      <td>0</td>\n",
       "      <td>0</td>\n",
       "      <td>3</td>\n",
       "      <td>0</td>\n",
       "      <td>-4</td>\n",
       "      <td>-2</td>\n",
       "      <td>0</td>\n",
       "      <td>-5</td>\n",
       "      <td>8</td>\n",
       "    </tr>\n",
       "    <tr>\n",
       "      <th>1</th>\n",
       "      <td>3</td>\n",
       "      <td>0</td>\n",
       "      <td>0</td>\n",
       "      <td>1</td>\n",
       "      <td>0</td>\n",
       "      <td>0</td>\n",
       "      <td>0</td>\n",
       "      <td>2</td>\n",
       "      <td>0</td>\n",
       "      <td>0</td>\n",
       "      <td>...</td>\n",
       "      <td>-1</td>\n",
       "      <td>0</td>\n",
       "      <td>-7</td>\n",
       "      <td>3</td>\n",
       "      <td>-1</td>\n",
       "      <td>-7</td>\n",
       "      <td>7</td>\n",
       "      <td>-1</td>\n",
       "      <td>-5</td>\n",
       "      <td>7</td>\n",
       "    </tr>\n",
       "    <tr>\n",
       "      <th>2</th>\n",
       "      <td>1</td>\n",
       "      <td>-3</td>\n",
       "      <td>7</td>\n",
       "      <td>0</td>\n",
       "      <td>1</td>\n",
       "      <td>4</td>\n",
       "      <td>-3</td>\n",
       "      <td>4</td>\n",
       "      <td>0</td>\n",
       "      <td>-2</td>\n",
       "      <td>...</td>\n",
       "      <td>-4</td>\n",
       "      <td>1</td>\n",
       "      <td>8</td>\n",
       "      <td>-2</td>\n",
       "      <td>1</td>\n",
       "      <td>12</td>\n",
       "      <td>0</td>\n",
       "      <td>4</td>\n",
       "      <td>11</td>\n",
       "      <td>4</td>\n",
       "    </tr>\n",
       "    <tr>\n",
       "      <th>3</th>\n",
       "      <td>4</td>\n",
       "      <td>1</td>\n",
       "      <td>-1</td>\n",
       "      <td>3</td>\n",
       "      <td>4</td>\n",
       "      <td>-8</td>\n",
       "      <td>3</td>\n",
       "      <td>4</td>\n",
       "      <td>-1</td>\n",
       "      <td>3</td>\n",
       "      <td>...</td>\n",
       "      <td>0</td>\n",
       "      <td>4</td>\n",
       "      <td>-5</td>\n",
       "      <td>-1</td>\n",
       "      <td>3</td>\n",
       "      <td>6</td>\n",
       "      <td>3</td>\n",
       "      <td>4</td>\n",
       "      <td>7</td>\n",
       "      <td>6</td>\n",
       "    </tr>\n",
       "    <tr>\n",
       "      <th>4</th>\n",
       "      <td>0</td>\n",
       "      <td>-4</td>\n",
       "      <td>0</td>\n",
       "      <td>5</td>\n",
       "      <td>0</td>\n",
       "      <td>0</td>\n",
       "      <td>5</td>\n",
       "      <td>0</td>\n",
       "      <td>-5</td>\n",
       "      <td>0</td>\n",
       "      <td>...</td>\n",
       "      <td>0</td>\n",
       "      <td>-4</td>\n",
       "      <td>-4</td>\n",
       "      <td>3</td>\n",
       "      <td>3</td>\n",
       "      <td>0</td>\n",
       "      <td>4</td>\n",
       "      <td>3</td>\n",
       "      <td>1</td>\n",
       "      <td>8</td>\n",
       "    </tr>\n",
       "  </tbody>\n",
       "</table>\n",
       "<p>5 rows × 1201 columns</p>\n",
       "</div>"
      ],
      "text/plain": [
       "   0     1     2     3     4     5     6     7     8     9     ...   1191  \\\n",
       "0    -3     3     4    -3     3     4     1    -3     2     0  ...      0   \n",
       "1     3     0     0     1     0     0     0     2     0     0  ...     -1   \n",
       "2     1    -3     7     0     1     4    -3     4     0    -2  ...     -4   \n",
       "3     4     1    -1     3     4    -8     3     4    -1     3  ...      0   \n",
       "4     0    -4     0     5     0     0     5     0    -5     0  ...      0   \n",
       "\n",
       "   1192  1193  1194  1195  1196  1197  1198  1199  1200  \n",
       "0     0     0     3     0    -4    -2     0    -5     8  \n",
       "1     0    -7     3    -1    -7     7    -1    -5     7  \n",
       "2     1     8    -2     1    12     0     4    11     4  \n",
       "3     4    -5    -1     3     6     3     4     7     6  \n",
       "4    -4    -4     3     3     0     4     3     1     8  \n",
       "\n",
       "[5 rows x 1201 columns]"
      ]
     },
     "execution_count": 3,
     "metadata": {},
     "output_type": "execute_result"
    }
   ],
   "source": [
    "sensor_train.head()"
   ]
  },
  {
   "cell_type": "code",
   "execution_count": null,
   "metadata": {},
   "outputs": [
    {
     "data": {
      "text/html": [
       "<div>\n",
       "<table border=\"1\" class=\"dataframe\">\n",
       "  <thead>\n",
       "    <tr style=\"text-align: right;\">\n",
       "      <th></th>\n",
       "      <th>0</th>\n",
       "      <th>1</th>\n",
       "      <th>2</th>\n",
       "      <th>3</th>\n",
       "      <th>4</th>\n",
       "      <th>5</th>\n",
       "      <th>6</th>\n",
       "      <th>7</th>\n",
       "      <th>8</th>\n",
       "      <th>9</th>\n",
       "      <th>...</th>\n",
       "      <th>1191</th>\n",
       "      <th>1192</th>\n",
       "      <th>1193</th>\n",
       "      <th>1194</th>\n",
       "      <th>1195</th>\n",
       "      <th>1196</th>\n",
       "      <th>1197</th>\n",
       "      <th>1198</th>\n",
       "      <th>1199</th>\n",
       "      <th>1200</th>\n",
       "    </tr>\n",
       "  </thead>\n",
       "  <tbody>\n",
       "    <tr>\n",
       "      <th>0</th>\n",
       "      <td>1</td>\n",
       "      <td>-1</td>\n",
       "      <td>-1</td>\n",
       "      <td>0</td>\n",
       "      <td>2</td>\n",
       "      <td>-1</td>\n",
       "      <td>-2</td>\n",
       "      <td>2</td>\n",
       "      <td>1</td>\n",
       "      <td>-2</td>\n",
       "      <td>...</td>\n",
       "      <td>-2</td>\n",
       "      <td>-3</td>\n",
       "      <td>0</td>\n",
       "      <td>0</td>\n",
       "      <td>0</td>\n",
       "      <td>1</td>\n",
       "      <td>0</td>\n",
       "      <td>2</td>\n",
       "      <td>0</td>\n",
       "      <td>8</td>\n",
       "    </tr>\n",
       "    <tr>\n",
       "      <th>1</th>\n",
       "      <td>3</td>\n",
       "      <td>6</td>\n",
       "      <td>-13</td>\n",
       "      <td>3</td>\n",
       "      <td>6</td>\n",
       "      <td>-8</td>\n",
       "      <td>3</td>\n",
       "      <td>6</td>\n",
       "      <td>-2</td>\n",
       "      <td>-1</td>\n",
       "      <td>...</td>\n",
       "      <td>-1</td>\n",
       "      <td>7</td>\n",
       "      <td>44</td>\n",
       "      <td>14</td>\n",
       "      <td>7</td>\n",
       "      <td>51</td>\n",
       "      <td>23</td>\n",
       "      <td>11</td>\n",
       "      <td>59</td>\n",
       "      <td>6</td>\n",
       "    </tr>\n",
       "    <tr>\n",
       "      <th>2</th>\n",
       "      <td>-1</td>\n",
       "      <td>2</td>\n",
       "      <td>-1</td>\n",
       "      <td>2</td>\n",
       "      <td>0</td>\n",
       "      <td>-1</td>\n",
       "      <td>-4</td>\n",
       "      <td>-3</td>\n",
       "      <td>0</td>\n",
       "      <td>-4</td>\n",
       "      <td>...</td>\n",
       "      <td>-1</td>\n",
       "      <td>0</td>\n",
       "      <td>-1</td>\n",
       "      <td>-1</td>\n",
       "      <td>0</td>\n",
       "      <td>-8</td>\n",
       "      <td>-3</td>\n",
       "      <td>0</td>\n",
       "      <td>-3</td>\n",
       "      <td>5</td>\n",
       "    </tr>\n",
       "    <tr>\n",
       "      <th>3</th>\n",
       "      <td>48</td>\n",
       "      <td>18</td>\n",
       "      <td>-57</td>\n",
       "      <td>48</td>\n",
       "      <td>-3</td>\n",
       "      <td>-148</td>\n",
       "      <td>37</td>\n",
       "      <td>-33</td>\n",
       "      <td>-241</td>\n",
       "      <td>29</td>\n",
       "      <td>...</td>\n",
       "      <td>4</td>\n",
       "      <td>0</td>\n",
       "      <td>-17</td>\n",
       "      <td>9</td>\n",
       "      <td>0</td>\n",
       "      <td>-17</td>\n",
       "      <td>6</td>\n",
       "      <td>0</td>\n",
       "      <td>-21</td>\n",
       "      <td>8</td>\n",
       "    </tr>\n",
       "    <tr>\n",
       "      <th>4</th>\n",
       "      <td>-2</td>\n",
       "      <td>-2</td>\n",
       "      <td>0</td>\n",
       "      <td>0</td>\n",
       "      <td>-3</td>\n",
       "      <td>1</td>\n",
       "      <td>-3</td>\n",
       "      <td>0</td>\n",
       "      <td>0</td>\n",
       "      <td>3</td>\n",
       "      <td>...</td>\n",
       "      <td>0</td>\n",
       "      <td>0</td>\n",
       "      <td>4</td>\n",
       "      <td>0</td>\n",
       "      <td>-3</td>\n",
       "      <td>6</td>\n",
       "      <td>3</td>\n",
       "      <td>-3</td>\n",
       "      <td>4</td>\n",
       "      <td>8</td>\n",
       "    </tr>\n",
       "  </tbody>\n",
       "</table>\n",
       "<p>5 rows × 1201 columns</p>\n",
       "</div>"
      ],
      "text/plain": [
       "   0     1     2     3     4     5     6     7     8     9     ...   1191  \\\n",
       "0     1    -1    -1     0     2    -1    -2     2     1    -2  ...     -2   \n",
       "1     3     6   -13     3     6    -8     3     6    -2    -1  ...     -1   \n",
       "2    -1     2    -1     2     0    -1    -4    -3     0    -4  ...     -1   \n",
       "3    48    18   -57    48    -3  -148    37   -33  -241    29  ...      4   \n",
       "4    -2    -2     0     0    -3     1    -3     0     0     3  ...      0   \n",
       "\n",
       "   1192  1193  1194  1195  1196  1197  1198  1199  1200  \n",
       "0    -3     0     0     0     1     0     2     0     8  \n",
       "1     7    44    14     7    51    23    11    59     6  \n",
       "2     0    -1    -1     0    -8    -3     0    -3     5  \n",
       "3     0   -17     9     0   -17     6     0   -21     8  \n",
       "4     0     4     0    -3     6     3    -3     4     8  \n",
       "\n",
       "[5 rows x 1201 columns]"
      ]
     },
     "execution_count": 4,
     "metadata": {},
     "output_type": "execute_result"
    }
   ],
   "source": [
    "sensor_test.head()"
   ]
  },
  {
   "cell_type": "code",
   "execution_count": null,
   "metadata": {},
   "outputs": [
    {
     "data": {
      "text/plain": [
       "array([ 8,  7,  4,  6, -1,  1,  5,  2,  9,  3,  0], dtype=int64)"
      ]
     },
     "execution_count": 5,
     "metadata": {},
     "output_type": "execute_result"
    }
   ],
   "source": [
    "sensor_train[sensor_train.columns[-1]].unique()"
   ]
  },
  {
   "cell_type": "code",
   "execution_count": null,
   "metadata": {},
   "outputs": [
    {
     "data": {
      "text/plain": [
       "array([ 8,  7,  4,  6, -1,  1,  5,  2,  9,  3,  0], dtype=int64)"
      ]
     },
     "execution_count": 6,
     "metadata": {},
     "output_type": "execute_result"
    }
   ],
   "source": [
    "sensor_train[sensor_train.columns[-1]].unique()"
   ]
  },
  {
   "cell_type": "code",
   "execution_count": null,
   "metadata": {},
   "outputs": [
    {
     "data": {
      "text/plain": [
       "array([ 8,  6,  5,  4,  0, -1,  2,  1,  9,  7,  3], dtype=int64)"
      ]
     },
     "execution_count": 7,
     "metadata": {},
     "output_type": "execute_result"
    }
   ],
   "source": [
    "sensor_test[sensor_test.columns[-1]].unique()"
   ]
  },
  {
   "cell_type": "code",
   "execution_count": null,
   "metadata": {
    "collapsed": true
   },
   "outputs": [],
   "source": [
    "ytrain = sensor_train[sensor_train.columns[-1]]\n",
    "#ytrain.head()\n",
    "xtrain = sensor_train.drop(sensor_train.columns[-1], axis=1) "
   ]
  },
  {
   "cell_type": "code",
   "execution_count": null,
   "metadata": {},
   "outputs": [
    {
     "data": {
      "text/html": [
       "<div>\n",
       "<table border=\"1\" class=\"dataframe\">\n",
       "  <thead>\n",
       "    <tr style=\"text-align: right;\">\n",
       "      <th></th>\n",
       "      <th>0</th>\n",
       "      <th>1</th>\n",
       "      <th>2</th>\n",
       "      <th>3</th>\n",
       "      <th>4</th>\n",
       "      <th>5</th>\n",
       "      <th>6</th>\n",
       "      <th>7</th>\n",
       "      <th>8</th>\n",
       "      <th>9</th>\n",
       "      <th>...</th>\n",
       "      <th>1190</th>\n",
       "      <th>1191</th>\n",
       "      <th>1192</th>\n",
       "      <th>1193</th>\n",
       "      <th>1194</th>\n",
       "      <th>1195</th>\n",
       "      <th>1196</th>\n",
       "      <th>1197</th>\n",
       "      <th>1198</th>\n",
       "      <th>1199</th>\n",
       "    </tr>\n",
       "  </thead>\n",
       "  <tbody>\n",
       "    <tr>\n",
       "      <th>0</th>\n",
       "      <td>-3</td>\n",
       "      <td>3</td>\n",
       "      <td>4</td>\n",
       "      <td>-3</td>\n",
       "      <td>3</td>\n",
       "      <td>4</td>\n",
       "      <td>1</td>\n",
       "      <td>-3</td>\n",
       "      <td>2</td>\n",
       "      <td>0</td>\n",
       "      <td>...</td>\n",
       "      <td>-1</td>\n",
       "      <td>0</td>\n",
       "      <td>0</td>\n",
       "      <td>0</td>\n",
       "      <td>3</td>\n",
       "      <td>0</td>\n",
       "      <td>-4</td>\n",
       "      <td>-2</td>\n",
       "      <td>0</td>\n",
       "      <td>-5</td>\n",
       "    </tr>\n",
       "    <tr>\n",
       "      <th>1</th>\n",
       "      <td>3</td>\n",
       "      <td>0</td>\n",
       "      <td>0</td>\n",
       "      <td>1</td>\n",
       "      <td>0</td>\n",
       "      <td>0</td>\n",
       "      <td>0</td>\n",
       "      <td>2</td>\n",
       "      <td>0</td>\n",
       "      <td>0</td>\n",
       "      <td>...</td>\n",
       "      <td>-8</td>\n",
       "      <td>-1</td>\n",
       "      <td>0</td>\n",
       "      <td>-7</td>\n",
       "      <td>3</td>\n",
       "      <td>-1</td>\n",
       "      <td>-7</td>\n",
       "      <td>7</td>\n",
       "      <td>-1</td>\n",
       "      <td>-5</td>\n",
       "    </tr>\n",
       "    <tr>\n",
       "      <th>2</th>\n",
       "      <td>1</td>\n",
       "      <td>-3</td>\n",
       "      <td>7</td>\n",
       "      <td>0</td>\n",
       "      <td>1</td>\n",
       "      <td>4</td>\n",
       "      <td>-3</td>\n",
       "      <td>4</td>\n",
       "      <td>0</td>\n",
       "      <td>-2</td>\n",
       "      <td>...</td>\n",
       "      <td>4</td>\n",
       "      <td>-4</td>\n",
       "      <td>1</td>\n",
       "      <td>8</td>\n",
       "      <td>-2</td>\n",
       "      <td>1</td>\n",
       "      <td>12</td>\n",
       "      <td>0</td>\n",
       "      <td>4</td>\n",
       "      <td>11</td>\n",
       "    </tr>\n",
       "    <tr>\n",
       "      <th>3</th>\n",
       "      <td>4</td>\n",
       "      <td>1</td>\n",
       "      <td>-1</td>\n",
       "      <td>3</td>\n",
       "      <td>4</td>\n",
       "      <td>-8</td>\n",
       "      <td>3</td>\n",
       "      <td>4</td>\n",
       "      <td>-1</td>\n",
       "      <td>3</td>\n",
       "      <td>...</td>\n",
       "      <td>-1</td>\n",
       "      <td>0</td>\n",
       "      <td>4</td>\n",
       "      <td>-5</td>\n",
       "      <td>-1</td>\n",
       "      <td>3</td>\n",
       "      <td>6</td>\n",
       "      <td>3</td>\n",
       "      <td>4</td>\n",
       "      <td>7</td>\n",
       "    </tr>\n",
       "    <tr>\n",
       "      <th>4</th>\n",
       "      <td>0</td>\n",
       "      <td>-4</td>\n",
       "      <td>0</td>\n",
       "      <td>5</td>\n",
       "      <td>0</td>\n",
       "      <td>0</td>\n",
       "      <td>5</td>\n",
       "      <td>0</td>\n",
       "      <td>-5</td>\n",
       "      <td>0</td>\n",
       "      <td>...</td>\n",
       "      <td>4</td>\n",
       "      <td>0</td>\n",
       "      <td>-4</td>\n",
       "      <td>-4</td>\n",
       "      <td>3</td>\n",
       "      <td>3</td>\n",
       "      <td>0</td>\n",
       "      <td>4</td>\n",
       "      <td>3</td>\n",
       "      <td>1</td>\n",
       "    </tr>\n",
       "  </tbody>\n",
       "</table>\n",
       "<p>5 rows × 1200 columns</p>\n",
       "</div>"
      ],
      "text/plain": [
       "   0     1     2     3     4     5     6     7     8     9     ...   1190  \\\n",
       "0    -3     3     4    -3     3     4     1    -3     2     0  ...     -1   \n",
       "1     3     0     0     1     0     0     0     2     0     0  ...     -8   \n",
       "2     1    -3     7     0     1     4    -3     4     0    -2  ...      4   \n",
       "3     4     1    -1     3     4    -8     3     4    -1     3  ...     -1   \n",
       "4     0    -4     0     5     0     0     5     0    -5     0  ...      4   \n",
       "\n",
       "   1191  1192  1193  1194  1195  1196  1197  1198  1199  \n",
       "0     0     0     0     3     0    -4    -2     0    -5  \n",
       "1    -1     0    -7     3    -1    -7     7    -1    -5  \n",
       "2    -4     1     8    -2     1    12     0     4    11  \n",
       "3     0     4    -5    -1     3     6     3     4     7  \n",
       "4     0    -4    -4     3     3     0     4     3     1  \n",
       "\n",
       "[5 rows x 1200 columns]"
      ]
     },
     "execution_count": 9,
     "metadata": {},
     "output_type": "execute_result"
    }
   ],
   "source": [
    "xtrain.head()"
   ]
  },
  {
   "cell_type": "code",
   "execution_count": null,
   "metadata": {
    "collapsed": true
   },
   "outputs": [],
   "source": [
    "ytest = sensor_test[sensor_test.columns[-1]]\n",
    "xtest = sensor_test.drop(sensor_test.columns[-1], axis=1) "
   ]
  },
  {
   "cell_type": "code",
   "execution_count": null,
   "metadata": {
    "collapsed": true
   },
   "outputs": [],
   "source": [
    "#ytrain_sc = ytrain.map(lambda x: 1 if (x == 1) else 0)\n",
    "#ytest_sc = ytest.map(lambda x: 1 if (x == 1) else 0)\n",
    "ytrain_sc = ytrain\n",
    "ytest_sc = ytest"
   ]
  },
  {
   "cell_type": "code",
   "execution_count": null,
   "metadata": {},
   "outputs": [
    {
     "name": "stdout",
     "output_type": "stream",
     "text": [
      "[ 8  7  4  6 -1  1  5  2  9  3  0]\n"
     ]
    },
    {
     "data": {
      "text/plain": [
       "0    8\n",
       "1    7\n",
       "2    4\n",
       "3    6\n",
       "4    8\n",
       "Name: 1200, dtype: int64"
      ]
     },
     "execution_count": 12,
     "metadata": {},
     "output_type": "execute_result"
    }
   ],
   "source": [
    "print(ytrain_sc.unique())\n",
    "ytrain_sc.head()\n"
   ]
  },
  {
   "cell_type": "markdown",
   "metadata": {},
   "source": [
    "## Preprocessing"
   ]
  },
  {
   "cell_type": "code",
   "execution_count": null,
   "metadata": {},
   "outputs": [
    {
     "name": "stdout",
     "output_type": "stream",
     "text": [
      "<class 'pandas.core.frame.DataFrame'>\n",
      "RangeIndex: 91104 entries, 0 to 91103\n",
      "Columns: 1200 entries, 0 to 1199\n",
      "dtypes: int64(1200)\n",
      "memory usage: 834.1 MB\n"
     ]
    }
   ],
   "source": [
    "xtrain.info()"
   ]
  },
  {
   "cell_type": "code",
   "execution_count": null,
   "metadata": {},
   "outputs": [
    {
     "name": "stdout",
     "output_type": "stream",
     "text": [
      "(91104, 1200)\n"
     ]
    },
    {
     "data": {
      "text/html": [
       "<div>\n",
       "<table border=\"1\" class=\"dataframe\">\n",
       "  <thead>\n",
       "    <tr style=\"text-align: right;\">\n",
       "      <th></th>\n",
       "      <th>0</th>\n",
       "      <th>1</th>\n",
       "      <th>2</th>\n",
       "      <th>3</th>\n",
       "      <th>4</th>\n",
       "      <th>5</th>\n",
       "      <th>6</th>\n",
       "      <th>7</th>\n",
       "      <th>8</th>\n",
       "      <th>9</th>\n",
       "      <th>...</th>\n",
       "      <th>1190</th>\n",
       "      <th>1191</th>\n",
       "      <th>1192</th>\n",
       "      <th>1193</th>\n",
       "      <th>1194</th>\n",
       "      <th>1195</th>\n",
       "      <th>1196</th>\n",
       "      <th>1197</th>\n",
       "      <th>1198</th>\n",
       "      <th>1199</th>\n",
       "    </tr>\n",
       "  </thead>\n",
       "  <tbody>\n",
       "    <tr>\n",
       "      <th>count</th>\n",
       "      <td>91104.000000</td>\n",
       "      <td>91104.000000</td>\n",
       "      <td>91104.000000</td>\n",
       "      <td>91104.000000</td>\n",
       "      <td>91104.000000</td>\n",
       "      <td>91104.000000</td>\n",
       "      <td>91104.000000</td>\n",
       "      <td>91104.000000</td>\n",
       "      <td>91104.000000</td>\n",
       "      <td>91104.000000</td>\n",
       "      <td>...</td>\n",
       "      <td>91104.000000</td>\n",
       "      <td>91104.000000</td>\n",
       "      <td>91104.000000</td>\n",
       "      <td>91104.000000</td>\n",
       "      <td>91104.000000</td>\n",
       "      <td>91104.000000</td>\n",
       "      <td>91104.000000</td>\n",
       "      <td>91104.000000</td>\n",
       "      <td>91104.000000</td>\n",
       "      <td>91104.000000</td>\n",
       "    </tr>\n",
       "    <tr>\n",
       "      <th>mean</th>\n",
       "      <td>-0.148303</td>\n",
       "      <td>-0.084958</td>\n",
       "      <td>1.254369</td>\n",
       "      <td>-0.187906</td>\n",
       "      <td>-0.006333</td>\n",
       "      <td>1.236104</td>\n",
       "      <td>-0.169652</td>\n",
       "      <td>-0.041293</td>\n",
       "      <td>1.176655</td>\n",
       "      <td>-0.134264</td>\n",
       "      <td>...</td>\n",
       "      <td>1.176524</td>\n",
       "      <td>-0.145855</td>\n",
       "      <td>-0.018858</td>\n",
       "      <td>1.112937</td>\n",
       "      <td>-0.092213</td>\n",
       "      <td>-0.039427</td>\n",
       "      <td>1.077790</td>\n",
       "      <td>-0.040437</td>\n",
       "      <td>-0.056682</td>\n",
       "      <td>1.104759</td>\n",
       "    </tr>\n",
       "    <tr>\n",
       "      <th>std</th>\n",
       "      <td>27.286271</td>\n",
       "      <td>27.909568</td>\n",
       "      <td>46.855641</td>\n",
       "      <td>27.765273</td>\n",
       "      <td>28.559648</td>\n",
       "      <td>46.999119</td>\n",
       "      <td>28.626503</td>\n",
       "      <td>28.982204</td>\n",
       "      <td>46.765926</td>\n",
       "      <td>28.193874</td>\n",
       "      <td>...</td>\n",
       "      <td>46.367091</td>\n",
       "      <td>27.301695</td>\n",
       "      <td>27.251507</td>\n",
       "      <td>46.007632</td>\n",
       "      <td>27.150623</td>\n",
       "      <td>27.219451</td>\n",
       "      <td>46.120196</td>\n",
       "      <td>26.833842</td>\n",
       "      <td>26.793117</td>\n",
       "      <td>45.991891</td>\n",
       "    </tr>\n",
       "    <tr>\n",
       "      <th>min</th>\n",
       "      <td>-1914.000000</td>\n",
       "      <td>-1998.000000</td>\n",
       "      <td>-1160.000000</td>\n",
       "      <td>-1914.000000</td>\n",
       "      <td>-1998.000000</td>\n",
       "      <td>-1160.000000</td>\n",
       "      <td>-2305.000000</td>\n",
       "      <td>-1998.000000</td>\n",
       "      <td>-1160.000000</td>\n",
       "      <td>-2305.000000</td>\n",
       "      <td>...</td>\n",
       "      <td>-1160.000000</td>\n",
       "      <td>-1914.000000</td>\n",
       "      <td>-1998.000000</td>\n",
       "      <td>-1160.000000</td>\n",
       "      <td>-1914.000000</td>\n",
       "      <td>-1998.000000</td>\n",
       "      <td>-1160.000000</td>\n",
       "      <td>-2305.000000</td>\n",
       "      <td>-1998.000000</td>\n",
       "      <td>-950.000000</td>\n",
       "    </tr>\n",
       "    <tr>\n",
       "      <th>25%</th>\n",
       "      <td>-2.000000</td>\n",
       "      <td>-2.000000</td>\n",
       "      <td>-4.000000</td>\n",
       "      <td>-2.000000</td>\n",
       "      <td>-2.000000</td>\n",
       "      <td>-4.000000</td>\n",
       "      <td>-2.000000</td>\n",
       "      <td>-2.000000</td>\n",
       "      <td>-4.000000</td>\n",
       "      <td>-2.000000</td>\n",
       "      <td>...</td>\n",
       "      <td>-4.000000</td>\n",
       "      <td>-2.000000</td>\n",
       "      <td>-2.000000</td>\n",
       "      <td>-4.000000</td>\n",
       "      <td>-2.000000</td>\n",
       "      <td>-2.000000</td>\n",
       "      <td>-4.000000</td>\n",
       "      <td>-2.000000</td>\n",
       "      <td>-2.000000</td>\n",
       "      <td>-4.000000</td>\n",
       "    </tr>\n",
       "    <tr>\n",
       "      <th>50%</th>\n",
       "      <td>0.000000</td>\n",
       "      <td>0.000000</td>\n",
       "      <td>0.000000</td>\n",
       "      <td>0.000000</td>\n",
       "      <td>0.000000</td>\n",
       "      <td>0.000000</td>\n",
       "      <td>0.000000</td>\n",
       "      <td>0.000000</td>\n",
       "      <td>0.000000</td>\n",
       "      <td>0.000000</td>\n",
       "      <td>...</td>\n",
       "      <td>0.000000</td>\n",
       "      <td>0.000000</td>\n",
       "      <td>0.000000</td>\n",
       "      <td>0.000000</td>\n",
       "      <td>0.000000</td>\n",
       "      <td>0.000000</td>\n",
       "      <td>0.000000</td>\n",
       "      <td>0.000000</td>\n",
       "      <td>0.000000</td>\n",
       "      <td>0.000000</td>\n",
       "    </tr>\n",
       "    <tr>\n",
       "      <th>75%</th>\n",
       "      <td>3.000000</td>\n",
       "      <td>2.000000</td>\n",
       "      <td>5.000000</td>\n",
       "      <td>3.000000</td>\n",
       "      <td>2.000000</td>\n",
       "      <td>5.000000</td>\n",
       "      <td>3.000000</td>\n",
       "      <td>2.000000</td>\n",
       "      <td>5.000000</td>\n",
       "      <td>3.000000</td>\n",
       "      <td>...</td>\n",
       "      <td>5.000000</td>\n",
       "      <td>3.000000</td>\n",
       "      <td>2.000000</td>\n",
       "      <td>5.000000</td>\n",
       "      <td>3.000000</td>\n",
       "      <td>2.000000</td>\n",
       "      <td>5.000000</td>\n",
       "      <td>3.000000</td>\n",
       "      <td>2.000000</td>\n",
       "      <td>5.000000</td>\n",
       "    </tr>\n",
       "    <tr>\n",
       "      <th>max</th>\n",
       "      <td>542.000000</td>\n",
       "      <td>2001.000000</td>\n",
       "      <td>1169.000000</td>\n",
       "      <td>438.000000</td>\n",
       "      <td>2054.000000</td>\n",
       "      <td>1169.000000</td>\n",
       "      <td>542.000000</td>\n",
       "      <td>2054.000000</td>\n",
       "      <td>1169.000000</td>\n",
       "      <td>542.000000</td>\n",
       "      <td>...</td>\n",
       "      <td>1169.000000</td>\n",
       "      <td>542.000000</td>\n",
       "      <td>2001.000000</td>\n",
       "      <td>1169.000000</td>\n",
       "      <td>542.000000</td>\n",
       "      <td>2054.000000</td>\n",
       "      <td>1169.000000</td>\n",
       "      <td>542.000000</td>\n",
       "      <td>2054.000000</td>\n",
       "      <td>1169.000000</td>\n",
       "    </tr>\n",
       "  </tbody>\n",
       "</table>\n",
       "<p>8 rows × 1200 columns</p>\n",
       "</div>"
      ],
      "text/plain": [
       "               0             1             2             3             4     \\\n",
       "count  91104.000000  91104.000000  91104.000000  91104.000000  91104.000000   \n",
       "mean      -0.148303     -0.084958      1.254369     -0.187906     -0.006333   \n",
       "std       27.286271     27.909568     46.855641     27.765273     28.559648   \n",
       "min    -1914.000000  -1998.000000  -1160.000000  -1914.000000  -1998.000000   \n",
       "25%       -2.000000     -2.000000     -4.000000     -2.000000     -2.000000   \n",
       "50%        0.000000      0.000000      0.000000      0.000000      0.000000   \n",
       "75%        3.000000      2.000000      5.000000      3.000000      2.000000   \n",
       "max      542.000000   2001.000000   1169.000000    438.000000   2054.000000   \n",
       "\n",
       "               5             6             7             8             9     \\\n",
       "count  91104.000000  91104.000000  91104.000000  91104.000000  91104.000000   \n",
       "mean       1.236104     -0.169652     -0.041293      1.176655     -0.134264   \n",
       "std       46.999119     28.626503     28.982204     46.765926     28.193874   \n",
       "min    -1160.000000  -2305.000000  -1998.000000  -1160.000000  -2305.000000   \n",
       "25%       -4.000000     -2.000000     -2.000000     -4.000000     -2.000000   \n",
       "50%        0.000000      0.000000      0.000000      0.000000      0.000000   \n",
       "75%        5.000000      3.000000      2.000000      5.000000      3.000000   \n",
       "max     1169.000000    542.000000   2054.000000   1169.000000    542.000000   \n",
       "\n",
       "           ...               1190          1191          1192          1193  \\\n",
       "count      ...       91104.000000  91104.000000  91104.000000  91104.000000   \n",
       "mean       ...           1.176524     -0.145855     -0.018858      1.112937   \n",
       "std        ...          46.367091     27.301695     27.251507     46.007632   \n",
       "min        ...       -1160.000000  -1914.000000  -1998.000000  -1160.000000   \n",
       "25%        ...          -4.000000     -2.000000     -2.000000     -4.000000   \n",
       "50%        ...           0.000000      0.000000      0.000000      0.000000   \n",
       "75%        ...           5.000000      3.000000      2.000000      5.000000   \n",
       "max        ...        1169.000000    542.000000   2001.000000   1169.000000   \n",
       "\n",
       "               1194          1195          1196          1197          1198  \\\n",
       "count  91104.000000  91104.000000  91104.000000  91104.000000  91104.000000   \n",
       "mean      -0.092213     -0.039427      1.077790     -0.040437     -0.056682   \n",
       "std       27.150623     27.219451     46.120196     26.833842     26.793117   \n",
       "min    -1914.000000  -1998.000000  -1160.000000  -2305.000000  -1998.000000   \n",
       "25%       -2.000000     -2.000000     -4.000000     -2.000000     -2.000000   \n",
       "50%        0.000000      0.000000      0.000000      0.000000      0.000000   \n",
       "75%        3.000000      2.000000      5.000000      3.000000      2.000000   \n",
       "max      542.000000   2054.000000   1169.000000    542.000000   2054.000000   \n",
       "\n",
       "               1199  \n",
       "count  91104.000000  \n",
       "mean       1.104759  \n",
       "std       45.991891  \n",
       "min     -950.000000  \n",
       "25%       -4.000000  \n",
       "50%        0.000000  \n",
       "75%        5.000000  \n",
       "max     1169.000000  \n",
       "\n",
       "[8 rows x 1200 columns]"
      ]
     },
     "execution_count": 14,
     "metadata": {},
     "output_type": "execute_result"
    }
   ],
   "source": [
    "print(xtrain.shape)\n",
    "xtrain.describe()"
   ]
  },
  {
   "cell_type": "code",
   "execution_count": null,
   "metadata": {
    "collapsed": true
   },
   "outputs": [],
   "source": [
    "import matplotlib.pyplot as plt"
   ]
  },
  {
   "cell_type": "code",
   "execution_count": null,
   "metadata": {},
   "outputs": [
    {
     "data": {
      "image/png": "[encoded data removed]",
      "text/plain": [
       "<matplotlib.figure.Figure at 0x1e95932e2e8>"
      ]
     },
     "metadata": {},
     "output_type": "display_data"
    }
   ],
   "source": [
    "xtrain[xtrain.columns[0:10:3]].plot()\n",
    "plt.show()"
   ]
  },
  {
   "cell_type": "code",
   "execution_count": null,
   "metadata": {},
   "outputs": [
    {
     "data": {
      "image/png": "[encoded data removed]",
      "text/plain": [
       "<matplotlib.figure.Figure at 0x1e95b3c87f0>"
      ]
     },
     "metadata": {},
     "output_type": "display_data"
    }
   ],
   "source": [
    "xtrain[xtrain.columns[1100:1120:3]].plot()\n",
    "plt.show()"
   ]
  },
  {
   "cell_type": "code",
   "execution_count": null,
   "metadata": {},
   "outputs": [
    {
     "data": {
      "image/png": "[encoded data removed]",
      "text/plain": [
       "<matplotlib.figure.Figure at 0x1e921ebd710>"
      ]
     },
     "metadata": {},
     "output_type": "display_data"
    }
   ],
   "source": [
    "xtrain[xtrain.columns[500:510:3]].plot()\n",
    "plt.show()"
   ]
  },
  {
   "cell_type": "code",
   "execution_count": null,
   "metadata": {},
   "outputs": [
    {
     "data": {
      "image/png": "[encoded data removed]",
      "text/plain": [
       "<matplotlib.figure.Figure at 0x1e92207e908>"
      ]
     },
     "metadata": {},
     "output_type": "display_data"
    }
   ],
   "source": [
    "ytrain_sc.hist(bins=11)\n",
    "plt.show()"
   ]
  },
  {
   "cell_type": "code",
   "execution_count": null,
   "metadata": {},
   "outputs": [
    {
     "data": {
      "image/png": "[encoded data removed]",
      "text/plain": [
       "<matplotlib.figure.Figure at 0x1e921ec3a58>"
      ]
     },
     "metadata": {},
     "output_type": "display_data"
    }
   ],
   "source": [
    "ytest_sc.hist(bins=11)\n",
    "plt.show()"
   ]
  },
  {
   "cell_type": "markdown",
   "metadata": {
    "collapsed": true
   },
   "source": [
    "## Rearrange to (x, y, z)"
   ]
  },
  {
   "cell_type": "code",
   "execution_count": null,
   "metadata": {},
   "outputs": [
    {
     "name": "stdout",
     "output_type": "stream",
     "text": [
      "[[ 1 -1 -1]\n",
      " [ 0  2 -1]\n",
      " [-2  2  1]\n",
      " ...\n",
      " [-4  0 64]\n",
      " [-4 -3 35]\n",
      " [-3  0 11]]\n",
      "(9110400, 3)\n",
      "(22776, 1200)\n"
     ]
    }
   ],
   "source": [
    "xtest_reshape = xtest.values.reshape(-1, 3)\n",
    "print(xtest_reshape)\n",
    "print(xtest_reshape.shape)\n",
    "print(xtest.shape)"
   ]
  },
  {
   "cell_type": "code",
   "execution_count": null,
   "metadata": {
    "collapsed": true
   },
   "outputs": [],
   "source": [
    "xtrain_reshape = xtrain.values.reshape(-1, 3)"
   ]
  },
  {
   "cell_type": "markdown",
   "metadata": {},
   "source": [
    "## Scaling and transforming data"
   ]
  },
  {
   "cell_type": "code",
   "execution_count": null,
   "metadata": {},
   "outputs": [
    {
     "name": "stdout",
     "output_type": "stream",
     "text": [
      "[ 9  8  5 ...  2  9 10]\n"
     ]
    }
   ],
   "source": [
    "print(ytrain_sc.values+1)"
   ]
  },
  {
   "cell_type": "code",
   "execution_count": null,
   "metadata": {
    "collapsed": true
   },
   "outputs": [],
   "source": [
    "import keras\n",
    "from keras.models import Sequential\n",
    "from keras.layers import Dense, LSTM, Dropout, BatchNormalization\n",
    "from keras import optimizers\n",
    "from sklearn.metrics import f1_score"
   ]
  },
  {
   "cell_type": "code",
   "execution_count": null,
   "metadata": {},
   "outputs": [
    {
     "name": "stdout",
     "output_type": "stream",
     "text": [
      "[[0. 0. 0. ... 0. 1. 0.]\n",
      " [0. 0. 0. ... 0. 0. 0.]\n",
      " [0. 0. 0. ... 0. 0. 0.]\n",
      " ...\n",
      " [0. 0. 0. ... 0. 0. 1.]\n",
      " [0. 0. 0. ... 0. 0. 0.]\n",
      " [0. 0. 0. ... 0. 1. 0.]]\n",
      "0 [0. 0. 0. 0. 0. 0. 0. 0. 0. 1. 0.]\n",
      "1 [0. 0. 0. 0. 0. 0. 0. 1. 0. 0. 0.]\n",
      "2 [0. 0. 0. 0. 0. 0. 1. 0. 0. 0. 0.]\n",
      "3 [0. 0. 0. 0. 0. 0. 0. 0. 0. 1. 0.]\n",
      "4 [0. 0. 0. 0. 0. 0. 0. 0. 0. 1. 0.]\n",
      "5 [0. 0. 0. 0. 0. 1. 0. 0. 0. 0. 0.]\n",
      "6 [0. 0. 0. 0. 0. 1. 0. 0. 0. 0. 0.]\n",
      "7 [0. 1. 0. 0. 0. 0. 0. 0. 0. 0. 0.]\n",
      "8 [0. 0. 0. 0. 0. 0. 0. 1. 0. 0. 0.]\n",
      "9 [1. 0. 0. 0. 0. 0. 0. 0. 0. 0. 0.]\n",
      "10 [0. 0. 0. 1. 0. 0. 0. 0. 0. 0. 0.]\n",
      "11 [0. 0. 0. 1. 0. 0. 0. 0. 0. 0. 0.]\n",
      "12 [1. 0. 0. 0. 0. 0. 0. 0. 0. 0. 0.]\n",
      "13 [0. 0. 1. 0. 0. 0. 0. 0. 0. 0. 0.]\n",
      "14 [0. 0. 0. 0. 0. 0. 0. 0. 0. 1. 0.]\n",
      "15 [0. 0. 0. 0. 0. 0. 0. 0. 0. 0. 1.]\n",
      "16 [0. 0. 0. 0. 0. 0. 0. 0. 1. 0. 0.]\n",
      "17 [0. 0. 0. 0. 0. 0. 0. 0. 1. 0. 0.]\n",
      "18 [0. 0. 0. 0. 0. 0. 0. 1. 0. 0. 0.]\n",
      "19 [0. 0. 0. 0. 0. 0. 1. 0. 0. 0. 0.]\n",
      "0 8\n",
      "1 6\n",
      "2 5\n",
      "3 8\n",
      "4 8\n",
      "5 4\n",
      "6 4\n",
      "7 0\n",
      "8 6\n",
      "9 -1\n",
      "10 2\n",
      "11 2\n",
      "12 -1\n",
      "13 1\n",
      "14 8\n",
      "15 9\n",
      "16 7\n",
      "17 7\n",
      "18 6\n",
      "19 5\n"
     ]
    }
   ],
   "source": [
    "y_cat_train = keras.utils.to_categorical(ytrain_sc.values + 1, num_classes=11)\n",
    "y_cat_test = keras.utils.to_categorical(ytest_sc.values + 1, num_classes=11)\n",
    "print(y_cat_test)\n",
    "for i in range(20):\n",
    "    print('{} {}'.format(i, y_cat_test[i]))\n",
    "for i in range(20):\n",
    "    print('{} {}'.format(i, ytest_sc.values[i]))\n"
   ]
  },
  {
   "cell_type": "markdown",
   "metadata": {},
   "source": [
    "### Preprocessing"
   ]
  },
  {
   "cell_type": "code",
   "execution_count": null,
   "metadata": {
    "collapsed": true
   },
   "outputs": [],
   "source": [
    "from sklearn.preprocessing import StandardScaler, QuantileTransformer"
   ]
  },
  {
   "cell_type": "code",
   "execution_count": null,
   "metadata": {
    "collapsed": true
   },
   "outputs": [],
   "source": [
    "scaler = QuantileTransformer(output_distribution='normal')\n",
    "xtrain_sc = scaler.fit_transform(xtrain_reshape)\n",
    "xtest_sc = scaler.transform(xtest_reshape)"
   ]
  },
  {
   "cell_type": "code",
   "execution_count": null,
   "metadata": {
    "collapsed": true
   },
   "outputs": [],
   "source": [
    "xtrain_sc_reshape = xtrain_sc.reshape(-1, 400, 3)\n",
    "xtest_sc_reshape = xtest_sc.reshape(-1, 400, 3)"
   ]
  },
  {
   "cell_type": "code",
   "execution_count": null,
   "metadata": {},
   "outputs": [
    {
     "name": "stdout",
     "output_type": "stream",
     "text": [
      "(91104,)\n",
      "(91104, 400, 3)\n",
      "(22776, 400, 3)\n",
      "(22776,)\n"
     ]
    }
   ],
   "source": [
    "print(ytrain_sc.shape)\n",
    "print(xtrain_sc_reshape.shape)\n",
    "type(xtrain_sc_reshape)\n",
    "print(xtest_sc_reshape.shape)\n",
    "print(ytest.shape)\n"
   ]
  },
  {
   "cell_type": "code",
   "execution_count": null,
   "metadata": {},
   "outputs": [
    {
     "data": {
      "image/png": "[encoded data removed]",
      "text/plain": [
       "<matplotlib.figure.Figure at 0x1e9593550f0>"
      ]
     },
     "metadata": {},
     "output_type": "display_data"
    }
   ],
   "source": [
    "plt.plot(xtrain_sc_reshape[:,0:4:1,0])\n",
    "plt.show()\n"
   ]
  },
  {
   "cell_type": "code",
   "execution_count": null,
   "metadata": {},
   "outputs": [
    {
     "data": {
      "image/png": "[encoded data removed]",
      "text/plain": [
       "<matplotlib.figure.Figure at 0x1e9232d3780>"
      ]
     },
     "metadata": {},
     "output_type": "display_data"
    }
   ],
   "source": [
    "plt.plot(xtest_sc_reshape[:,0:4:3, 0])\n",
    "plt.show()"
   ]
  },
  {
   "cell_type": "markdown",
   "metadata": {
    "collapsed": true
   },
   "source": [
    "## Model"
   ]
  },
  {
   "cell_type": "code",
   "execution_count": null,
   "metadata": {},
   "outputs": [
    {
     "name": "stdout",
     "output_type": "stream",
     "text": [
      "WARNING:tensorflow:From C:\\Users\\gilbe\\Anaconda3\\lib\\site-packages\\keras\\backend\\tensorflow_backend.py:1046: calling reduce_sum (from tensorflow.python.ops.math_ops) with keep_dims is deprecated and will be removed in a future version.\n",
      "Instructions for updating:\n",
      "keep_dims is deprecated, use keepdims instead\n"
     ]
    }
   ],
   "source": [
    "#del model\n",
    "model = Sequential()\n",
    "model.add(BatchNormalization(input_shape=(400, 3)))\n",
    "model.add(LSTM(units=20, input_shape=(400, 3),\n",
    "               return_sequences=True))\n",
    "model.add(Dropout(0.4))\n",
    "model.add(BatchNormalization(input_shape=(400, 3)))\n",
    "model.add(LSTM(20))\n",
    "model.add(Dropout(0.4))\n",
    "model.add(BatchNormalization(input_shape=(400, 3)))\n",
    "model.add(Dense(units=11, activation='softmax'))\n"
   ]
  },
  {
   "cell_type": "code",
   "execution_count": null,
   "metadata": {},
   "outputs": [
    {
     "name": "stdout",
     "output_type": "stream",
     "text": [
      "WARNING:tensorflow:From C:\\Users\\gilbe\\Anaconda3\\lib\\site-packages\\keras\\backend\\tensorflow_backend.py:1153: calling reduce_mean (from tensorflow.python.ops.math_ops) with keep_dims is deprecated and will be removed in a future version.\n",
      "Instructions for updating:\n",
      "keep_dims is deprecated, use keepdims instead\n"
     ]
    }
   ],
   "source": [
    "lr = 0.01\n",
    "optim = optimizers.Adam(lr=lr,\n",
    "                        beta_1=0.9,\n",
    "                        beta_2=0.999,\n",
    "                        decay=1e-6)\n",
    "model.compile(loss='categorical_crossentropy',\n",
    "                        optimizer=optim,\n",
    "                        metrics=['accuracy'])"
   ]
  },
  {
   "cell_type": "code",
   "execution_count": null,
   "metadata": {},
   "outputs": [
    {
     "name": "stdout",
     "output_type": "stream",
     "text": [
      "Train on 91104 samples, validate on 22776 samples\n",
      "Epoch 1/20\n",
      "91104/91104 [==============================] - 373s - loss: 0.8133 - acc: 0.7161 - val_loss: 0.5082 - val_acc: 0.8051\n",
      "Epoch 2/20\n",
      "91104/91104 [==============================] - 383s - loss: 0.7473 - acc: 0.7394 - val_loss: 0.7936 - val_acc: 0.7269\n",
      "Epoch 3/20\n",
      "91104/91104 [==============================] - 382s - loss: 0.6382 - acc: 0.7689 - val_loss: 0.4116 - val_acc: 0.8350\n",
      "Epoch 4/20\n",
      "91104/91104 [==============================] - 384s - loss: 0.4745 - acc: 0.8158 - val_loss: 0.3566 - val_acc: 0.8694\n",
      "Epoch 5/20\n",
      "91104/91104 [==============================] - 393s - loss: 0.3636 - acc: 0.8573 - val_loss: 0.2245 - val_acc: 0.9134\n",
      "Epoch 6/20\n",
      "91104/91104 [==============================] - 389s - loss: 0.4118 - acc: 0.8499 - val_loss: 0.3222 - val_acc: 0.8894\n",
      "Epoch 7/20\n",
      "91104/91104 [==============================] - 390s - loss: 0.3998 - acc: 0.8536 - val_loss: 0.4812 - val_acc: 0.8343\n",
      "Epoch 8/20\n",
      "91104/91104 [==============================] - 394s - loss: 0.3920 - acc: 0.8507 - val_loss: 0.2487 - val_acc: 0.8993\n",
      "Epoch 9/20\n",
      "91104/91104 [==============================] - 380s - loss: 0.2450 - acc: 0.9075 - val_loss: 0.3011 - val_acc: 0.9016\n",
      "Epoch 10/20\n",
      "91104/91104 [==============================] - 380s - loss: 0.2188 - acc: 0.9230 - val_loss: 0.2513 - val_acc: 0.9150\n",
      "Epoch 11/20\n",
      "91104/91104 [==============================] - 379s - loss: 0.2467 - acc: 0.9132 - val_loss: 0.1425 - val_acc: 0.9400\n",
      "Epoch 12/20\n",
      "91104/91104 [==============================] - 378s - loss: 0.1668 - acc: 0.9394 - val_loss: 0.2117 - val_acc: 0.9322\n",
      "Epoch 13/20\n",
      "91104/91104 [==============================] - 375s - loss: 0.1588 - acc: 0.9452 - val_loss: 0.1773 - val_acc: 0.9012\n",
      "Epoch 14/20\n",
      "91104/91104 [==============================] - 369s - loss: 0.1488 - acc: 0.9537 - val_loss: 0.1758 - val_acc: 0.9577\n",
      "Epoch 15/20\n",
      "91104/91104 [==============================] - 370s - loss: 0.1457 - acc: 0.9580 - val_loss: 0.2820 - val_acc: 0.9115\n",
      "Epoch 16/20\n",
      "91104/91104 [==============================] - 368s - loss: 0.1769 - acc: 0.9481 - val_loss: 0.2414 - val_acc: 0.8707\n",
      "Epoch 17/20\n",
      "91104/91104 [==============================] - 378s - loss: 0.2043 - acc: 0.9285 - val_loss: 0.1367 - val_acc: 0.9410\n",
      "Epoch 18/20\n",
      "91104/91104 [==============================] - 373s - loss: 0.1966 - acc: 0.9398 - val_loss: 0.3904 - val_acc: 0.8537\n",
      "Epoch 19/20\n",
      "75776/91104 [=======================>......] - ETA: 110s - loss: 0.2252 - acc: 0.9289"
     ]
    }
   ],
   "source": [
    "#reduce_lr = RedureLROnPlateau(monitor='val_loss', \n",
    "#                              factor=0.2,\n",
    "#                              patience=5, \n",
    "#                              min_lr=0.00001,\n",
    "#                              verbose=2)\n",
    "\n",
    "history = model.fit(xtrain_sc_reshape,\n",
    "                    y_cat_train,                        \n",
    "                    epochs=20,\n",
    "                    batch_size=2**8, \n",
    "                    validation_data=(xtest_sc_reshape, \n",
    "                                     y_cat_test), \n",
    "                    shuffle=False, \n",
    "                    #callbacks=[reduce_lr]\n",
    "                   )"
   ]
  },
  {
   "cell_type": "code",
   "execution_count": null,
   "metadata": {},
   "outputs": [],
   "source": [
    "pred_train = model.predict_classes(xtrain_sc_reshape)\n",
    "pred_test = model.predict_classes(xtest_sc_reshape)\n",
    "print(pred_test)\n",
    "print('')\n",
    "print('unique values train data set', np.unique(pred_train))\n",
    "print('unique values test data set:', np.unique(pred_test))\n",
    "print('')\n"
   ]
  },
  {
   "cell_type": "code",
   "execution_count": null,
   "metadata": {},
   "outputs": [],
   "source": [
    "print('training score:', f1_score(ytrain_sc.values + 1, pred_train, average=None))\n",
    "print('test score:', f1_score(ytest_sc.values + 1, pred_test, average=None))"
   ]
  },
  {
   "cell_type": "code",
   "execution_count": null,
   "metadata": {
    "collapsed": true
   },
   "outputs": [],
   "source": [
    "from sklearn.metrics import classification_report, confusion_matrix"
   ]
  },
  {
   "cell_type": "code",
   "execution_count": null,
   "metadata": {},
   "outputs": [],
   "source": [
    "print(classification_report(ytest_sc+1, pred_test))"
   ]
  },
  {
   "cell_type": "code",
   "execution_count": null,
   "metadata": {},
   "outputs": [],
   "source": [
    "print(confusion_matrix(ytest_sc+1, pred_test))"
   ]
  },
  {
   "cell_type": "code",
   "execution_count": null,
   "metadata": {},
   "outputs": [],
   "source": [
    "plot_loss(history)"
   ]
  },
  {
   "cell_type": "code",
   "execution_count": null,
   "metadata": {
    "collapsed": true
   },
   "outputs": [],
   "source": []
  }
 ],
 "metadata": {
  "kernelspec": {
   "display_name": "Python 3",
   "language": "python",
   "name": "python3"
  },
  "language_info": {
   "codemirror_mode": {
    "name": "ipython",
    "version": 3
   },
   "file_extension": ".py",
   "mimetype": "text/x-python",
   "name": "python",
   "nbconvert_exporter": "python",
   "pygments_lexer": "ipython3",
   "version": "3.5.3"
  }
 },
 "nbformat": 4,
 "nbformat_minor": 2
}
