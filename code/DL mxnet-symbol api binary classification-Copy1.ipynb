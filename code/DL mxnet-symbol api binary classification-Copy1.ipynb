{
 "cells": [
  {
   "cell_type": "code",
   "execution_count": 1,
   "metadata": {},
   "outputs": [
    {
     "name": "stderr",
     "output_type": "stream",
     "text": [
      "C:\\Users\\gilbe\\Anaconda3\\lib\\site-packages\\h5py\\__init__.py:34: FutureWarning: Conversion of the second argument of issubdtype from `float` to `np.floating` is deprecated. In future, it will be treated as `np.float64 == np.dtype(float).type`.\n",
      "  from ._conv import register_converters as _register_converters\n"
     ]
    }
   ],
   "source": [
    "import logging\n",
    "logging.getLogger().setLevel(logging.INFO)\n",
    "import numpy as np\n",
    "import pandas as pd\n",
    "from utils.utils import PROJECT_DATA_DIR\n",
    "import os\n",
    "from __future__ import print_function\n",
    "import mxnet as mx\n",
    "from mxnet import autograd, gluon\n",
    "import mxnet.ndarray as nd\n",
    "from time import time\n",
    "\n",
    "import tarfile\n",
    "import warnings\n",
    "warnings.filterwarnings(\"ignore\")\n",
    "\n",
    "import matplotlib.pyplot as plt\n",
    "\n",
    "# Note we use gpu, how to change it in runtime?\n",
    "ctx = mx.gpu()"
   ]
  },
  {
   "cell_type": "markdown",
   "metadata": {},
   "source": [
    "# Data "
   ]
  },
  {
   "cell_type": "code",
   "execution_count": 2,
   "metadata": {
    "collapsed": true
   },
   "outputs": [],
   "source": [
    "sensor_train = pd.read_csv(os.path.join(PROJECT_DATA_DIR, \n",
    "                                        'all_training_400_minisensor_1.csv'), \n",
    "                           sep='\\s+', header=None)\n",
    "\n",
    "sensor_test = pd.read_csv(os.path.join(PROJECT_DATA_DIR, \n",
    "                                       'all_test_400_minisensor.csv'),\n",
    "                          sep='\\s+', header=None)"
   ]
  },
  {
   "cell_type": "code",
   "execution_count": 3,
   "metadata": {},
   "outputs": [
    {
     "data": {
      "text/html": [
       "<div>\n",
       "<table border=\"1\" class=\"dataframe\">\n",
       "  <thead>\n",
       "    <tr style=\"text-align: right;\">\n",
       "      <th></th>\n",
       "      <th>0</th>\n",
       "      <th>1</th>\n",
       "      <th>2</th>\n",
       "      <th>3</th>\n",
       "      <th>4</th>\n",
       "      <th>5</th>\n",
       "      <th>6</th>\n",
       "      <th>7</th>\n",
       "      <th>8</th>\n",
       "      <th>9</th>\n",
       "      <th>...</th>\n",
       "      <th>1191</th>\n",
       "      <th>1192</th>\n",
       "      <th>1193</th>\n",
       "      <th>1194</th>\n",
       "      <th>1195</th>\n",
       "      <th>1196</th>\n",
       "      <th>1197</th>\n",
       "      <th>1198</th>\n",
       "      <th>1199</th>\n",
       "      <th>1200</th>\n",
       "    </tr>\n",
       "  </thead>\n",
       "  <tbody>\n",
       "    <tr>\n",
       "      <th>0</th>\n",
       "      <td>-3</td>\n",
       "      <td>3</td>\n",
       "      <td>4</td>\n",
       "      <td>-3</td>\n",
       "      <td>3</td>\n",
       "      <td>4</td>\n",
       "      <td>1</td>\n",
       "      <td>-3</td>\n",
       "      <td>2</td>\n",
       "      <td>0</td>\n",
       "      <td>...</td>\n",
       "      <td>0</td>\n",
       "      <td>0</td>\n",
       "      <td>0</td>\n",
       "      <td>3</td>\n",
       "      <td>0</td>\n",
       "      <td>-4</td>\n",
       "      <td>-2</td>\n",
       "      <td>0</td>\n",
       "      <td>-5</td>\n",
       "      <td>8</td>\n",
       "    </tr>\n",
       "    <tr>\n",
       "      <th>1</th>\n",
       "      <td>3</td>\n",
       "      <td>0</td>\n",
       "      <td>0</td>\n",
       "      <td>1</td>\n",
       "      <td>0</td>\n",
       "      <td>0</td>\n",
       "      <td>0</td>\n",
       "      <td>2</td>\n",
       "      <td>0</td>\n",
       "      <td>0</td>\n",
       "      <td>...</td>\n",
       "      <td>-1</td>\n",
       "      <td>0</td>\n",
       "      <td>-7</td>\n",
       "      <td>3</td>\n",
       "      <td>-1</td>\n",
       "      <td>-7</td>\n",
       "      <td>7</td>\n",
       "      <td>-1</td>\n",
       "      <td>-5</td>\n",
       "      <td>7</td>\n",
       "    </tr>\n",
       "    <tr>\n",
       "      <th>2</th>\n",
       "      <td>1</td>\n",
       "      <td>-3</td>\n",
       "      <td>7</td>\n",
       "      <td>0</td>\n",
       "      <td>1</td>\n",
       "      <td>4</td>\n",
       "      <td>-3</td>\n",
       "      <td>4</td>\n",
       "      <td>0</td>\n",
       "      <td>-2</td>\n",
       "      <td>...</td>\n",
       "      <td>-4</td>\n",
       "      <td>1</td>\n",
       "      <td>8</td>\n",
       "      <td>-2</td>\n",
       "      <td>1</td>\n",
       "      <td>12</td>\n",
       "      <td>0</td>\n",
       "      <td>4</td>\n",
       "      <td>11</td>\n",
       "      <td>4</td>\n",
       "    </tr>\n",
       "    <tr>\n",
       "      <th>3</th>\n",
       "      <td>4</td>\n",
       "      <td>1</td>\n",
       "      <td>-1</td>\n",
       "      <td>3</td>\n",
       "      <td>4</td>\n",
       "      <td>-8</td>\n",
       "      <td>3</td>\n",
       "      <td>4</td>\n",
       "      <td>-1</td>\n",
       "      <td>3</td>\n",
       "      <td>...</td>\n",
       "      <td>0</td>\n",
       "      <td>4</td>\n",
       "      <td>-5</td>\n",
       "      <td>-1</td>\n",
       "      <td>3</td>\n",
       "      <td>6</td>\n",
       "      <td>3</td>\n",
       "      <td>4</td>\n",
       "      <td>7</td>\n",
       "      <td>6</td>\n",
       "    </tr>\n",
       "    <tr>\n",
       "      <th>4</th>\n",
       "      <td>0</td>\n",
       "      <td>-4</td>\n",
       "      <td>0</td>\n",
       "      <td>5</td>\n",
       "      <td>0</td>\n",
       "      <td>0</td>\n",
       "      <td>5</td>\n",
       "      <td>0</td>\n",
       "      <td>-5</td>\n",
       "      <td>0</td>\n",
       "      <td>...</td>\n",
       "      <td>0</td>\n",
       "      <td>-4</td>\n",
       "      <td>-4</td>\n",
       "      <td>3</td>\n",
       "      <td>3</td>\n",
       "      <td>0</td>\n",
       "      <td>4</td>\n",
       "      <td>3</td>\n",
       "      <td>1</td>\n",
       "      <td>8</td>\n",
       "    </tr>\n",
       "  </tbody>\n",
       "</table>\n",
       "<p>5 rows × 1201 columns</p>\n",
       "</div>"
      ],
      "text/plain": [
       "   0     1     2     3     4     5     6     7     8     9     ...   1191  \\\n",
       "0    -3     3     4    -3     3     4     1    -3     2     0  ...      0   \n",
       "1     3     0     0     1     0     0     0     2     0     0  ...     -1   \n",
       "2     1    -3     7     0     1     4    -3     4     0    -2  ...     -4   \n",
       "3     4     1    -1     3     4    -8     3     4    -1     3  ...      0   \n",
       "4     0    -4     0     5     0     0     5     0    -5     0  ...      0   \n",
       "\n",
       "   1192  1193  1194  1195  1196  1197  1198  1199  1200  \n",
       "0     0     0     3     0    -4    -2     0    -5     8  \n",
       "1     0    -7     3    -1    -7     7    -1    -5     7  \n",
       "2     1     8    -2     1    12     0     4    11     4  \n",
       "3     4    -5    -1     3     6     3     4     7     6  \n",
       "4    -4    -4     3     3     0     4     3     1     8  \n",
       "\n",
       "[5 rows x 1201 columns]"
      ]
     },
     "execution_count": 3,
     "metadata": {},
     "output_type": "execute_result"
    }
   ],
   "source": [
    "sensor_train.head()"
   ]
  },
  {
   "cell_type": "code",
   "execution_count": 4,
   "metadata": {},
   "outputs": [
    {
     "data": {
      "text/html": [
       "<div>\n",
       "<table border=\"1\" class=\"dataframe\">\n",
       "  <thead>\n",
       "    <tr style=\"text-align: right;\">\n",
       "      <th></th>\n",
       "      <th>0</th>\n",
       "      <th>1</th>\n",
       "      <th>2</th>\n",
       "      <th>3</th>\n",
       "      <th>4</th>\n",
       "      <th>5</th>\n",
       "      <th>6</th>\n",
       "      <th>7</th>\n",
       "      <th>8</th>\n",
       "      <th>9</th>\n",
       "      <th>...</th>\n",
       "      <th>1191</th>\n",
       "      <th>1192</th>\n",
       "      <th>1193</th>\n",
       "      <th>1194</th>\n",
       "      <th>1195</th>\n",
       "      <th>1196</th>\n",
       "      <th>1197</th>\n",
       "      <th>1198</th>\n",
       "      <th>1199</th>\n",
       "      <th>1200</th>\n",
       "    </tr>\n",
       "  </thead>\n",
       "  <tbody>\n",
       "    <tr>\n",
       "      <th>0</th>\n",
       "      <td>1</td>\n",
       "      <td>-1</td>\n",
       "      <td>-1</td>\n",
       "      <td>0</td>\n",
       "      <td>2</td>\n",
       "      <td>-1</td>\n",
       "      <td>-2</td>\n",
       "      <td>2</td>\n",
       "      <td>1</td>\n",
       "      <td>-2</td>\n",
       "      <td>...</td>\n",
       "      <td>-2</td>\n",
       "      <td>-3</td>\n",
       "      <td>0</td>\n",
       "      <td>0</td>\n",
       "      <td>0</td>\n",
       "      <td>1</td>\n",
       "      <td>0</td>\n",
       "      <td>2</td>\n",
       "      <td>0</td>\n",
       "      <td>8</td>\n",
       "    </tr>\n",
       "    <tr>\n",
       "      <th>1</th>\n",
       "      <td>3</td>\n",
       "      <td>6</td>\n",
       "      <td>-13</td>\n",
       "      <td>3</td>\n",
       "      <td>6</td>\n",
       "      <td>-8</td>\n",
       "      <td>3</td>\n",
       "      <td>6</td>\n",
       "      <td>-2</td>\n",
       "      <td>-1</td>\n",
       "      <td>...</td>\n",
       "      <td>-1</td>\n",
       "      <td>7</td>\n",
       "      <td>44</td>\n",
       "      <td>14</td>\n",
       "      <td>7</td>\n",
       "      <td>51</td>\n",
       "      <td>23</td>\n",
       "      <td>11</td>\n",
       "      <td>59</td>\n",
       "      <td>6</td>\n",
       "    </tr>\n",
       "    <tr>\n",
       "      <th>2</th>\n",
       "      <td>-1</td>\n",
       "      <td>2</td>\n",
       "      <td>-1</td>\n",
       "      <td>2</td>\n",
       "      <td>0</td>\n",
       "      <td>-1</td>\n",
       "      <td>-4</td>\n",
       "      <td>-3</td>\n",
       "      <td>0</td>\n",
       "      <td>-4</td>\n",
       "      <td>...</td>\n",
       "      <td>-1</td>\n",
       "      <td>0</td>\n",
       "      <td>-1</td>\n",
       "      <td>-1</td>\n",
       "      <td>0</td>\n",
       "      <td>-8</td>\n",
       "      <td>-3</td>\n",
       "      <td>0</td>\n",
       "      <td>-3</td>\n",
       "      <td>5</td>\n",
       "    </tr>\n",
       "    <tr>\n",
       "      <th>3</th>\n",
       "      <td>48</td>\n",
       "      <td>18</td>\n",
       "      <td>-57</td>\n",
       "      <td>48</td>\n",
       "      <td>-3</td>\n",
       "      <td>-148</td>\n",
       "      <td>37</td>\n",
       "      <td>-33</td>\n",
       "      <td>-241</td>\n",
       "      <td>29</td>\n",
       "      <td>...</td>\n",
       "      <td>4</td>\n",
       "      <td>0</td>\n",
       "      <td>-17</td>\n",
       "      <td>9</td>\n",
       "      <td>0</td>\n",
       "      <td>-17</td>\n",
       "      <td>6</td>\n",
       "      <td>0</td>\n",
       "      <td>-21</td>\n",
       "      <td>8</td>\n",
       "    </tr>\n",
       "    <tr>\n",
       "      <th>4</th>\n",
       "      <td>-2</td>\n",
       "      <td>-2</td>\n",
       "      <td>0</td>\n",
       "      <td>0</td>\n",
       "      <td>-3</td>\n",
       "      <td>1</td>\n",
       "      <td>-3</td>\n",
       "      <td>0</td>\n",
       "      <td>0</td>\n",
       "      <td>3</td>\n",
       "      <td>...</td>\n",
       "      <td>0</td>\n",
       "      <td>0</td>\n",
       "      <td>4</td>\n",
       "      <td>0</td>\n",
       "      <td>-3</td>\n",
       "      <td>6</td>\n",
       "      <td>3</td>\n",
       "      <td>-3</td>\n",
       "      <td>4</td>\n",
       "      <td>8</td>\n",
       "    </tr>\n",
       "  </tbody>\n",
       "</table>\n",
       "<p>5 rows × 1201 columns</p>\n",
       "</div>"
      ],
      "text/plain": [
       "   0     1     2     3     4     5     6     7     8     9     ...   1191  \\\n",
       "0     1    -1    -1     0     2    -1    -2     2     1    -2  ...     -2   \n",
       "1     3     6   -13     3     6    -8     3     6    -2    -1  ...     -1   \n",
       "2    -1     2    -1     2     0    -1    -4    -3     0    -4  ...     -1   \n",
       "3    48    18   -57    48    -3  -148    37   -33  -241    29  ...      4   \n",
       "4    -2    -2     0     0    -3     1    -3     0     0     3  ...      0   \n",
       "\n",
       "   1192  1193  1194  1195  1196  1197  1198  1199  1200  \n",
       "0    -3     0     0     0     1     0     2     0     8  \n",
       "1     7    44    14     7    51    23    11    59     6  \n",
       "2     0    -1    -1     0    -8    -3     0    -3     5  \n",
       "3     0   -17     9     0   -17     6     0   -21     8  \n",
       "4     0     4     0    -3     6     3    -3     4     8  \n",
       "\n",
       "[5 rows x 1201 columns]"
      ]
     },
     "execution_count": 4,
     "metadata": {},
     "output_type": "execute_result"
    }
   ],
   "source": [
    "sensor_test.head()"
   ]
  },
  {
   "cell_type": "code",
   "execution_count": 5,
   "metadata": {},
   "outputs": [
    {
     "data": {
      "text/plain": [
       "array([ 8,  7,  4,  6, -1,  1,  5,  2,  9,  3,  0], dtype=int64)"
      ]
     },
     "execution_count": 5,
     "metadata": {},
     "output_type": "execute_result"
    }
   ],
   "source": [
    "sensor_train[sensor_train.columns[-1]].unique()"
   ]
  },
  {
   "cell_type": "code",
   "execution_count": 6,
   "metadata": {},
   "outputs": [
    {
     "data": {
      "text/plain": [
       "array([ 8,  7,  4,  6, -1,  1,  5,  2,  9,  3,  0], dtype=int64)"
      ]
     },
     "execution_count": 6,
     "metadata": {},
     "output_type": "execute_result"
    }
   ],
   "source": [
    "sensor_train[sensor_train.columns[-1]].unique()"
   ]
  },
  {
   "cell_type": "code",
   "execution_count": 7,
   "metadata": {},
   "outputs": [
    {
     "data": {
      "text/plain": [
       "array([ 8,  6,  5,  4,  0, -1,  2,  1,  9,  7,  3], dtype=int64)"
      ]
     },
     "execution_count": 7,
     "metadata": {},
     "output_type": "execute_result"
    }
   ],
   "source": [
    "sensor_test[sensor_test.columns[-1]].unique()"
   ]
  },
  {
   "cell_type": "code",
   "execution_count": 8,
   "metadata": {
    "collapsed": true
   },
   "outputs": [],
   "source": [
    "from sklearn.preprocessing import (MinMaxScaler,\n",
    "                                   StandardScaler,\n",
    "                                   Imputer,\n",
    "                                   QuantileTransformer)"
   ]
  },
  {
   "cell_type": "code",
   "execution_count": null,
   "metadata": {
    "collapsed": true
   },
   "outputs": [],
   "source": []
  },
  {
   "cell_type": "code",
   "execution_count": 9,
   "metadata": {
    "collapsed": true
   },
   "outputs": [],
   "source": [
    "ytrain = sensor_train[sensor_train.columns[-1]]\n",
    "#ytrain.head()\n",
    "xtrain = sensor_train.drop(sensor_train.columns[-1], axis=1) "
   ]
  },
  {
   "cell_type": "code",
   "execution_count": 10,
   "metadata": {},
   "outputs": [
    {
     "data": {
      "text/html": [
       "<div>\n",
       "<table border=\"1\" class=\"dataframe\">\n",
       "  <thead>\n",
       "    <tr style=\"text-align: right;\">\n",
       "      <th></th>\n",
       "      <th>0</th>\n",
       "      <th>1</th>\n",
       "      <th>2</th>\n",
       "      <th>3</th>\n",
       "      <th>4</th>\n",
       "      <th>5</th>\n",
       "      <th>6</th>\n",
       "      <th>7</th>\n",
       "      <th>8</th>\n",
       "      <th>9</th>\n",
       "      <th>...</th>\n",
       "      <th>1190</th>\n",
       "      <th>1191</th>\n",
       "      <th>1192</th>\n",
       "      <th>1193</th>\n",
       "      <th>1194</th>\n",
       "      <th>1195</th>\n",
       "      <th>1196</th>\n",
       "      <th>1197</th>\n",
       "      <th>1198</th>\n",
       "      <th>1199</th>\n",
       "    </tr>\n",
       "  </thead>\n",
       "  <tbody>\n",
       "    <tr>\n",
       "      <th>0</th>\n",
       "      <td>-3</td>\n",
       "      <td>3</td>\n",
       "      <td>4</td>\n",
       "      <td>-3</td>\n",
       "      <td>3</td>\n",
       "      <td>4</td>\n",
       "      <td>1</td>\n",
       "      <td>-3</td>\n",
       "      <td>2</td>\n",
       "      <td>0</td>\n",
       "      <td>...</td>\n",
       "      <td>-1</td>\n",
       "      <td>0</td>\n",
       "      <td>0</td>\n",
       "      <td>0</td>\n",
       "      <td>3</td>\n",
       "      <td>0</td>\n",
       "      <td>-4</td>\n",
       "      <td>-2</td>\n",
       "      <td>0</td>\n",
       "      <td>-5</td>\n",
       "    </tr>\n",
       "    <tr>\n",
       "      <th>1</th>\n",
       "      <td>3</td>\n",
       "      <td>0</td>\n",
       "      <td>0</td>\n",
       "      <td>1</td>\n",
       "      <td>0</td>\n",
       "      <td>0</td>\n",
       "      <td>0</td>\n",
       "      <td>2</td>\n",
       "      <td>0</td>\n",
       "      <td>0</td>\n",
       "      <td>...</td>\n",
       "      <td>-8</td>\n",
       "      <td>-1</td>\n",
       "      <td>0</td>\n",
       "      <td>-7</td>\n",
       "      <td>3</td>\n",
       "      <td>-1</td>\n",
       "      <td>-7</td>\n",
       "      <td>7</td>\n",
       "      <td>-1</td>\n",
       "      <td>-5</td>\n",
       "    </tr>\n",
       "    <tr>\n",
       "      <th>2</th>\n",
       "      <td>1</td>\n",
       "      <td>-3</td>\n",
       "      <td>7</td>\n",
       "      <td>0</td>\n",
       "      <td>1</td>\n",
       "      <td>4</td>\n",
       "      <td>-3</td>\n",
       "      <td>4</td>\n",
       "      <td>0</td>\n",
       "      <td>-2</td>\n",
       "      <td>...</td>\n",
       "      <td>4</td>\n",
       "      <td>-4</td>\n",
       "      <td>1</td>\n",
       "      <td>8</td>\n",
       "      <td>-2</td>\n",
       "      <td>1</td>\n",
       "      <td>12</td>\n",
       "      <td>0</td>\n",
       "      <td>4</td>\n",
       "      <td>11</td>\n",
       "    </tr>\n",
       "    <tr>\n",
       "      <th>3</th>\n",
       "      <td>4</td>\n",
       "      <td>1</td>\n",
       "      <td>-1</td>\n",
       "      <td>3</td>\n",
       "      <td>4</td>\n",
       "      <td>-8</td>\n",
       "      <td>3</td>\n",
       "      <td>4</td>\n",
       "      <td>-1</td>\n",
       "      <td>3</td>\n",
       "      <td>...</td>\n",
       "      <td>-1</td>\n",
       "      <td>0</td>\n",
       "      <td>4</td>\n",
       "      <td>-5</td>\n",
       "      <td>-1</td>\n",
       "      <td>3</td>\n",
       "      <td>6</td>\n",
       "      <td>3</td>\n",
       "      <td>4</td>\n",
       "      <td>7</td>\n",
       "    </tr>\n",
       "    <tr>\n",
       "      <th>4</th>\n",
       "      <td>0</td>\n",
       "      <td>-4</td>\n",
       "      <td>0</td>\n",
       "      <td>5</td>\n",
       "      <td>0</td>\n",
       "      <td>0</td>\n",
       "      <td>5</td>\n",
       "      <td>0</td>\n",
       "      <td>-5</td>\n",
       "      <td>0</td>\n",
       "      <td>...</td>\n",
       "      <td>4</td>\n",
       "      <td>0</td>\n",
       "      <td>-4</td>\n",
       "      <td>-4</td>\n",
       "      <td>3</td>\n",
       "      <td>3</td>\n",
       "      <td>0</td>\n",
       "      <td>4</td>\n",
       "      <td>3</td>\n",
       "      <td>1</td>\n",
       "    </tr>\n",
       "  </tbody>\n",
       "</table>\n",
       "<p>5 rows × 1200 columns</p>\n",
       "</div>"
      ],
      "text/plain": [
       "   0     1     2     3     4     5     6     7     8     9     ...   1190  \\\n",
       "0    -3     3     4    -3     3     4     1    -3     2     0  ...     -1   \n",
       "1     3     0     0     1     0     0     0     2     0     0  ...     -8   \n",
       "2     1    -3     7     0     1     4    -3     4     0    -2  ...      4   \n",
       "3     4     1    -1     3     4    -8     3     4    -1     3  ...     -1   \n",
       "4     0    -4     0     5     0     0     5     0    -5     0  ...      4   \n",
       "\n",
       "   1191  1192  1193  1194  1195  1196  1197  1198  1199  \n",
       "0     0     0     0     3     0    -4    -2     0    -5  \n",
       "1    -1     0    -7     3    -1    -7     7    -1    -5  \n",
       "2    -4     1     8    -2     1    12     0     4    11  \n",
       "3     0     4    -5    -1     3     6     3     4     7  \n",
       "4     0    -4    -4     3     3     0     4     3     1  \n",
       "\n",
       "[5 rows x 1200 columns]"
      ]
     },
     "execution_count": 10,
     "metadata": {},
     "output_type": "execute_result"
    }
   ],
   "source": [
    "xtrain.head()"
   ]
  },
  {
   "cell_type": "code",
   "execution_count": 11,
   "metadata": {
    "collapsed": true
   },
   "outputs": [],
   "source": [
    "ytest = sensor_test[sensor_test.columns[-1]]\n",
    "xtest = sensor_test.drop(sensor_test.columns[-1], axis=1) "
   ]
  },
  {
   "cell_type": "code",
   "execution_count": 12,
   "metadata": {
    "collapsed": true
   },
   "outputs": [],
   "source": [
    "ytrain_sc = ytrain.map(lambda x: 1 if (x == 2 or x == 3) else 0)\n",
    "ytest_sc = ytest.map(lambda x: 1 if (x == 2 or x == 3) else 0)"
   ]
  },
  {
   "cell_type": "code",
   "execution_count": 13,
   "metadata": {},
   "outputs": [
    {
     "name": "stdout",
     "output_type": "stream",
     "text": [
      "[0 1]\n"
     ]
    },
    {
     "data": {
      "text/plain": [
       "0    0\n",
       "1    0\n",
       "2    0\n",
       "3    0\n",
       "4    0\n",
       "Name: 1200, dtype: int64"
      ]
     },
     "execution_count": 13,
     "metadata": {},
     "output_type": "execute_result"
    }
   ],
   "source": [
    "print(ytrain_sc.unique())\n",
    "ytrain_sc.head()\n"
   ]
  },
  {
   "cell_type": "markdown",
   "metadata": {},
   "source": [
    "## Preprocessing"
   ]
  },
  {
   "cell_type": "code",
   "execution_count": 14,
   "metadata": {},
   "outputs": [
    {
     "name": "stdout",
     "output_type": "stream",
     "text": [
      "<class 'pandas.core.frame.DataFrame'>\n",
      "RangeIndex: 91104 entries, 0 to 91103\n",
      "Columns: 1200 entries, 0 to 1199\n",
      "dtypes: int64(1200)\n",
      "memory usage: 834.1 MB\n"
     ]
    }
   ],
   "source": [
    "xtrain.info()"
   ]
  },
  {
   "cell_type": "code",
   "execution_count": 15,
   "metadata": {},
   "outputs": [
    {
     "name": "stdout",
     "output_type": "stream",
     "text": [
      "(91104, 1200)\n"
     ]
    },
    {
     "data": {
      "text/html": [
       "<div>\n",
       "<table border=\"1\" class=\"dataframe\">\n",
       "  <thead>\n",
       "    <tr style=\"text-align: right;\">\n",
       "      <th></th>\n",
       "      <th>0</th>\n",
       "      <th>1</th>\n",
       "      <th>2</th>\n",
       "      <th>3</th>\n",
       "      <th>4</th>\n",
       "      <th>5</th>\n",
       "      <th>6</th>\n",
       "      <th>7</th>\n",
       "      <th>8</th>\n",
       "      <th>9</th>\n",
       "      <th>...</th>\n",
       "      <th>1190</th>\n",
       "      <th>1191</th>\n",
       "      <th>1192</th>\n",
       "      <th>1193</th>\n",
       "      <th>1194</th>\n",
       "      <th>1195</th>\n",
       "      <th>1196</th>\n",
       "      <th>1197</th>\n",
       "      <th>1198</th>\n",
       "      <th>1199</th>\n",
       "    </tr>\n",
       "  </thead>\n",
       "  <tbody>\n",
       "    <tr>\n",
       "      <th>count</th>\n",
       "      <td>91104.000000</td>\n",
       "      <td>91104.000000</td>\n",
       "      <td>91104.000000</td>\n",
       "      <td>91104.000000</td>\n",
       "      <td>91104.000000</td>\n",
       "      <td>91104.000000</td>\n",
       "      <td>91104.000000</td>\n",
       "      <td>91104.000000</td>\n",
       "      <td>91104.000000</td>\n",
       "      <td>91104.000000</td>\n",
       "      <td>...</td>\n",
       "      <td>91104.000000</td>\n",
       "      <td>91104.000000</td>\n",
       "      <td>91104.000000</td>\n",
       "      <td>91104.000000</td>\n",
       "      <td>91104.000000</td>\n",
       "      <td>91104.000000</td>\n",
       "      <td>91104.000000</td>\n",
       "      <td>91104.000000</td>\n",
       "      <td>91104.000000</td>\n",
       "      <td>91104.000000</td>\n",
       "    </tr>\n",
       "    <tr>\n",
       "      <th>mean</th>\n",
       "      <td>-0.148303</td>\n",
       "      <td>-0.084958</td>\n",
       "      <td>1.254369</td>\n",
       "      <td>-0.187906</td>\n",
       "      <td>-0.006333</td>\n",
       "      <td>1.236104</td>\n",
       "      <td>-0.169652</td>\n",
       "      <td>-0.041293</td>\n",
       "      <td>1.176655</td>\n",
       "      <td>-0.134264</td>\n",
       "      <td>...</td>\n",
       "      <td>1.176524</td>\n",
       "      <td>-0.145855</td>\n",
       "      <td>-0.018858</td>\n",
       "      <td>1.112937</td>\n",
       "      <td>-0.092213</td>\n",
       "      <td>-0.039427</td>\n",
       "      <td>1.077790</td>\n",
       "      <td>-0.040437</td>\n",
       "      <td>-0.056682</td>\n",
       "      <td>1.104759</td>\n",
       "    </tr>\n",
       "    <tr>\n",
       "      <th>std</th>\n",
       "      <td>27.286271</td>\n",
       "      <td>27.909568</td>\n",
       "      <td>46.855641</td>\n",
       "      <td>27.765273</td>\n",
       "      <td>28.559648</td>\n",
       "      <td>46.999119</td>\n",
       "      <td>28.626503</td>\n",
       "      <td>28.982204</td>\n",
       "      <td>46.765926</td>\n",
       "      <td>28.193874</td>\n",
       "      <td>...</td>\n",
       "      <td>46.367091</td>\n",
       "      <td>27.301695</td>\n",
       "      <td>27.251507</td>\n",
       "      <td>46.007632</td>\n",
       "      <td>27.150623</td>\n",
       "      <td>27.219451</td>\n",
       "      <td>46.120196</td>\n",
       "      <td>26.833842</td>\n",
       "      <td>26.793117</td>\n",
       "      <td>45.991891</td>\n",
       "    </tr>\n",
       "    <tr>\n",
       "      <th>min</th>\n",
       "      <td>-1914.000000</td>\n",
       "      <td>-1998.000000</td>\n",
       "      <td>-1160.000000</td>\n",
       "      <td>-1914.000000</td>\n",
       "      <td>-1998.000000</td>\n",
       "      <td>-1160.000000</td>\n",
       "      <td>-2305.000000</td>\n",
       "      <td>-1998.000000</td>\n",
       "      <td>-1160.000000</td>\n",
       "      <td>-2305.000000</td>\n",
       "      <td>...</td>\n",
       "      <td>-1160.000000</td>\n",
       "      <td>-1914.000000</td>\n",
       "      <td>-1998.000000</td>\n",
       "      <td>-1160.000000</td>\n",
       "      <td>-1914.000000</td>\n",
       "      <td>-1998.000000</td>\n",
       "      <td>-1160.000000</td>\n",
       "      <td>-2305.000000</td>\n",
       "      <td>-1998.000000</td>\n",
       "      <td>-950.000000</td>\n",
       "    </tr>\n",
       "    <tr>\n",
       "      <th>25%</th>\n",
       "      <td>-2.000000</td>\n",
       "      <td>-2.000000</td>\n",
       "      <td>-4.000000</td>\n",
       "      <td>-2.000000</td>\n",
       "      <td>-2.000000</td>\n",
       "      <td>-4.000000</td>\n",
       "      <td>-2.000000</td>\n",
       "      <td>-2.000000</td>\n",
       "      <td>-4.000000</td>\n",
       "      <td>-2.000000</td>\n",
       "      <td>...</td>\n",
       "      <td>-4.000000</td>\n",
       "      <td>-2.000000</td>\n",
       "      <td>-2.000000</td>\n",
       "      <td>-4.000000</td>\n",
       "      <td>-2.000000</td>\n",
       "      <td>-2.000000</td>\n",
       "      <td>-4.000000</td>\n",
       "      <td>-2.000000</td>\n",
       "      <td>-2.000000</td>\n",
       "      <td>-4.000000</td>\n",
       "    </tr>\n",
       "    <tr>\n",
       "      <th>50%</th>\n",
       "      <td>0.000000</td>\n",
       "      <td>0.000000</td>\n",
       "      <td>0.000000</td>\n",
       "      <td>0.000000</td>\n",
       "      <td>0.000000</td>\n",
       "      <td>0.000000</td>\n",
       "      <td>0.000000</td>\n",
       "      <td>0.000000</td>\n",
       "      <td>0.000000</td>\n",
       "      <td>0.000000</td>\n",
       "      <td>...</td>\n",
       "      <td>0.000000</td>\n",
       "      <td>0.000000</td>\n",
       "      <td>0.000000</td>\n",
       "      <td>0.000000</td>\n",
       "      <td>0.000000</td>\n",
       "      <td>0.000000</td>\n",
       "      <td>0.000000</td>\n",
       "      <td>0.000000</td>\n",
       "      <td>0.000000</td>\n",
       "      <td>0.000000</td>\n",
       "    </tr>\n",
       "    <tr>\n",
       "      <th>75%</th>\n",
       "      <td>3.000000</td>\n",
       "      <td>2.000000</td>\n",
       "      <td>5.000000</td>\n",
       "      <td>3.000000</td>\n",
       "      <td>2.000000</td>\n",
       "      <td>5.000000</td>\n",
       "      <td>3.000000</td>\n",
       "      <td>2.000000</td>\n",
       "      <td>5.000000</td>\n",
       "      <td>3.000000</td>\n",
       "      <td>...</td>\n",
       "      <td>5.000000</td>\n",
       "      <td>3.000000</td>\n",
       "      <td>2.000000</td>\n",
       "      <td>5.000000</td>\n",
       "      <td>3.000000</td>\n",
       "      <td>2.000000</td>\n",
       "      <td>5.000000</td>\n",
       "      <td>3.000000</td>\n",
       "      <td>2.000000</td>\n",
       "      <td>5.000000</td>\n",
       "    </tr>\n",
       "    <tr>\n",
       "      <th>max</th>\n",
       "      <td>542.000000</td>\n",
       "      <td>2001.000000</td>\n",
       "      <td>1169.000000</td>\n",
       "      <td>438.000000</td>\n",
       "      <td>2054.000000</td>\n",
       "      <td>1169.000000</td>\n",
       "      <td>542.000000</td>\n",
       "      <td>2054.000000</td>\n",
       "      <td>1169.000000</td>\n",
       "      <td>542.000000</td>\n",
       "      <td>...</td>\n",
       "      <td>1169.000000</td>\n",
       "      <td>542.000000</td>\n",
       "      <td>2001.000000</td>\n",
       "      <td>1169.000000</td>\n",
       "      <td>542.000000</td>\n",
       "      <td>2054.000000</td>\n",
       "      <td>1169.000000</td>\n",
       "      <td>542.000000</td>\n",
       "      <td>2054.000000</td>\n",
       "      <td>1169.000000</td>\n",
       "    </tr>\n",
       "  </tbody>\n",
       "</table>\n",
       "<p>8 rows × 1200 columns</p>\n",
       "</div>"
      ],
      "text/plain": [
       "               0             1             2             3             4     \\\n",
       "count  91104.000000  91104.000000  91104.000000  91104.000000  91104.000000   \n",
       "mean      -0.148303     -0.084958      1.254369     -0.187906     -0.006333   \n",
       "std       27.286271     27.909568     46.855641     27.765273     28.559648   \n",
       "min    -1914.000000  -1998.000000  -1160.000000  -1914.000000  -1998.000000   \n",
       "25%       -2.000000     -2.000000     -4.000000     -2.000000     -2.000000   \n",
       "50%        0.000000      0.000000      0.000000      0.000000      0.000000   \n",
       "75%        3.000000      2.000000      5.000000      3.000000      2.000000   \n",
       "max      542.000000   2001.000000   1169.000000    438.000000   2054.000000   \n",
       "\n",
       "               5             6             7             8             9     \\\n",
       "count  91104.000000  91104.000000  91104.000000  91104.000000  91104.000000   \n",
       "mean       1.236104     -0.169652     -0.041293      1.176655     -0.134264   \n",
       "std       46.999119     28.626503     28.982204     46.765926     28.193874   \n",
       "min    -1160.000000  -2305.000000  -1998.000000  -1160.000000  -2305.000000   \n",
       "25%       -4.000000     -2.000000     -2.000000     -4.000000     -2.000000   \n",
       "50%        0.000000      0.000000      0.000000      0.000000      0.000000   \n",
       "75%        5.000000      3.000000      2.000000      5.000000      3.000000   \n",
       "max     1169.000000    542.000000   2054.000000   1169.000000    542.000000   \n",
       "\n",
       "           ...               1190          1191          1192          1193  \\\n",
       "count      ...       91104.000000  91104.000000  91104.000000  91104.000000   \n",
       "mean       ...           1.176524     -0.145855     -0.018858      1.112937   \n",
       "std        ...          46.367091     27.301695     27.251507     46.007632   \n",
       "min        ...       -1160.000000  -1914.000000  -1998.000000  -1160.000000   \n",
       "25%        ...          -4.000000     -2.000000     -2.000000     -4.000000   \n",
       "50%        ...           0.000000      0.000000      0.000000      0.000000   \n",
       "75%        ...           5.000000      3.000000      2.000000      5.000000   \n",
       "max        ...        1169.000000    542.000000   2001.000000   1169.000000   \n",
       "\n",
       "               1194          1195          1196          1197          1198  \\\n",
       "count  91104.000000  91104.000000  91104.000000  91104.000000  91104.000000   \n",
       "mean      -0.092213     -0.039427      1.077790     -0.040437     -0.056682   \n",
       "std       27.150623     27.219451     46.120196     26.833842     26.793117   \n",
       "min    -1914.000000  -1998.000000  -1160.000000  -2305.000000  -1998.000000   \n",
       "25%       -2.000000     -2.000000     -4.000000     -2.000000     -2.000000   \n",
       "50%        0.000000      0.000000      0.000000      0.000000      0.000000   \n",
       "75%        3.000000      2.000000      5.000000      3.000000      2.000000   \n",
       "max      542.000000   2054.000000   1169.000000    542.000000   2054.000000   \n",
       "\n",
       "               1199  \n",
       "count  91104.000000  \n",
       "mean       1.104759  \n",
       "std       45.991891  \n",
       "min     -950.000000  \n",
       "25%       -4.000000  \n",
       "50%        0.000000  \n",
       "75%        5.000000  \n",
       "max     1169.000000  \n",
       "\n",
       "[8 rows x 1200 columns]"
      ]
     },
     "execution_count": 15,
     "metadata": {},
     "output_type": "execute_result"
    }
   ],
   "source": [
    "print(xtrain.shape)\n",
    "xtrain.describe()"
   ]
  },
  {
   "cell_type": "code",
   "execution_count": 16,
   "metadata": {
    "collapsed": true
   },
   "outputs": [],
   "source": [
    "import matplotlib.pyplot as plt"
   ]
  },
  {
   "cell_type": "code",
   "execution_count": 17,
   "metadata": {},
   "outputs": [
    {
     "data": {
      "image/png": "[encoded data removed]",
      "text/plain": [
       "<matplotlib.figure.Figure at 0x27620a7f6a0>"
      ]
     },
     "metadata": {},
     "output_type": "display_data"
    }
   ],
   "source": [
    "xtrain[xtrain.columns[0:10:3]].plot()\n",
    "plt.show()"
   ]
  },
  {
   "cell_type": "code",
   "execution_count": 18,
   "metadata": {},
   "outputs": [
    {
     "data": {
      "image/png": "[encoded data removed]",
      "text/plain": [
       "<matplotlib.figure.Figure at 0x276590b0da0>"
      ]
     },
     "metadata": {},
     "output_type": "display_data"
    }
   ],
   "source": [
    "xtrain[xtrain.columns[1100:1120:3]].plot()\n",
    "plt.show()"
   ]
  },
  {
   "cell_type": "code",
   "execution_count": 19,
   "metadata": {},
   "outputs": [
    {
     "data": {
      "image/png": "[encoded data removed]",
      "text/plain": [
       "<matplotlib.figure.Figure at 0x27621f1a5c0>"
      ]
     },
     "metadata": {},
     "output_type": "display_data"
    }
   ],
   "source": [
    "xtrain[xtrain.columns[500:510:3]].plot()\n",
    "plt.show()"
   ]
  },
  {
   "cell_type": "code",
   "execution_count": 20,
   "metadata": {},
   "outputs": [
    {
     "data": {
      "image/png": "[encoded data removed]",
      "text/plain": [
       "<matplotlib.figure.Figure at 0x27620bddcc0>"
      ]
     },
     "metadata": {},
     "output_type": "display_data"
    }
   ],
   "source": [
    "ytrain_sc.hist()\n",
    "plt.show()"
   ]
  },
  {
   "cell_type": "code",
   "execution_count": 21,
   "metadata": {},
   "outputs": [
    {
     "data": {
      "image/png": "[encoded data removed]",
      "text/plain": [
       "<matplotlib.figure.Figure at 0x27620aaca90>"
      ]
     },
     "metadata": {},
     "output_type": "display_data"
    }
   ],
   "source": [
    "ytest_sc.hist()\n",
    "plt.show()"
   ]
  },
  {
   "cell_type": "markdown",
   "metadata": {},
   "source": [
    "## Scaling and transforming data"
   ]
  },
  {
   "cell_type": "code",
   "execution_count": 22,
   "metadata": {
    "collapsed": true
   },
   "outputs": [],
   "source": [
    "scaler = StandardScaler()#QuantileTransformer(output_distribution='normal')\n",
    "xtrain_sc = scaler.fit_transform(xtrain)\n",
    "xtest_sc = scaler.transform(xtest)"
   ]
  },
  {
   "cell_type": "code",
   "execution_count": 23,
   "metadata": {},
   "outputs": [
    {
     "name": "stdout",
     "output_type": "stream",
     "text": [
      "(91104,)\n",
      "(91104, 1200)\n"
     ]
    },
    {
     "data": {
      "text/plain": [
       "numpy.ndarray"
      ]
     },
     "execution_count": 23,
     "metadata": {},
     "output_type": "execute_result"
    }
   ],
   "source": [
    "print(ytrain_sc.shape)\n",
    "print(xtrain_sc.shape)\n",
    "type(xtrain_sc)\n"
   ]
  },
  {
   "cell_type": "code",
   "execution_count": 24,
   "metadata": {},
   "outputs": [
    {
     "data": {
      "image/png": "[encoded data removed]",
      "text/plain": [
       "<matplotlib.figure.Figure at 0x27621c94978>"
      ]
     },
     "metadata": {},
     "output_type": "display_data"
    }
   ],
   "source": [
    "plt.plot(xtrain_sc[:,0:10:3])\n",
    "plt.show()\n"
   ]
  },
  {
   "cell_type": "code",
   "execution_count": 25,
   "metadata": {},
   "outputs": [
    {
     "data": {
      "image/png": "[encoded data removed]",
      "text/plain": [
       "<matplotlib.figure.Figure at 0x27621a87b00>"
      ]
     },
     "metadata": {},
     "output_type": "display_data"
    }
   ],
   "source": [
    "plt.plot(xtest_sc[:,0:10:3])\n",
    "plt.show()"
   ]
  },
  {
   "cell_type": "markdown",
   "metadata": {},
   "source": [
    "# Transform data to mxnet tensors\n",
    "TODO:\n",
    "* make the transformations with mxnet tensors\n",
    "* use compose with mxnet's DataLoader\n"
   ]
  },
  {
   "cell_type": "code",
   "execution_count": 26,
   "metadata": {
    "collapsed": true
   },
   "outputs": [],
   "source": [
    "xtrain_mx = mx.nd.array(xtrain_sc, dtype=np.float32)\n",
    "ytrain_mx = mx.nd.array(ytrain_sc, dtype=np.float32)\n",
    "#print('Shape of mxnet tensor xtrain:', xtrain_mx.shape)\n",
    "#print('Shape of mxnet ytrain:', ytrain_mx.shape)\n",
    "\n",
    "\n",
    "xtest_mx = mx.nd.array(xtest_sc, dtype=np.float32)\n",
    "ytest_mx = mx.nd.array(ytest_sc, dtype=np.float32)\n",
    "#print('Shape of mxnet tensor xtest:', xtest_mx.shape)\n",
    "#print('Shape of mxnet ytest:', ytest_mx.shape)"
   ]
  },
  {
   "cell_type": "markdown",
   "metadata": {},
   "source": [
    "## Load data in MXNet with DataLoader"
   ]
  },
  {
   "cell_type": "code",
   "execution_count": 27,
   "metadata": {
    "collapsed": true
   },
   "outputs": [],
   "source": [
    "batch_size = 2**9\n",
    "train_iter = mx.io.NDArrayIter(xtrain_mx, ytrain_mx, batch_size, shuffle=True)\n",
    "val_iter = mx.io.NDArrayIter(xtest_mx, ytest_mx, batch_size)\n"
   ]
  },
  {
   "cell_type": "code",
   "execution_count": 28,
   "metadata": {},
   "outputs": [
    {
     "data": {
      "text/plain": [
       "<mxnet.io.NDArrayIter at 0x27620ba6198>"
      ]
     },
     "execution_count": 28,
     "metadata": {},
     "output_type": "execute_result"
    }
   ],
   "source": [
    "train_iter"
   ]
  },
  {
   "cell_type": "code",
   "execution_count": null,
   "metadata": {
    "collapsed": true
   },
   "outputs": [],
   "source": []
  },
  {
   "cell_type": "markdown",
   "metadata": {},
   "source": [
    "# MXNet model\n",
    "* Note no activation at the output as this will computed by the loss"
   ]
  },
  {
   "cell_type": "code",
   "execution_count": 37,
   "metadata": {
    "collapsed": true
   },
   "outputs": [],
   "source": [
    "hidden_units = [1200, 500, 75]\n",
    "num_outputs = 1\n",
    "\n",
    "net = mx.sym.Variable('data')\n",
    "net = mx.sym.FullyConnected(net, name='fc1', num_hidden=hidden_units[0])\n",
    "net = mx.sym.Activation(net, name='relu1', act_type=\"relu\")\n",
    "net = mx.sym.FullyConnected(net, name='fc2', num_hidden=hidden_units[1])\n",
    "net = mx.sym.Activation(net, name='relu2', act_type=\"relu\")\n",
    "net = mx.sym.FullyConnected(net, name='fc3', num_hidden=hidden_units[2])\n",
    "net = mx.sym.Activation(net, name='relu3', act_type=\"relu\")\n",
    "net = mx.sym.FullyConnected(net, name='out', num_hidden=num_outputs)\n",
    "net = mx.sym.LogisticRegressionOutput(net, name='softmax')\n"
   ]
  },
  {
   "cell_type": "code",
   "execution_count": null,
   "metadata": {
    "scrolled": false
   },
   "outputs": [
    {
     "name": "stderr",
     "output_type": "stream",
     "text": [
      "WARNING:root:Already bound, ignoring bind()\n",
      "WARNING:root:optimizer already initialized, ignoring...\n",
      "INFO:root:Update[101]: Change learning rate to 9.00000e-03\n",
      "INFO:root:Epoch[0] Train-accuracy=0.903386\n",
      "INFO:root:Epoch[0] Time cost=0.769\n",
      "INFO:root:Epoch[0] Validation-accuracy=0.899132\n",
      "INFO:root:Update[201]: Change learning rate to 8.10000e-03\n",
      "INFO:root:Update[301]: Change learning rate to 7.29000e-03\n",
      "INFO:root:Epoch[1] Train-accuracy=0.903386\n",
      "INFO:root:Epoch[1] Time cost=0.602\n",
      "INFO:root:Epoch[1] Validation-accuracy=0.899132\n",
      "INFO:root:Update[401]: Change learning rate to 6.56100e-03\n",
      "INFO:root:Update[501]: Change learning rate to 5.90490e-03\n",
      "INFO:root:Epoch[2] Train-accuracy=0.903386\n",
      "INFO:root:Epoch[2] Time cost=0.625\n",
      "INFO:root:Epoch[2] Validation-accuracy=0.899132\n",
      "INFO:root:Update[601]: Change learning rate to 5.31441e-03\n",
      "INFO:root:Update[701]: Change learning rate to 4.78297e-03\n",
      "INFO:root:Epoch[3] Train-accuracy=0.903386\n",
      "INFO:root:Epoch[3] Time cost=0.653\n",
      "INFO:root:Epoch[3] Validation-accuracy=0.899132\n",
      "INFO:root:Update[801]: Change learning rate to 4.30467e-03\n"
     ]
    }
   ],
   "source": [
    "train_iter.reset()\n",
    "val_iter.reset()\n",
    "mod = mx.mod.Module(net, context=mx.gpu())\n",
    "mod.bind(data_shapes=train_iter.provide_data, \n",
    "         label_shapes=train_iter.provide_label)\n",
    "\n",
    "mod.init_params(initializer=mx.init.Xavier())\n",
    "\n",
    "lr_sch = mx.lr_scheduler.FactorScheduler(step=100, factor=0.9)\n",
    "\n",
    "mod.init_optimizer(optimizer='sgd', \n",
    "                   optimizer_params=(('learning_rate', 0.01), \n",
    "                                     ('lr_scheduler', lr_sch)))\n",
    "\n",
    "train_iter.reset()\n",
    "mod.fit(train_iter, \n",
    "        eval_data=val_iter, \n",
    "        optimizer='Adam', \n",
    "        optimizer_params={'learning_rate': 0.01},\n",
    "        eval_metric='acc', \n",
    "        num_epoch=20)\n"
   ]
  },
  {
   "cell_type": "code",
   "execution_count": 31,
   "metadata": {},
   "outputs": [
    {
     "data": {
      "text/plain": [
       "['data',\n",
       " 'fc1_weight',\n",
       " 'fc1_bias',\n",
       " 'fc2_weight',\n",
       " 'fc2_bias',\n",
       " 'fc3_weight',\n",
       " 'fc3_bias',\n",
       " 'out_weight',\n",
       " 'out_bias',\n",
       " 'softmax_label']"
      ]
     },
     "execution_count": 31,
     "metadata": {},
     "output_type": "execute_result"
    }
   ],
   "source": [
    "net.list_arguments()"
   ]
  },
  {
   "cell_type": "markdown",
   "metadata": {},
   "source": [
    "### Good example to add layers"
   ]
  },
  {
   "cell_type": "code",
   "execution_count": 32,
   "metadata": {},
   "outputs": [
    {
     "data": {
      "text/plain": [
       "['data',\n",
       " 'layer1_fc_weight',\n",
       " 'layer1_fc_bias',\n",
       " 'layer2_fc_weight',\n",
       " 'layer2_fc_bias',\n",
       " 'layer3_fc_weight',\n",
       " 'layer3_fc_bias',\n",
       " 'layer4_fc_weight',\n",
       " 'layer4_fc_bias',\n",
       " 'layer5_fc_weight',\n",
       " 'layer5_fc_bias']"
      ]
     },
     "execution_count": 32,
     "metadata": {},
     "output_type": "execute_result"
    }
   ],
   "source": [
    "data = mx.sym.Variable(\"data\")\n",
    "net = data\n",
    "n_layer = 5\n",
    "for i in range(n_layer):\n",
    "    with mx.name.Prefix(\"layer{}_\".format(i + 1)):\n",
    "        net = mx.sym.FullyConnected(data=net, name=\"fc\", num_hidden=100)\n",
    "net.list_arguments()"
   ]
  },
  {
   "cell_type": "code",
   "execution_count": 33,
   "metadata": {},
   "outputs": [
    {
     "data": {
      "text/plain": [
       "(['a', 'b'], ['_plus0_output'])"
      ]
     },
     "execution_count": 33,
     "metadata": {},
     "output_type": "execute_result"
    }
   ],
   "source": [
    "a = mx.sym.Variable('a')\n",
    "b = mx.sym.Variable('b')\n",
    "c = a + b\n",
    "(a, b, c)\n",
    "arg_name = c.list_arguments()\n",
    "out_name = c.list_outputs()\n",
    "(arg_name, out_name)"
   ]
  },
  {
   "cell_type": "code",
   "execution_count": 34,
   "metadata": {},
   "outputs": [
    {
     "data": {
      "text/plain": [
       "array([[5., 5., 5., 5.],\n",
       "       [5., 5., 5., 5.],\n",
       "       [5., 5., 5., 5.]], dtype=float32)"
      ]
     },
     "execution_count": 34,
     "metadata": {},
     "output_type": "execute_result"
    }
   ],
   "source": [
    "gpu_device=mx.gpu() # Change this to mx.cpu() in absence of GPUs.\n",
    "\n",
    "ex_gpu = c.bind(ctx=gpu_device, args={'a' : mx.nd.ones([3,4], gpu_device)*2,\n",
    "                                      'b' : mx.nd.ones([3,4], gpu_device)*3})\n",
    "ex_gpu.forward()\n",
    "ex_gpu.outputs[0].asnumpy()"
   ]
  },
  {
   "cell_type": "code",
   "execution_count": null,
   "metadata": {
    "collapsed": true
   },
   "outputs": [],
   "source": []
  },
  {
   "cell_type": "code",
   "execution_count": null,
   "metadata": {
    "collapsed": true
   },
   "outputs": [],
   "source": []
  },
  {
   "cell_type": "code",
   "execution_count": null,
   "metadata": {
    "collapsed": true
   },
   "outputs": [],
   "source": []
  },
  {
   "cell_type": "code",
   "execution_count": null,
   "metadata": {
    "collapsed": true
   },
   "outputs": [],
   "source": []
  },
  {
   "cell_type": "code",
   "execution_count": null,
   "metadata": {
    "collapsed": true
   },
   "outputs": [],
   "source": []
  },
  {
   "cell_type": "code",
   "execution_count": null,
   "metadata": {
    "collapsed": true
   },
   "outputs": [],
   "source": []
  },
  {
   "cell_type": "code",
   "execution_count": null,
   "metadata": {
    "collapsed": true
   },
   "outputs": [],
   "source": []
  },
  {
   "cell_type": "code",
   "execution_count": null,
   "metadata": {
    "collapsed": true
   },
   "outputs": [],
   "source": []
  }
 ],
 "metadata": {
  "kernelspec": {
   "display_name": "Python 3",
   "language": "python",
   "name": "python3"
  },
  "language_info": {
   "codemirror_mode": {
    "name": "ipython",
    "version": 3
   },
   "file_extension": ".py",
   "mimetype": "text/x-python",
   "name": "python",
   "nbconvert_exporter": "python",
   "pygments_lexer": "ipython3",
   "version": "3.5.3"
  }
 },
 "nbformat": 4,
 "nbformat_minor": 2
}
